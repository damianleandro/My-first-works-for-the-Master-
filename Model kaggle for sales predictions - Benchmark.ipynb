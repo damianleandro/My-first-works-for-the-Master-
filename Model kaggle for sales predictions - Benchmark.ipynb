{
 "cells": [
  {
   "cell_type": "markdown",
   "id": "1268c249",
   "metadata": {
    "papermill": {
     "duration": 0.037564,
     "end_time": "2023-02-12T20:43:44.536653",
     "exception": false,
     "start_time": "2023-02-12T20:43:44.499089",
     "status": "completed"
    },
    "tags": []
   },
   "source": [
    "### Objetivos del notebook\n",
    "---\n",
    "En el presente notebook vamos a aprender a utilizar el algoritmo de XGBoost para trabajar con Series Temporales.\n",
    "\n",
    "[XGBoost](https://xgboost.readthedocs.io/en/stable/) es una implementación muy popular del [Gradient Boosting](https://interactivechaos.com/es/manual/tutorial-de-machine-learning/gradient-boosting) y se ha convertido **\"de facto\"** en el benchmark a batir para datos tabulares.\n",
    "\n",
    "A pesar de tener sus carencias para problemas de Series Temporales (por ejemplo: no es capaz de extrapolar una tendencia), el algoritmo es muy versátil y todo Data Scientist debe conocerlo. \n",
    "\n",
    "El dataset con el que vamos a trabajar en este notebook contiene alrededor de **300 Series Temporales** que abarcan el periodo Enero'2013 - Septiembre'2015. Por tanto vamos a trabajar con **Series Temporales Multivariante**.\n",
    "\n",
    "Cada una de estas **Series Temporales** representan las ventas <u>**DIARIAS**</u> de **un artículo en un tienda y ciudad**. El objetivo es predecir las <u>**VENTAS TOTALES DEL MES DE OCTUBRE'2015**</u>.\n",
    "\n",
    "Es decir, partimos de ventas diarias y vamos a tener que <u>**agrupar nuestras ventas por mes**</u> antes de crear variables o entrenar el modelo.\n",
    "\n",
    "Al final del notebook, el alumno debe estar familiarizado con:\n",
    "\n",
    "1. **La importancia de establecer un benchmark (CORE IDEA)** cuando empezamos a trabajar en un problema de Machine Learning. <br>\n",
    "2. Realizar el **análisis exploratorio de datos (EDA)** para conocer el dataset. <br>\n",
    "3. Saber utilizar **pandas de forma eficiente para manipular el dataset (resample de pandas, groupby etc).** <br>\n",
    "4. **Combinar la información de diferentes Series Temporales para generar variables (ventas totales de un artículo, ventas totales de todos los artículos en una tienda) con las que alimentar nuestro modelo XGBoost (CORE IDEA).**<br>\n",
    "5. **Saber identificar las variables autoexplicativas (COREA IDEA)** y sus principales causas.<br>\n",
    "6. Comprender **la importancia de iterar rápido (realizar muchos experimentos) (CORE IDEA)** para testear diferentes hipótesis y variables que se construyen.\n",
    "7. Aprender a hacer el **submit a Kaggle.**\n",
    "\n",
    "---\n",
    "\n",
    "El presente notebook contiene muchas funcionalidades avanzadas que puede requerir varias lecturas para su comprensión.\n",
    "Pensamos que las secciones marcadas con **CORE IDEA** son las que mayor beneficio le reportarán al alumno. Por este motivo, le animamos a que dedique especial atención a estas ideas.\n",
    "\n",
    "Al final del notebook, hay un sección de referencias y lecturas recomendables para que el alumno pueda seguir profundizando en estos conceptos.\n",
    "\n",
    "---"
   ]
  },
  {
   "cell_type": "markdown",
   "id": "e3aee203",
   "metadata": {
    "papermill": {
     "duration": 0.030285,
     "end_time": "2023-02-12T20:43:44.609138",
     "exception": false,
     "start_time": "2023-02-12T20:43:44.578853",
     "status": "completed"
    },
    "tags": []
   },
   "source": [
    "### Índice\n",
    "<a id='index'></a>\n",
    "\n",
    "[Imports del notebook](#imports_notebook)<br>\n",
    "[Helpers Time Series](#helpers)<br>\n",
    "[Data Loading](#data_load)<br>\n",
    "[La idea del Benchmark (**CORE IDEA**)](#benchmark)<br>\n",
    "[Agrupación de las ventas por mes (**CORE IDEA**)](#monthly_agg)<br>\n",
    "[Data Imputation](#impute)<br>\n",
    "[EDA](#eda)<br>\n",
    "[--> 1. EDA: Global Sales](#eda_global_sales)<br>\n",
    "[--> 2. EDA: Top 3 Cities](#eda_top_3_cities)<br>\n",
    "[--> 3. EDA: Top 3 Categories](#eda_top_3_categories)<br>\n",
    "[Build Time Series Features (**CORE IDEA**)](#build_ts_features)<br>\n",
    "[Join TS Features](#join_ts_features)<br>\n",
    "[Train Test Split](#train_test_split)<br>\n",
    "[Model Train](#model_train)<br>\n",
    "[Model Evaluation (**COREA IDEA**)](#model_evaluation)<br>\n",
    "[Prediction](#prediction)<br>\n",
    "\n",
    "### Conclusión\n",
    "[Conclusión](#conclusion)<br>\n",
    "\n",
    "### Referencias\n",
    "[Referencias y lecturas recomendables](#referencias)<br>"
   ]
  },
  {
   "cell_type": "markdown",
   "id": "52bc4e17",
   "metadata": {
    "papermill": {
     "duration": 0.029472,
     "end_time": "2023-02-12T20:43:44.669069",
     "exception": false,
     "start_time": "2023-02-12T20:43:44.639597",
     "status": "completed"
    },
    "tags": []
   },
   "source": [
    "<a id='imports_notebook'></a>\n",
    "### Imports del notebook\n",
    "[Volver al índice](#index)\n",
    "\n",
    "En este apartado hacemos los principales imports del notebook.<br>\n",
    "Sobre todo vamos a trabajar con **numpy**, **pandas**, **statsmodels** y **XGBoost**."
   ]
  },
  {
   "cell_type": "code",
   "execution_count": 1,
   "id": "fad325c9",
   "metadata": {
    "execution": {
     "iopub.execute_input": "2023-02-12T20:43:44.731710Z",
     "iopub.status.busy": "2023-02-12T20:43:44.730942Z",
     "iopub.status.idle": "2023-02-12T20:43:46.045307Z",
     "shell.execute_reply": "2023-02-12T20:43:46.044195Z"
    },
    "papermill": {
     "duration": 1.349292,
     "end_time": "2023-02-12T20:43:46.048362",
     "exception": false,
     "start_time": "2023-02-12T20:43:44.699070",
     "status": "completed"
    },
    "tags": []
   },
   "outputs": [],
   "source": [
    "import pickle\n",
    "import os\n",
    "\n",
    "from datetime import datetime\n",
    "import pandas as pd\n",
    "import numpy as np\n",
    "\n",
    "import matplotlib.pyplot as plt\n",
    "%matplotlib inline\n",
    "\n",
    "from sklearn.metrics import mean_squared_error\n",
    "from sklearn.preprocessing import OrdinalEncoder\n",
    "\n",
    "import xgboost as xgb\n",
    "\n",
    "from statsmodels.graphics.tsaplots import plot_acf, plot_pacf\n"
   ]
  },
  {
   "cell_type": "code",
   "execution_count": 2,
   "id": "c394f907",
   "metadata": {
    "execution": {
     "iopub.execute_input": "2023-02-12T20:43:46.110280Z",
     "iopub.status.busy": "2023-02-12T20:43:46.109902Z",
     "iopub.status.idle": "2023-02-12T20:43:46.115823Z",
     "shell.execute_reply": "2023-02-12T20:43:46.114781Z"
    },
    "papermill": {
     "duration": 0.041384,
     "end_time": "2023-02-12T20:43:46.120232",
     "exception": false,
     "start_time": "2023-02-12T20:43:46.078848",
     "status": "completed"
    },
    "tags": []
   },
   "outputs": [
    {
     "name": "stdout",
     "output_type": "stream",
     "text": [
      "Working with these versions of libraries\n",
      "\n",
      "Numpy version 1.21.6\n",
      "Pandas version 1.3.5\n",
      "XGBoost version 1.6.2\n"
     ]
    }
   ],
   "source": [
    "print(\"Working with these versions of libraries\\n\")\n",
    "print(f\"Numpy version {np.__version__}\")\n",
    "print(f\"Pandas version {pd.__version__}\")\n",
    "print(f\"XGBoost version {xgb.__version__}\")"
   ]
  },
  {
   "cell_type": "code",
   "execution_count": 3,
   "id": "933eead4",
   "metadata": {
    "execution": {
     "iopub.execute_input": "2023-02-12T20:43:46.185506Z",
     "iopub.status.busy": "2023-02-12T20:43:46.184523Z",
     "iopub.status.idle": "2023-02-12T20:43:46.190426Z",
     "shell.execute_reply": "2023-02-12T20:43:46.189550Z"
    },
    "papermill": {
     "duration": 0.039554,
     "end_time": "2023-02-12T20:43:46.192713",
     "exception": false,
     "start_time": "2023-02-12T20:43:46.153159",
     "status": "completed"
    },
    "tags": []
   },
   "outputs": [],
   "source": [
    "# GLOBAL_VARIABLES\n",
    "DATA_PATH = \"/kaggle/input/nuclio14-dsc-0922\"\n",
    "\n",
    "TRAIN_CSV_PATH = os.path.join(DATA_PATH, \"sales_train_merged.csv\")\n",
    "\n",
    "ORDER_COLUMNS = [\n",
    "    'DATE',\n",
    "    'UNIQUE_ID',\n",
    "    'CITY_NAME',\n",
    "    'CITY_ID',\n",
    "    'SHOP_NAME',\n",
    "    'SHOP_ID',\n",
    "    'ITEM_CATEGORY_NAME',\n",
    "    'ITEM_CATEGORY_ID',\n",
    "    'ITEM_NAME',\n",
    "    'ITEM_ID',\n",
    "    'ITEM_PRICE',\n",
    "    'SALES'\n",
    "]"
   ]
  },
  {
   "cell_type": "markdown",
   "id": "90a47524",
   "metadata": {
    "papermill": {
     "duration": 0.029568,
     "end_time": "2023-02-12T20:43:46.252259",
     "exception": false,
     "start_time": "2023-02-12T20:43:46.222691",
     "status": "completed"
    },
    "tags": []
   },
   "source": [
    "<a id='helpers'></a>\n",
    "### Helpers Time Series\n",
    "[Volver al índice](#index)\n",
    "\n",
    "En este apartado definimos varias funciones auxiliares que utilizaremos a lo largo del notebook."
   ]
  },
  {
   "cell_type": "code",
   "execution_count": 4,
   "id": "b11223bc",
   "metadata": {
    "execution": {
     "iopub.execute_input": "2023-02-12T20:43:46.314659Z",
     "iopub.status.busy": "2023-02-12T20:43:46.313812Z",
     "iopub.status.idle": "2023-02-12T20:43:46.319673Z",
     "shell.execute_reply": "2023-02-12T20:43:46.318853Z"
    },
    "papermill": {
     "duration": 0.039638,
     "end_time": "2023-02-12T20:43:46.321913",
     "exception": false,
     "start_time": "2023-02-12T20:43:46.282275",
     "status": "completed"
    },
    "tags": []
   },
   "outputs": [],
   "source": [
    "def load_data(path_data_file):\n",
    "    '''\n",
    "    Loads the csv file for training.\n",
    "    '''\n",
    "    df = pd.read_csv(path_data_file, index_col = 0)\n",
    "    \n",
    "    df = preprocess_df(df)\n",
    "    \n",
    "    return df"
   ]
  },
  {
   "cell_type": "code",
   "execution_count": 5,
   "id": "9fc7f66c",
   "metadata": {
    "execution": {
     "iopub.execute_input": "2023-02-12T20:43:46.384239Z",
     "iopub.status.busy": "2023-02-12T20:43:46.383457Z",
     "iopub.status.idle": "2023-02-12T20:43:46.390192Z",
     "shell.execute_reply": "2023-02-12T20:43:46.389473Z"
    },
    "papermill": {
     "duration": 0.040324,
     "end_time": "2023-02-12T20:43:46.392259",
     "exception": false,
     "start_time": "2023-02-12T20:43:46.351935",
     "status": "completed"
    },
    "tags": []
   },
   "outputs": [],
   "source": [
    "def preprocess_df(df):\n",
    "    '''\n",
    "    Preprocess df: upper columns, str date to datetime etc.\n",
    "    '''\n",
    "    df.columns = map(str.upper, df.columns)\n",
    "    df[\"DATE\"] = pd.to_datetime(df[\"DATE\"], format = \"%Y-%m-%d\")\n",
    "    \n",
    "    df[\"CITY_ID\"] = OrdinalEncoder().fit_transform(df[[\"CITY\"]])\n",
    "    \n",
    "    df.rename(columns = {\"CITY\":\"CITY_NAME\", \"ITEM_CNT_DAY\":\"SALES\"}, inplace = True)\n",
    "    df = df[ORDER_COLUMNS]\n",
    "    \n",
    "    return df"
   ]
  },
  {
   "cell_type": "markdown",
   "id": "9af40ddb",
   "metadata": {
    "papermill": {
     "duration": 0.030134,
     "end_time": "2023-02-12T20:43:46.452389",
     "exception": false,
     "start_time": "2023-02-12T20:43:46.422255",
     "status": "completed"
    },
    "tags": []
   },
   "source": [
    "<a id='data_load'></a>\n",
    "### Data Loading\n",
    "[Volver al índice](#index)\n",
    "\n",
    "Vamos a cargar nuestro dataset para comÇenzar con el EDA."
   ]
  },
  {
   "cell_type": "code",
   "execution_count": 6,
   "id": "9469c068",
   "metadata": {
    "execution": {
     "iopub.execute_input": "2023-02-12T20:43:46.520062Z",
     "iopub.status.busy": "2023-02-12T20:43:46.518773Z",
     "iopub.status.idle": "2023-02-12T20:43:47.064716Z",
     "shell.execute_reply": "2023-02-12T20:43:47.063566Z"
    },
    "papermill": {
     "duration": 0.584807,
     "end_time": "2023-02-12T20:43:47.067586",
     "exception": false,
     "start_time": "2023-02-12T20:43:46.482779",
     "status": "completed"
    },
    "tags": []
   },
   "outputs": [
    {
     "data": {
      "text/html": [
       "<div>\n",
       "<style scoped>\n",
       "    .dataframe tbody tr th:only-of-type {\n",
       "        vertical-align: middle;\n",
       "    }\n",
       "\n",
       "    .dataframe tbody tr th {\n",
       "        vertical-align: top;\n",
       "    }\n",
       "\n",
       "    .dataframe thead th {\n",
       "        text-align: right;\n",
       "    }\n",
       "</style>\n",
       "<table border=\"1\" class=\"dataframe\">\n",
       "  <thead>\n",
       "    <tr style=\"text-align: right;\">\n",
       "      <th></th>\n",
       "      <th>DATE</th>\n",
       "      <th>UNIQUE_ID</th>\n",
       "      <th>CITY_NAME</th>\n",
       "      <th>CITY_ID</th>\n",
       "      <th>SHOP_NAME</th>\n",
       "      <th>SHOP_ID</th>\n",
       "      <th>ITEM_CATEGORY_NAME</th>\n",
       "      <th>ITEM_CATEGORY_ID</th>\n",
       "      <th>ITEM_NAME</th>\n",
       "      <th>ITEM_ID</th>\n",
       "      <th>ITEM_PRICE</th>\n",
       "      <th>SALES</th>\n",
       "    </tr>\n",
       "  </thead>\n",
       "  <tbody>\n",
       "    <tr>\n",
       "      <th>47760</th>\n",
       "      <td>2014-08-29</td>\n",
       "      <td>57-4181</td>\n",
       "      <td>Yakutsk</td>\n",
       "      <td>23.0</td>\n",
       "      <td>Yakutsk Ordzhonikidze, 56</td>\n",
       "      <td>57</td>\n",
       "      <td>Programa - Para el hogar y la oficina</td>\n",
       "      <td>75</td>\n",
       "      <td>Kaspersky Internet Security Multi-Device Edici...</td>\n",
       "      <td>4181</td>\n",
       "      <td>1190.0</td>\n",
       "      <td>1.0</td>\n",
       "    </tr>\n",
       "    <tr>\n",
       "      <th>23930</th>\n",
       "      <td>2013-12-17</td>\n",
       "      <td>16-20949</td>\n",
       "      <td>Kolomna</td>\n",
       "      <td>4.0</td>\n",
       "      <td>centro comercial kolomna \"Río\"</td>\n",
       "      <td>16</td>\n",
       "      <td>Regalos - Bolsas, álbumes, Mats d / ratón</td>\n",
       "      <td>71</td>\n",
       "      <td>Paquete corporativo Mike 1C Interés blanco (34...</td>\n",
       "      <td>20949</td>\n",
       "      <td>5.0</td>\n",
       "      <td>8.0</td>\n",
       "    </tr>\n",
       "    <tr>\n",
       "      <th>83373</th>\n",
       "      <td>2015-08-07</td>\n",
       "      <td>31-17717</td>\n",
       "      <td>Moscú</td>\n",
       "      <td>7.0</td>\n",
       "      <td>centro comercial de Moscú \"Semenov\"</td>\n",
       "      <td>31</td>\n",
       "      <td>Herramientas de sistema</td>\n",
       "      <td>79</td>\n",
       "      <td>Recibir fondos para 1c-online</td>\n",
       "      <td>17717</td>\n",
       "      <td>2000.0</td>\n",
       "      <td>2.0</td>\n",
       "    </tr>\n",
       "    <tr>\n",
       "      <th>13664</th>\n",
       "      <td>2013-08-27</td>\n",
       "      <td>26-20949</td>\n",
       "      <td>Moscú</td>\n",
       "      <td>7.0</td>\n",
       "      <td>centro comercial \"zona\" de Moscú (Belyaevo)</td>\n",
       "      <td>26</td>\n",
       "      <td>Regalos - Bolsas, álbumes, Mats d / ratón</td>\n",
       "      <td>71</td>\n",
       "      <td>Paquete corporativo Mike 1C Interés blanco (34...</td>\n",
       "      <td>20949</td>\n",
       "      <td>5.0</td>\n",
       "      <td>9.0</td>\n",
       "    </tr>\n",
       "    <tr>\n",
       "      <th>50220</th>\n",
       "      <td>2014-09-20</td>\n",
       "      <td>4-20949</td>\n",
       "      <td>Volzhski</td>\n",
       "      <td>21.0</td>\n",
       "      <td>Volzhski centro comercial \"Volga Mall\"</td>\n",
       "      <td>4</td>\n",
       "      <td>Regalos - Bolsas, álbumes, Mats d / ratón</td>\n",
       "      <td>71</td>\n",
       "      <td>Paquete corporativo Mike 1C Interés blanco (34...</td>\n",
       "      <td>20949</td>\n",
       "      <td>5.0</td>\n",
       "      <td>4.0</td>\n",
       "    </tr>\n",
       "  </tbody>\n",
       "</table>\n",
       "</div>"
      ],
      "text/plain": [
       "            DATE UNIQUE_ID CITY_NAME  CITY_ID  \\\n",
       "47760 2014-08-29   57-4181   Yakutsk     23.0   \n",
       "23930 2013-12-17  16-20949   Kolomna      4.0   \n",
       "83373 2015-08-07  31-17717     Moscú      7.0   \n",
       "13664 2013-08-27  26-20949     Moscú      7.0   \n",
       "50220 2014-09-20   4-20949  Volzhski     21.0   \n",
       "\n",
       "                                         SHOP_NAME  SHOP_ID  \\\n",
       "47760                    Yakutsk Ordzhonikidze, 56       57   \n",
       "23930               centro comercial kolomna \"Río\"       16   \n",
       "83373          centro comercial de Moscú \"Semenov\"       31   \n",
       "13664  centro comercial \"zona\" de Moscú (Belyaevo)       26   \n",
       "50220       Volzhski centro comercial \"Volga Mall\"        4   \n",
       "\n",
       "                              ITEM_CATEGORY_NAME  ITEM_CATEGORY_ID  \\\n",
       "47760      Programa - Para el hogar y la oficina                75   \n",
       "23930  Regalos - Bolsas, álbumes, Mats d / ratón                71   \n",
       "83373                    Herramientas de sistema                79   \n",
       "13664  Regalos - Bolsas, álbumes, Mats d / ratón                71   \n",
       "50220  Regalos - Bolsas, álbumes, Mats d / ratón                71   \n",
       "\n",
       "                                               ITEM_NAME  ITEM_ID  ITEM_PRICE  \\\n",
       "47760  Kaspersky Internet Security Multi-Device Edici...     4181      1190.0   \n",
       "23930  Paquete corporativo Mike 1C Interés blanco (34...    20949         5.0   \n",
       "83373                      Recibir fondos para 1c-online    17717      2000.0   \n",
       "13664  Paquete corporativo Mike 1C Interés blanco (34...    20949         5.0   \n",
       "50220  Paquete corporativo Mike 1C Interés blanco (34...    20949         5.0   \n",
       "\n",
       "       SALES  \n",
       "47760    1.0  \n",
       "23930    8.0  \n",
       "83373    2.0  \n",
       "13664    9.0  \n",
       "50220    4.0  "
      ]
     },
     "execution_count": 6,
     "metadata": {},
     "output_type": "execute_result"
    }
   ],
   "source": [
    "df = load_data(path_data_file = TRAIN_CSV_PATH)\n",
    "df.sample(5)"
   ]
  },
  {
   "cell_type": "markdown",
   "id": "3d2a46f8",
   "metadata": {
    "papermill": {
     "duration": 0.030856,
     "end_time": "2023-02-12T20:43:47.129731",
     "exception": false,
     "start_time": "2023-02-12T20:43:47.098875",
     "status": "completed"
    },
    "tags": []
   },
   "source": [
    "Vamos a ver que tipo de datos tenemos en nuestro dataset."
   ]
  },
  {
   "cell_type": "code",
   "execution_count": 7,
   "id": "209aaaf2",
   "metadata": {
    "execution": {
     "iopub.execute_input": "2023-02-12T20:43:47.192302Z",
     "iopub.status.busy": "2023-02-12T20:43:47.191640Z",
     "iopub.status.idle": "2023-02-12T20:43:47.228672Z",
     "shell.execute_reply": "2023-02-12T20:43:47.227294Z"
    },
    "papermill": {
     "duration": 0.071061,
     "end_time": "2023-02-12T20:43:47.231262",
     "exception": false,
     "start_time": "2023-02-12T20:43:47.160201",
     "status": "completed"
    },
    "tags": []
   },
   "outputs": [
    {
     "name": "stdout",
     "output_type": "stream",
     "text": [
      "<class 'pandas.core.frame.DataFrame'>\n",
      "Int64Index: 87963 entries, 0 to 87962\n",
      "Data columns (total 12 columns):\n",
      " #   Column              Non-Null Count  Dtype         \n",
      "---  ------              --------------  -----         \n",
      " 0   DATE                87963 non-null  datetime64[ns]\n",
      " 1   UNIQUE_ID           87963 non-null  object        \n",
      " 2   CITY_NAME           87963 non-null  object        \n",
      " 3   CITY_ID             87963 non-null  float64       \n",
      " 4   SHOP_NAME           87963 non-null  object        \n",
      " 5   SHOP_ID             87963 non-null  int64         \n",
      " 6   ITEM_CATEGORY_NAME  87963 non-null  object        \n",
      " 7   ITEM_CATEGORY_ID    87963 non-null  int64         \n",
      " 8   ITEM_NAME           87963 non-null  object        \n",
      " 9   ITEM_ID             87963 non-null  int64         \n",
      " 10  ITEM_PRICE          87963 non-null  float64       \n",
      " 11  SALES               87963 non-null  float64       \n",
      "dtypes: datetime64[ns](1), float64(3), int64(3), object(5)\n",
      "memory usage: 8.7+ MB\n"
     ]
    }
   ],
   "source": [
    "df.info()"
   ]
  },
  {
   "cell_type": "code",
   "execution_count": 8,
   "id": "5f27f3a8",
   "metadata": {
    "execution": {
     "iopub.execute_input": "2023-02-12T20:43:47.294688Z",
     "iopub.status.busy": "2023-02-12T20:43:47.294267Z",
     "iopub.status.idle": "2023-02-12T20:43:47.322337Z",
     "shell.execute_reply": "2023-02-12T20:43:47.320909Z"
    },
    "papermill": {
     "duration": 0.062789,
     "end_time": "2023-02-12T20:43:47.325109",
     "exception": false,
     "start_time": "2023-02-12T20:43:47.262320",
     "status": "completed"
    },
    "tags": []
   },
   "outputs": [
    {
     "data": {
      "text/html": [
       "<div>\n",
       "<style scoped>\n",
       "    .dataframe tbody tr th:only-of-type {\n",
       "        vertical-align: middle;\n",
       "    }\n",
       "\n",
       "    .dataframe tbody tr th {\n",
       "        vertical-align: top;\n",
       "    }\n",
       "\n",
       "    .dataframe thead th {\n",
       "        text-align: right;\n",
       "    }\n",
       "</style>\n",
       "<table border=\"1\" class=\"dataframe\">\n",
       "  <thead>\n",
       "    <tr style=\"text-align: right;\">\n",
       "      <th></th>\n",
       "      <th>CITY_ID</th>\n",
       "      <th>SHOP_ID</th>\n",
       "      <th>ITEM_CATEGORY_ID</th>\n",
       "      <th>ITEM_ID</th>\n",
       "      <th>ITEM_PRICE</th>\n",
       "      <th>SALES</th>\n",
       "    </tr>\n",
       "  </thead>\n",
       "  <tbody>\n",
       "    <tr>\n",
       "      <th>CITY_ID</th>\n",
       "      <td>1.000000</td>\n",
       "      <td>0.433086</td>\n",
       "      <td>-0.015040</td>\n",
       "      <td>0.038986</td>\n",
       "      <td>-0.058321</td>\n",
       "      <td>-0.019861</td>\n",
       "    </tr>\n",
       "    <tr>\n",
       "      <th>SHOP_ID</th>\n",
       "      <td>0.433086</td>\n",
       "      <td>1.000000</td>\n",
       "      <td>-0.112969</td>\n",
       "      <td>-0.059713</td>\n",
       "      <td>-0.027541</td>\n",
       "      <td>-0.031857</td>\n",
       "    </tr>\n",
       "    <tr>\n",
       "      <th>ITEM_CATEGORY_ID</th>\n",
       "      <td>-0.015040</td>\n",
       "      <td>-0.112969</td>\n",
       "      <td>1.000000</td>\n",
       "      <td>0.600588</td>\n",
       "      <td>-0.402852</td>\n",
       "      <td>0.129128</td>\n",
       "    </tr>\n",
       "    <tr>\n",
       "      <th>ITEM_ID</th>\n",
       "      <td>0.038986</td>\n",
       "      <td>-0.059713</td>\n",
       "      <td>0.600588</td>\n",
       "      <td>1.000000</td>\n",
       "      <td>-0.530723</td>\n",
       "      <td>0.221458</td>\n",
       "    </tr>\n",
       "    <tr>\n",
       "      <th>ITEM_PRICE</th>\n",
       "      <td>-0.058321</td>\n",
       "      <td>-0.027541</td>\n",
       "      <td>-0.402852</td>\n",
       "      <td>-0.530723</td>\n",
       "      <td>1.000000</td>\n",
       "      <td>-0.163048</td>\n",
       "    </tr>\n",
       "    <tr>\n",
       "      <th>SALES</th>\n",
       "      <td>-0.019861</td>\n",
       "      <td>-0.031857</td>\n",
       "      <td>0.129128</td>\n",
       "      <td>0.221458</td>\n",
       "      <td>-0.163048</td>\n",
       "      <td>1.000000</td>\n",
       "    </tr>\n",
       "  </tbody>\n",
       "</table>\n",
       "</div>"
      ],
      "text/plain": [
       "                   CITY_ID   SHOP_ID  ITEM_CATEGORY_ID   ITEM_ID  ITEM_PRICE  \\\n",
       "CITY_ID           1.000000  0.433086         -0.015040  0.038986   -0.058321   \n",
       "SHOP_ID           0.433086  1.000000         -0.112969 -0.059713   -0.027541   \n",
       "ITEM_CATEGORY_ID -0.015040 -0.112969          1.000000  0.600588   -0.402852   \n",
       "ITEM_ID           0.038986 -0.059713          0.600588  1.000000   -0.530723   \n",
       "ITEM_PRICE       -0.058321 -0.027541         -0.402852 -0.530723    1.000000   \n",
       "SALES            -0.019861 -0.031857          0.129128  0.221458   -0.163048   \n",
       "\n",
       "                     SALES  \n",
       "CITY_ID          -0.019861  \n",
       "SHOP_ID          -0.031857  \n",
       "ITEM_CATEGORY_ID  0.129128  \n",
       "ITEM_ID           0.221458  \n",
       "ITEM_PRICE       -0.163048  \n",
       "SALES             1.000000  "
      ]
     },
     "execution_count": 8,
     "metadata": {},
     "output_type": "execute_result"
    }
   ],
   "source": [
    "df.corr()"
   ]
  },
  {
   "cell_type": "markdown",
   "id": "1a6de336",
   "metadata": {
    "papermill": {
     "duration": 0.029772,
     "end_time": "2023-02-12T20:43:47.385677",
     "exception": false,
     "start_time": "2023-02-12T20:43:47.355905",
     "status": "completed"
    },
    "tags": []
   },
   "source": [
    "<a id='benchmark'></a>\n",
    "### La idea del Benchmark (CORE IDEA)\n",
    "[Volver al índice](#index)"
   ]
  },
  {
   "cell_type": "markdown",
   "id": "208c8a25",
   "metadata": {
    "papermill": {
     "duration": 0.030087,
     "end_time": "2023-02-12T20:43:47.446091",
     "exception": false,
     "start_time": "2023-02-12T20:43:47.416004",
     "status": "completed"
    },
    "tags": []
   },
   "source": [
    "En el presente notebook buscamos establecer un benchmark rápido. \n",
    "\n",
    "El motivo fundamental es porque los datasets en la vida real son muy complejos y no tenemos el \"lujo\" de poder analizar todas y cada una de las variables <u>**ANTES DE ENTRENAR NUESTRO PRIMER MODELO.</u>**\n",
    "\n",
    "Establecer un benchmark nos ayuda a entender cual es el punto de partida, es decir: <u>**cual es el score mínimo para este dataset.**</u>\n",
    "\n",
    "Muchas veces este benchmark puede ser un modelo entrenado con 5 columnas númericas (imputando los nulos con la media). <u>**No se trata de tener el mejor modelo sino de entrenar el primer modelo.**</u> \n",
    "\n",
    "Una vez sabemos cual es el punto de partida y tenemos un notebook **\"funcional\"** podemos empezar a experimentar con nuestro dataset. Por \"notebook funcional\" entendemos un script/notebook que podemos ejecutar en su totalidad (loading del dataset, preprocessing, train_test_split, train y predict). En cada experimento iremos añadiendo nuevas variables, diferentes imputaciones, modelos y vamos guardando el score que obtenemos. De este manera, podemos ver la contribución de cada variables y comprobar si estamos mejorando o no respecto al benchmark.\n",
    "\n",
    "Dado que este notebook es un benchmark, tenemos que **\"acotar\"** muy bien las cosas que vamos a implementar (para no irnos por las ramas).\n",
    "\n",
    "A **grosso modo** vamos a hacer las siguientes cosas:\n",
    "\n",
    "1. Ver cuantas Series Temporales tenemos en el dataset.\n",
    "2. Hacer un check de si tenemos todas las fechas históricas en el dataset.\n",
    "3. Generar las fechas que puedan estar missing.\n",
    "4. Tratar los nulos.\n",
    "5. Crear algunas variables rápidas para el entrenamiento.\n",
    "6. Entrenar el algoritmo.\n",
    "7. Evaluar el modelo.\n",
    "8. Hacer el submit.\n",
    "\n",
    "Empecemos:"
   ]
  },
  {
   "cell_type": "markdown",
   "id": "7f6b370e",
   "metadata": {
    "execution": {
     "iopub.execute_input": "2022-12-22T22:32:00.326712Z",
     "iopub.status.busy": "2022-12-22T22:32:00.326289Z",
     "iopub.status.idle": "2022-12-22T22:32:00.341842Z",
     "shell.execute_reply": "2022-12-22T22:32:00.340543Z",
     "shell.execute_reply.started": "2022-12-22T22:32:00.326673Z"
    },
    "papermill": {
     "duration": 0.03014,
     "end_time": "2023-02-12T20:43:47.506730",
     "exception": false,
     "start_time": "2023-02-12T20:43:47.476590",
     "status": "completed"
    },
    "tags": []
   },
   "source": [
    "Tenemos un total de 299 Series Temporales en el dataset:"
   ]
  },
  {
   "cell_type": "code",
   "execution_count": 9,
   "id": "cab7bdfb",
   "metadata": {
    "execution": {
     "iopub.execute_input": "2023-02-12T20:43:47.570384Z",
     "iopub.status.busy": "2023-02-12T20:43:47.569654Z",
     "iopub.status.idle": "2023-02-12T20:43:47.583131Z",
     "shell.execute_reply": "2023-02-12T20:43:47.582057Z"
    },
    "papermill": {
     "duration": 0.047064,
     "end_time": "2023-02-12T20:43:47.585282",
     "exception": false,
     "start_time": "2023-02-12T20:43:47.538218",
     "status": "completed"
    },
    "tags": []
   },
   "outputs": [
    {
     "data": {
      "text/plain": [
       "299"
      ]
     },
     "execution_count": 9,
     "metadata": {},
     "output_type": "execute_result"
    }
   ],
   "source": [
    "df[\"UNIQUE_ID\"].nunique()"
   ]
  },
  {
   "cell_type": "markdown",
   "id": "e4e30444",
   "metadata": {
    "papermill": {
     "duration": 0.029897,
     "end_time": "2023-02-12T20:43:47.645030",
     "exception": false,
     "start_time": "2023-02-12T20:43:47.615133",
     "status": "completed"
    },
    "tags": []
   },
   "source": [
    "Veamos cuales son las fechas min y max de nuestro dataset:"
   ]
  },
  {
   "cell_type": "code",
   "execution_count": 10,
   "id": "da6f9471",
   "metadata": {
    "execution": {
     "iopub.execute_input": "2023-02-12T20:43:47.707166Z",
     "iopub.status.busy": "2023-02-12T20:43:47.706360Z",
     "iopub.status.idle": "2023-02-12T20:43:47.712786Z",
     "shell.execute_reply": "2023-02-12T20:43:47.711810Z"
    },
    "papermill": {
     "duration": 0.039974,
     "end_time": "2023-02-12T20:43:47.715032",
     "exception": false,
     "start_time": "2023-02-12T20:43:47.675058",
     "status": "completed"
    },
    "tags": []
   },
   "outputs": [],
   "source": [
    "MIN_DATE = df[\"DATE\"].min()\n",
    "MAX_DATE = df[\"DATE\"].max()"
   ]
  },
  {
   "cell_type": "code",
   "execution_count": 11,
   "id": "e445f755",
   "metadata": {
    "execution": {
     "iopub.execute_input": "2023-02-12T20:43:47.777957Z",
     "iopub.status.busy": "2023-02-12T20:43:47.777301Z",
     "iopub.status.idle": "2023-02-12T20:43:47.783673Z",
     "shell.execute_reply": "2023-02-12T20:43:47.782269Z"
    },
    "papermill": {
     "duration": 0.040655,
     "end_time": "2023-02-12T20:43:47.786080",
     "exception": false,
     "start_time": "2023-02-12T20:43:47.745425",
     "status": "completed"
    },
    "tags": []
   },
   "outputs": [
    {
     "name": "stdout",
     "output_type": "stream",
     "text": [
      "Min date is 2013-01-01 00:00:00\n",
      "Max date is 2015-09-30 00:00:00\n"
     ]
    }
   ],
   "source": [
    "print(f\"Min date is {MIN_DATE}\\nMax date is {MAX_DATE}\")"
   ]
  },
  {
   "cell_type": "markdown",
   "id": "dc1ed433",
   "metadata": {
    "papermill": {
     "duration": 0.030795,
     "end_time": "2023-02-12T20:43:47.847623",
     "exception": false,
     "start_time": "2023-02-12T20:43:47.816828",
     "status": "completed"
    },
    "tags": []
   },
   "source": [
    "<a id='monthly_agg'></a>\n",
    "### Agrupación de las ventas por mes\n",
    "[Volver al índice](#index)"
   ]
  },
  {
   "cell_type": "markdown",
   "id": "b101ba18",
   "metadata": {
    "papermill": {
     "duration": 0.030505,
     "end_time": "2023-02-12T20:43:47.909375",
     "exception": false,
     "start_time": "2023-02-12T20:43:47.878870",
     "status": "completed"
    },
    "tags": []
   },
   "source": [
    "En esta competición nos piden que hagamos el predict de las ventas totales del mes de Octubre'2015 para cada ITEM_ID y SHOP_ID.\n",
    "\n",
    "No obstante, si miramos el dataset con detenimiento, veremos que las ventas reportadas vienen por día. Ahora mismo tenemos 2 opciones: \n",
    "\n",
    "1. Podemos entrenar un modelo con las ventas diarias, predecir 30 días y luego sumar las 30 predicciones y obtener el valor para Octubre'2015.\n",
    "2. Agrupar las ventas por mes, entrenar un modelo con las ventas mensuales y hacer 1 predict (mes de Octubre'2015).\n",
    "\n",
    "Claramente la segunda opción es mucho más sencilla, por este motivo vamos a seguir este enfoque.\n",
    "\n",
    "Nota: Si observamos bien, UNIQUE_ID = SHOP_ID + ITEM_ID."
   ]
  },
  {
   "cell_type": "code",
   "execution_count": 12,
   "id": "cff17960",
   "metadata": {
    "execution": {
     "iopub.execute_input": "2023-02-12T20:43:47.972458Z",
     "iopub.status.busy": "2023-02-12T20:43:47.972016Z",
     "iopub.status.idle": "2023-02-12T20:43:47.994713Z",
     "shell.execute_reply": "2023-02-12T20:43:47.993553Z"
    },
    "papermill": {
     "duration": 0.057163,
     "end_time": "2023-02-12T20:43:47.997062",
     "exception": false,
     "start_time": "2023-02-12T20:43:47.939899",
     "status": "completed"
    },
    "tags": []
   },
   "outputs": [
    {
     "data": {
      "text/html": [
       "<div>\n",
       "<style scoped>\n",
       "    .dataframe tbody tr th:only-of-type {\n",
       "        vertical-align: middle;\n",
       "    }\n",
       "\n",
       "    .dataframe tbody tr th {\n",
       "        vertical-align: top;\n",
       "    }\n",
       "\n",
       "    .dataframe thead th {\n",
       "        text-align: right;\n",
       "    }\n",
       "</style>\n",
       "<table border=\"1\" class=\"dataframe\">\n",
       "  <thead>\n",
       "    <tr style=\"text-align: right;\">\n",
       "      <th></th>\n",
       "      <th>DATE</th>\n",
       "      <th>UNIQUE_ID</th>\n",
       "      <th>CITY_NAME</th>\n",
       "      <th>CITY_ID</th>\n",
       "      <th>SHOP_NAME</th>\n",
       "      <th>SHOP_ID</th>\n",
       "      <th>ITEM_CATEGORY_NAME</th>\n",
       "      <th>ITEM_CATEGORY_ID</th>\n",
       "      <th>ITEM_NAME</th>\n",
       "      <th>ITEM_ID</th>\n",
       "      <th>ITEM_PRICE</th>\n",
       "      <th>SALES</th>\n",
       "    </tr>\n",
       "  </thead>\n",
       "  <tbody>\n",
       "    <tr>\n",
       "      <th>16545</th>\n",
       "      <td>2013-09-18</td>\n",
       "      <td>57-7856</td>\n",
       "      <td>Yakutsk</td>\n",
       "      <td>23.0</td>\n",
       "      <td>Yakutsk Ordzhonikidze, 56</td>\n",
       "      <td>57</td>\n",
       "      <td>Juegos PC - Otras publicaciones</td>\n",
       "      <td>28</td>\n",
       "      <td>Mundo de Warcraft. Tiempo de juego Mapa de pag...</td>\n",
       "      <td>7856</td>\n",
       "      <td>799.0</td>\n",
       "      <td>1.0</td>\n",
       "    </tr>\n",
       "    <tr>\n",
       "      <th>61708</th>\n",
       "      <td>2014-12-15</td>\n",
       "      <td>31-21404</td>\n",
       "      <td>Moscú</td>\n",
       "      <td>7.0</td>\n",
       "      <td>centro comercial de Moscú \"Semenov\"</td>\n",
       "      <td>31</td>\n",
       "      <td>Película - DVD</td>\n",
       "      <td>40</td>\n",
       "      <td>Corazón frío m / f (región)</td>\n",
       "      <td>21404</td>\n",
       "      <td>149.0</td>\n",
       "      <td>2.0</td>\n",
       "    </tr>\n",
       "    <tr>\n",
       "      <th>2528</th>\n",
       "      <td>2013-03-10</td>\n",
       "      <td>31-6740</td>\n",
       "      <td>Moscú</td>\n",
       "      <td>7.0</td>\n",
       "      <td>centro comercial de Moscú \"Semenov\"</td>\n",
       "      <td>31</td>\n",
       "      <td>Juegos PC - Standard Edition</td>\n",
       "      <td>30</td>\n",
       "      <td>Starcraft II: Wings of Liberty [PC, JEWEL, ver...</td>\n",
       "      <td>6740</td>\n",
       "      <td>499.0</td>\n",
       "      <td>3.0</td>\n",
       "    </tr>\n",
       "    <tr>\n",
       "      <th>3856</th>\n",
       "      <td>2013-03-28</td>\n",
       "      <td>58-3077</td>\n",
       "      <td>Yakutsk</td>\n",
       "      <td>23.0</td>\n",
       "      <td>Yakutsk TC \"central\"</td>\n",
       "      <td>58</td>\n",
       "      <td>Juegos - XBOX 360</td>\n",
       "      <td>23</td>\n",
       "      <td>EA SPORTS MMA [Xbox 360, versión en inglés]</td>\n",
       "      <td>3077</td>\n",
       "      <td>1199.0</td>\n",
       "      <td>1.0</td>\n",
       "    </tr>\n",
       "    <tr>\n",
       "      <th>55598</th>\n",
       "      <td>2014-10-10</td>\n",
       "      <td>49-20949</td>\n",
       "      <td>Tyumen</td>\n",
       "      <td>18.0</td>\n",
       "      <td>Tyumen SEC \"cristal\"</td>\n",
       "      <td>49</td>\n",
       "      <td>Regalos - Bolsas, álbumes, Mats d / ratón</td>\n",
       "      <td>71</td>\n",
       "      <td>Paquete corporativo Mike 1C Interés blanco (34...</td>\n",
       "      <td>20949</td>\n",
       "      <td>5.0</td>\n",
       "      <td>3.0</td>\n",
       "    </tr>\n",
       "  </tbody>\n",
       "</table>\n",
       "</div>"
      ],
      "text/plain": [
       "            DATE UNIQUE_ID CITY_NAME  CITY_ID  \\\n",
       "16545 2013-09-18   57-7856   Yakutsk     23.0   \n",
       "61708 2014-12-15  31-21404     Moscú      7.0   \n",
       "2528  2013-03-10   31-6740     Moscú      7.0   \n",
       "3856  2013-03-28   58-3077   Yakutsk     23.0   \n",
       "55598 2014-10-10  49-20949    Tyumen     18.0   \n",
       "\n",
       "                                 SHOP_NAME  SHOP_ID  \\\n",
       "16545            Yakutsk Ordzhonikidze, 56       57   \n",
       "61708  centro comercial de Moscú \"Semenov\"       31   \n",
       "2528   centro comercial de Moscú \"Semenov\"       31   \n",
       "3856                  Yakutsk TC \"central\"       58   \n",
       "55598                 Tyumen SEC \"cristal\"       49   \n",
       "\n",
       "                              ITEM_CATEGORY_NAME  ITEM_CATEGORY_ID  \\\n",
       "16545            Juegos PC - Otras publicaciones                28   \n",
       "61708                             Película - DVD                40   \n",
       "2528                Juegos PC - Standard Edition                30   \n",
       "3856                           Juegos - XBOX 360                23   \n",
       "55598  Regalos - Bolsas, álbumes, Mats d / ratón                71   \n",
       "\n",
       "                                               ITEM_NAME  ITEM_ID  ITEM_PRICE  \\\n",
       "16545  Mundo de Warcraft. Tiempo de juego Mapa de pag...     7856       799.0   \n",
       "61708                        Corazón frío m / f (región)    21404       149.0   \n",
       "2528   Starcraft II: Wings of Liberty [PC, JEWEL, ver...     6740       499.0   \n",
       "3856         EA SPORTS MMA [Xbox 360, versión en inglés]     3077      1199.0   \n",
       "55598  Paquete corporativo Mike 1C Interés blanco (34...    20949         5.0   \n",
       "\n",
       "       SALES  \n",
       "16545    1.0  \n",
       "61708    2.0  \n",
       "2528     3.0  \n",
       "3856     1.0  \n",
       "55598    3.0  "
      ]
     },
     "execution_count": 12,
     "metadata": {},
     "output_type": "execute_result"
    }
   ],
   "source": [
    "df.sample(5)"
   ]
  },
  {
   "cell_type": "markdown",
   "id": "5205dc36",
   "metadata": {
    "papermill": {
     "duration": 0.03057,
     "end_time": "2023-02-12T20:43:48.058401",
     "exception": false,
     "start_time": "2023-02-12T20:43:48.027831",
     "status": "completed"
    },
    "tags": []
   },
   "source": [
    "A continuación vamos a agrupar las ventas diarias por mes, en función de cada shop_id e item_id (groupby).\n",
    "\n",
    "Dado que vamos a entrenar nuestro modelo con variables mensuales, aprovechamos la operación para constuir un total de 5 variables: \n",
    "\n",
    "1. Ventas totales\n",
    "2. Ingresos totales (precio x cantidad)\n",
    "3. Días únicos que tuvieron ventas\n",
    "4. Total transacciones del mes \n",
    "5. Precio medio del mes"
   ]
  },
  {
   "cell_type": "code",
   "execution_count": 13,
   "id": "48ae96ab",
   "metadata": {
    "execution": {
     "iopub.execute_input": "2023-02-12T20:43:48.122573Z",
     "iopub.status.busy": "2023-02-12T20:43:48.121463Z",
     "iopub.status.idle": "2023-02-12T20:43:48.129405Z",
     "shell.execute_reply": "2023-02-12T20:43:48.128539Z"
    },
    "papermill": {
     "duration": 0.042243,
     "end_time": "2023-02-12T20:43:48.131484",
     "exception": false,
     "start_time": "2023-02-12T20:43:48.089241",
     "status": "completed"
    },
    "tags": []
   },
   "outputs": [],
   "source": [
    "df[\"REVENUE\"] = df[\"ITEM_PRICE\"] * df[\"SALES\"]\n",
    "df[\"UNIQUE_DAYS_WITH_SALES\"] = df[\"DATE\"]\n",
    "df[\"TOTAL_TRANSACTIONS\"] = df[\"SALES\"]"
   ]
  },
  {
   "cell_type": "markdown",
   "id": "86b0fa3b",
   "metadata": {
    "papermill": {
     "duration": 0.030336,
     "end_time": "2023-02-12T20:43:48.192526",
     "exception": false,
     "start_time": "2023-02-12T20:43:48.162190",
     "status": "completed"
    },
    "tags": []
   },
   "source": [
    "En las clases anteriores hemos aprendido a utilizar el [pandas groupby](https://pandas.pydata.org/docs/reference/api/pandas.DataFrame.groupby.html).\n",
    "\n",
    "Cuando trabajamos con Series Temporales y necesitamos agrupar las Series Temporales por día, semana, mes o año, podemos utilizar el groupby pero es mejor utilizar el [pandas resample](https://pandas.pydata.org/pandas-docs/stable/reference/api/pandas.DataFrame.resample.html).\n",
    "\n",
    "La síntaxis del pandas resample es muy sencilla, vamos a ver un ejemplo de como podríamos agrupar las ventas por semana."
   ]
  },
  {
   "cell_type": "code",
   "execution_count": 14,
   "id": "a67f09eb",
   "metadata": {
    "execution": {
     "iopub.execute_input": "2023-02-12T20:43:48.259819Z",
     "iopub.status.busy": "2023-02-12T20:43:48.258811Z",
     "iopub.status.idle": "2023-02-12T20:43:48.676055Z",
     "shell.execute_reply": "2023-02-12T20:43:48.674821Z"
    },
    "papermill": {
     "duration": 0.454998,
     "end_time": "2023-02-12T20:43:48.678516",
     "exception": false,
     "start_time": "2023-02-12T20:43:48.223518",
     "status": "completed"
    },
    "tags": []
   },
   "outputs": [
    {
     "data": {
      "image/png": "[encoded data removed]",
      "text/plain": [
       "<Figure size 864x360 with 1 Axes>"
      ]
     },
     "metadata": {
      "needs_background": "light"
     },
     "output_type": "display_data"
    }
   ],
   "source": [
    "# Para utilizar el resample\n",
    "# 1. La fecha debe estar en el índice\n",
    "# 2. Debemos llamar el método resample y pasarle un regla:\n",
    "#    D -> Daily\n",
    "#    W -> Weekly\n",
    "#    M -> Monthly\n",
    "#    Y -> Yearly\n",
    "\n",
    "df.set_index(\"DATE\").resample(\"M\")[\"SALES\"].sum().plot(figsize = (12, 5), title = \"Monthly Sales\");"
   ]
  },
  {
   "cell_type": "markdown",
   "id": "2ad9e1bb",
   "metadata": {
    "papermill": {
     "duration": 0.031347,
     "end_time": "2023-02-12T20:43:48.741216",
     "exception": false,
     "start_time": "2023-02-12T20:43:48.709869",
     "status": "completed"
    },
    "tags": []
   },
   "source": [
    "En el código anterior, hemos hecho el resample de todas las ventas.\n",
    "\n",
    "Pero nosotros debemos tener en cuenta el item_id y el shop_id antes de hacer el resample.\n",
    "\n",
    "Veamos como podemos combinar el groupby con resample."
   ]
  },
  {
   "cell_type": "code",
   "execution_count": 15,
   "id": "7a94d4c1",
   "metadata": {
    "execution": {
     "iopub.execute_input": "2023-02-12T20:43:48.806555Z",
     "iopub.status.busy": "2023-02-12T20:43:48.806114Z",
     "iopub.status.idle": "2023-02-12T20:43:53.261810Z",
     "shell.execute_reply": "2023-02-12T20:43:53.260442Z"
    },
    "papermill": {
     "duration": 4.49283,
     "end_time": "2023-02-12T20:43:53.265563",
     "exception": false,
     "start_time": "2023-02-12T20:43:48.772733",
     "status": "completed"
    },
    "tags": []
   },
   "outputs": [],
   "source": [
    "# Implement in class\n",
    "\n",
    "df_monthly_agg = df.set_index(\"DATE\").groupby([\"UNIQUE_ID\"]).resample(\"M\").agg(\n",
    "    {\n",
    "        \"SALES\":np.sum,\n",
    "        \"REVENUE\":np.sum,\n",
    "        \"UNIQUE_DAYS_WITH_SALES\":lambda dates: len(set(dates)),\n",
    "        \"TOTAL_TRANSACTIONS\":len,\n",
    "        \"ITEM_PRICE\":np.mean\n",
    "    }\n",
    ").rename(\n",
    "    columns = {\n",
    "        \"SALES\":\"MONTHLY_SALES\",\n",
    "        \"REVENUE\":\"MONTHLY_REVENUE\",\n",
    "        \"ITEM_PRICE\":\"MONTHLY_MEAN_PRICE\"\n",
    "    }\n",
    ").reset_index()"
   ]
  },
  {
   "cell_type": "code",
   "execution_count": 16,
   "id": "d2f395cd",
   "metadata": {
    "execution": {
     "iopub.execute_input": "2023-02-12T20:43:53.336142Z",
     "iopub.status.busy": "2023-02-12T20:43:53.335617Z",
     "iopub.status.idle": "2023-02-12T20:43:53.343064Z",
     "shell.execute_reply": "2023-02-12T20:43:53.341956Z"
    },
    "papermill": {
     "duration": 0.046746,
     "end_time": "2023-02-12T20:43:53.345385",
     "exception": false,
     "start_time": "2023-02-12T20:43:53.298639",
     "status": "completed"
    },
    "tags": []
   },
   "outputs": [],
   "source": [
    "df_monthly_agg[\"CHECK\"] = df_monthly_agg[\"UNIQUE_DAYS_WITH_SALES\"] == df_monthly_agg[\"TOTAL_TRANSACTIONS\"]"
   ]
  },
  {
   "cell_type": "code",
   "execution_count": 17,
   "id": "6fea110a",
   "metadata": {
    "execution": {
     "iopub.execute_input": "2023-02-12T20:43:53.424967Z",
     "iopub.status.busy": "2023-02-12T20:43:53.424118Z",
     "iopub.status.idle": "2023-02-12T20:43:53.441397Z",
     "shell.execute_reply": "2023-02-12T20:43:53.440163Z"
    },
    "papermill": {
     "duration": 0.060585,
     "end_time": "2023-02-12T20:43:53.443735",
     "exception": false,
     "start_time": "2023-02-12T20:43:53.383150",
     "status": "completed"
    },
    "tags": []
   },
   "outputs": [
    {
     "data": {
      "text/html": [
       "<div>\n",
       "<style scoped>\n",
       "    .dataframe tbody tr th:only-of-type {\n",
       "        vertical-align: middle;\n",
       "    }\n",
       "\n",
       "    .dataframe tbody tr th {\n",
       "        vertical-align: top;\n",
       "    }\n",
       "\n",
       "    .dataframe thead th {\n",
       "        text-align: right;\n",
       "    }\n",
       "</style>\n",
       "<table border=\"1\" class=\"dataframe\">\n",
       "  <thead>\n",
       "    <tr style=\"text-align: right;\">\n",
       "      <th></th>\n",
       "      <th>UNIQUE_ID</th>\n",
       "      <th>DATE</th>\n",
       "      <th>MONTHLY_SALES</th>\n",
       "      <th>MONTHLY_REVENUE</th>\n",
       "      <th>UNIQUE_DAYS_WITH_SALES</th>\n",
       "      <th>TOTAL_TRANSACTIONS</th>\n",
       "      <th>MONTHLY_MEAN_PRICE</th>\n",
       "      <th>CHECK</th>\n",
       "    </tr>\n",
       "  </thead>\n",
       "  <tbody>\n",
       "    <tr>\n",
       "      <th>1578</th>\n",
       "      <td>24-2808</td>\n",
       "      <td>2013-03-31</td>\n",
       "      <td>14.0</td>\n",
       "      <td>13985.0</td>\n",
       "      <td>9</td>\n",
       "      <td>10</td>\n",
       "      <td>998.900000</td>\n",
       "      <td>False</td>\n",
       "    </tr>\n",
       "    <tr>\n",
       "      <th>1577</th>\n",
       "      <td>24-2808</td>\n",
       "      <td>2013-02-28</td>\n",
       "      <td>21.0</td>\n",
       "      <td>20978.5</td>\n",
       "      <td>16</td>\n",
       "      <td>19</td>\n",
       "      <td>998.973684</td>\n",
       "      <td>False</td>\n",
       "    </tr>\n",
       "    <tr>\n",
       "      <th>1514</th>\n",
       "      <td>24-2308</td>\n",
       "      <td>2013-04-30</td>\n",
       "      <td>6.0</td>\n",
       "      <td>4894.0</td>\n",
       "      <td>5</td>\n",
       "      <td>6</td>\n",
       "      <td>815.666667</td>\n",
       "      <td>False</td>\n",
       "    </tr>\n",
       "    <tr>\n",
       "      <th>1611</th>\n",
       "      <td>24-3007</td>\n",
       "      <td>2013-03-31</td>\n",
       "      <td>20.0</td>\n",
       "      <td>36900.0</td>\n",
       "      <td>13</td>\n",
       "      <td>15</td>\n",
       "      <td>1843.333333</td>\n",
       "      <td>False</td>\n",
       "    </tr>\n",
       "    <tr>\n",
       "      <th>1612</th>\n",
       "      <td>24-3007</td>\n",
       "      <td>2013-04-30</td>\n",
       "      <td>12.0</td>\n",
       "      <td>22680.0</td>\n",
       "      <td>11</td>\n",
       "      <td>12</td>\n",
       "      <td>1890.000000</td>\n",
       "      <td>False</td>\n",
       "    </tr>\n",
       "  </tbody>\n",
       "</table>\n",
       "</div>"
      ],
      "text/plain": [
       "     UNIQUE_ID       DATE  MONTHLY_SALES  MONTHLY_REVENUE  \\\n",
       "1578   24-2808 2013-03-31           14.0          13985.0   \n",
       "1577   24-2808 2013-02-28           21.0          20978.5   \n",
       "1514   24-2308 2013-04-30            6.0           4894.0   \n",
       "1611   24-3007 2013-03-31           20.0          36900.0   \n",
       "1612   24-3007 2013-04-30           12.0          22680.0   \n",
       "\n",
       "      UNIQUE_DAYS_WITH_SALES  TOTAL_TRANSACTIONS  MONTHLY_MEAN_PRICE  CHECK  \n",
       "1578                       9                  10          998.900000  False  \n",
       "1577                      16                  19          998.973684  False  \n",
       "1514                       5                   6          815.666667  False  \n",
       "1611                      13                  15         1843.333333  False  \n",
       "1612                      11                  12         1890.000000  False  "
      ]
     },
     "execution_count": 17,
     "metadata": {},
     "output_type": "execute_result"
    }
   ],
   "source": [
    "df_monthly_agg[df_monthly_agg[\"CHECK\"] == False].sample(5)"
   ]
  },
  {
   "cell_type": "markdown",
   "id": "e736da63",
   "metadata": {
    "papermill": {
     "duration": 0.032012,
     "end_time": "2023-02-12T20:43:53.507682",
     "exception": false,
     "start_time": "2023-02-12T20:43:53.475670",
     "status": "completed"
    },
    "tags": []
   },
   "source": [
    "A continuación vamos a tener que comprobar si tenemos todas las fechas en nuestro dataset o no.\n",
    "\n",
    "Dado que nuestro dataset va desde Enero'13 - Septiembre'15, son un total de 33 meses."
   ]
  },
  {
   "cell_type": "code",
   "execution_count": 18,
   "id": "9c63b621",
   "metadata": {
    "execution": {
     "iopub.execute_input": "2023-02-12T20:43:53.574134Z",
     "iopub.status.busy": "2023-02-12T20:43:53.573040Z",
     "iopub.status.idle": "2023-02-12T20:43:53.583269Z",
     "shell.execute_reply": "2023-02-12T20:43:53.582413Z"
    },
    "papermill": {
     "duration": 0.045528,
     "end_time": "2023-02-12T20:43:53.585514",
     "exception": false,
     "start_time": "2023-02-12T20:43:53.539986",
     "status": "completed"
    },
    "tags": []
   },
   "outputs": [
    {
     "data": {
      "text/plain": [
       "UNIQUE_ID\n",
       "58-3077     33\n",
       "58-6497     29\n",
       "55-13097    13\n",
       "dtype: int64"
      ]
     },
     "execution_count": 18,
     "metadata": {},
     "output_type": "execute_result"
    }
   ],
   "source": [
    "check_months = df_monthly_agg.groupby(\"UNIQUE_ID\").size()\n",
    "check_months.sample(3)"
   ]
  },
  {
   "cell_type": "code",
   "execution_count": 19,
   "id": "1a76e306",
   "metadata": {
    "execution": {
     "iopub.execute_input": "2023-02-12T20:43:53.652018Z",
     "iopub.status.busy": "2023-02-12T20:43:53.651234Z",
     "iopub.status.idle": "2023-02-12T20:43:53.658564Z",
     "shell.execute_reply": "2023-02-12T20:43:53.657708Z"
    },
    "papermill": {
     "duration": 0.042981,
     "end_time": "2023-02-12T20:43:53.660761",
     "exception": false,
     "start_time": "2023-02-12T20:43:53.617780",
     "status": "completed"
    },
    "tags": []
   },
   "outputs": [
    {
     "data": {
      "text/plain": [
       "(173,)"
      ]
     },
     "execution_count": 19,
     "metadata": {},
     "output_type": "execute_result"
    }
   ],
   "source": [
    "check_months[check_months != 33].shape"
   ]
  },
  {
   "cell_type": "markdown",
   "id": "784e0a60",
   "metadata": {
    "execution": {
     "iopub.execute_input": "2022-12-25T12:39:50.438445Z",
     "iopub.status.busy": "2022-12-25T12:39:50.438087Z",
     "iopub.status.idle": "2022-12-25T12:39:50.445116Z",
     "shell.execute_reply": "2022-12-25T12:39:50.44424Z",
     "shell.execute_reply.started": "2022-12-25T12:39:50.438417Z"
    },
    "papermill": {
     "duration": 0.03257,
     "end_time": "2023-02-12T20:43:53.725728",
     "exception": false,
     "start_time": "2023-02-12T20:43:53.693158",
     "status": "completed"
    },
    "tags": []
   },
   "source": [
    "Tenemos un total de 173 Series Temporales incompletas (es decir, les falta por lo menos 1 mes de registros).\n",
    "\n",
    "El motivo de estos, es que sólo tenemos las ventas reportadas. Si un día o en un mes no se producen ventas, no tenemos estos registros en nuestro df original.\n",
    "\n",
    "A continuación vamos a generar un dataframe con todos los registros históricos y también con el mes de Octubre'2015 (mes de predict)."
   ]
  },
  {
   "cell_type": "code",
   "execution_count": 20,
   "id": "637ac5cf",
   "metadata": {
    "execution": {
     "iopub.execute_input": "2023-02-12T20:43:53.793358Z",
     "iopub.status.busy": "2023-02-12T20:43:53.792581Z",
     "iopub.status.idle": "2023-02-12T20:43:53.801540Z",
     "shell.execute_reply": "2023-02-12T20:43:53.800580Z"
    },
    "papermill": {
     "duration": 0.045444,
     "end_time": "2023-02-12T20:43:53.803736",
     "exception": false,
     "start_time": "2023-02-12T20:43:53.758292",
     "status": "completed"
    },
    "tags": []
   },
   "outputs": [
    {
     "data": {
      "text/plain": [
       "DatetimeIndex(['2013-01-31', '2013-02-28', '2013-03-31', '2013-04-30',\n",
       "               '2013-05-31', '2013-06-30', '2013-07-31', '2013-08-31',\n",
       "               '2013-09-30', '2013-10-31', '2013-11-30', '2013-12-31',\n",
       "               '2014-01-31', '2014-02-28', '2014-03-31', '2014-04-30',\n",
       "               '2014-05-31', '2014-06-30', '2014-07-31', '2014-08-31',\n",
       "               '2014-09-30', '2014-10-31', '2014-11-30', '2014-12-31',\n",
       "               '2015-01-31', '2015-02-28', '2015-03-31', '2015-04-30',\n",
       "               '2015-05-31', '2015-06-30', '2015-07-31', '2015-08-31',\n",
       "               '2015-09-30', '2015-10-31'],\n",
       "              dtype='datetime64[ns]', freq='M')"
      ]
     },
     "execution_count": 20,
     "metadata": {},
     "output_type": "execute_result"
    }
   ],
   "source": [
    "# generamos un rango con todas las fechas incluídas en el predict (Octubre'2015)\n",
    "DATE_PREDICTION = np.datetime64(\"2015-10-31\")\n",
    "date_range = pd.date_range(MIN_DATE, DATE_PREDICTION, freq = \"M\")\n",
    "date_range"
   ]
  },
  {
   "cell_type": "code",
   "execution_count": 21,
   "id": "67c7fc01",
   "metadata": {
    "execution": {
     "iopub.execute_input": "2023-02-12T20:43:53.870740Z",
     "iopub.status.busy": "2023-02-12T20:43:53.870318Z",
     "iopub.status.idle": "2023-02-12T20:43:53.878680Z",
     "shell.execute_reply": "2023-02-12T20:43:53.877823Z"
    },
    "papermill": {
     "duration": 0.044822,
     "end_time": "2023-02-12T20:43:53.880904",
     "exception": false,
     "start_time": "2023-02-12T20:43:53.836082",
     "status": "completed"
    },
    "tags": []
   },
   "outputs": [
    {
     "data": {
      "text/plain": [
       "['11-20949', '11-4181', '12-11365']"
      ]
     },
     "execution_count": 21,
     "metadata": {},
     "output_type": "execute_result"
    }
   ],
   "source": [
    "# sacamos todas las combinaciones únicas que tenemos en nuestro dataframe (299 combinaciones, una por cada serie temporal)\n",
    "unique_id = sorted(df_monthly_agg[\"UNIQUE_ID\"].unique())\n",
    "unique_id[:3]"
   ]
  },
  {
   "cell_type": "code",
   "execution_count": 22,
   "id": "39ca6c37",
   "metadata": {
    "execution": {
     "iopub.execute_input": "2023-02-12T20:43:53.950714Z",
     "iopub.status.busy": "2023-02-12T20:43:53.950301Z",
     "iopub.status.idle": "2023-02-12T20:43:53.956947Z",
     "shell.execute_reply": "2023-02-12T20:43:53.955815Z"
    },
    "papermill": {
     "duration": 0.043275,
     "end_time": "2023-02-12T20:43:53.959311",
     "exception": false,
     "start_time": "2023-02-12T20:43:53.916036",
     "status": "completed"
    },
    "tags": []
   },
   "outputs": [
    {
     "data": {
      "text/plain": [
       "299"
      ]
     },
     "execution_count": 22,
     "metadata": {},
     "output_type": "execute_result"
    }
   ],
   "source": [
    "len(unique_id)"
   ]
  },
  {
   "cell_type": "markdown",
   "id": "350ab274",
   "metadata": {
    "execution": {
     "iopub.execute_input": "2022-12-25T12:47:26.011459Z",
     "iopub.status.busy": "2022-12-25T12:47:26.01108Z",
     "iopub.status.idle": "2022-12-25T12:47:26.019833Z",
     "shell.execute_reply": "2022-12-25T12:47:26.018601Z",
     "shell.execute_reply.started": "2022-12-25T12:47:26.011427Z"
    },
    "papermill": {
     "duration": 0.032716,
     "end_time": "2023-02-12T20:43:54.025062",
     "exception": false,
     "start_time": "2023-02-12T20:43:53.992346",
     "status": "completed"
    },
    "tags": []
   },
   "source": [
    "Generamos todas las combinaciones entre meses e unique_id.\n",
    "\n",
    "Es decir, necesitamos sacar un [producto cartesiano](https://es.wikipedia.org/wiki/Producto_cartesiano)."
   ]
  },
  {
   "cell_type": "code",
   "execution_count": 23,
   "id": "9bed52db",
   "metadata": {
    "execution": {
     "iopub.execute_input": "2023-02-12T20:43:54.092616Z",
     "iopub.status.busy": "2023-02-12T20:43:54.091827Z",
     "iopub.status.idle": "2023-02-12T20:43:54.100963Z",
     "shell.execute_reply": "2023-02-12T20:43:54.100022Z"
    },
    "papermill": {
     "duration": 0.045586,
     "end_time": "2023-02-12T20:43:54.103171",
     "exception": false,
     "start_time": "2023-02-12T20:43:54.057585",
     "status": "completed"
    },
    "tags": []
   },
   "outputs": [
    {
     "data": {
      "text/plain": [
       "10166"
      ]
     },
     "execution_count": 23,
     "metadata": {},
     "output_type": "execute_result"
    }
   ],
   "source": [
    "cartesian_product = pd.MultiIndex.from_product([date_range, unique_id], names = [\"DATE\", \"UNIQUE_ID\"])\n",
    "len(cartesian_product)"
   ]
  },
  {
   "cell_type": "code",
   "execution_count": 24,
   "id": "71728489",
   "metadata": {
    "execution": {
     "iopub.execute_input": "2023-02-12T20:43:54.172661Z",
     "iopub.status.busy": "2023-02-12T20:43:54.172234Z",
     "iopub.status.idle": "2023-02-12T20:43:54.179309Z",
     "shell.execute_reply": "2023-02-12T20:43:54.178182Z"
    },
    "papermill": {
     "duration": 0.043012,
     "end_time": "2023-02-12T20:43:54.181574",
     "exception": false,
     "start_time": "2023-02-12T20:43:54.138562",
     "status": "completed"
    },
    "tags": []
   },
   "outputs": [
    {
     "data": {
      "text/plain": [
       "10166"
      ]
     },
     "execution_count": 24,
     "metadata": {},
     "output_type": "execute_result"
    }
   ],
   "source": [
    "# 10166 son 34 meses por todas las combinaciones de unique_id\n",
    "34 * 299"
   ]
  },
  {
   "cell_type": "markdown",
   "id": "be797cf1",
   "metadata": {
    "papermill": {
     "duration": 0.032332,
     "end_time": "2023-02-12T20:43:54.247239",
     "exception": false,
     "start_time": "2023-02-12T20:43:54.214907",
     "status": "completed"
    },
    "tags": []
   },
   "source": [
    "Cruzamos nuestro producto cartesiano con el dataframe agrupado por meses y que contiene las ventas históricas."
   ]
  },
  {
   "cell_type": "code",
   "execution_count": 25,
   "id": "6b15cea7",
   "metadata": {
    "execution": {
     "iopub.execute_input": "2023-02-12T20:43:54.315364Z",
     "iopub.status.busy": "2023-02-12T20:43:54.314212Z",
     "iopub.status.idle": "2023-02-12T20:43:54.334656Z",
     "shell.execute_reply": "2023-02-12T20:43:54.333591Z"
    },
    "papermill": {
     "duration": 0.058661,
     "end_time": "2023-02-12T20:43:54.338329",
     "exception": false,
     "start_time": "2023-02-12T20:43:54.279668",
     "status": "completed"
    },
    "tags": []
   },
   "outputs": [
    {
     "name": "stdout",
     "output_type": "stream",
     "text": [
      "(10166, 2)\n",
      "(10166, 8)\n"
     ]
    }
   ],
   "source": [
    "full_df = pd.DataFrame(index = cartesian_product).reset_index()\n",
    "\n",
    "print(full_df.shape)\n",
    "\n",
    "full_df = pd.merge(full_df, df_monthly_agg, on = ['DATE','UNIQUE_ID'], how = 'left')\n",
    "\n",
    "print(full_df.shape)"
   ]
  },
  {
   "cell_type": "code",
   "execution_count": 26,
   "id": "54ad7207",
   "metadata": {
    "execution": {
     "iopub.execute_input": "2023-02-12T20:43:54.406537Z",
     "iopub.status.busy": "2023-02-12T20:43:54.406123Z",
     "iopub.status.idle": "2023-02-12T20:43:54.424173Z",
     "shell.execute_reply": "2023-02-12T20:43:54.423057Z"
    },
    "papermill": {
     "duration": 0.054636,
     "end_time": "2023-02-12T20:43:54.426615",
     "exception": false,
     "start_time": "2023-02-12T20:43:54.371979",
     "status": "completed"
    },
    "tags": []
   },
   "outputs": [
    {
     "data": {
      "text/html": [
       "<div>\n",
       "<style scoped>\n",
       "    .dataframe tbody tr th:only-of-type {\n",
       "        vertical-align: middle;\n",
       "    }\n",
       "\n",
       "    .dataframe tbody tr th {\n",
       "        vertical-align: top;\n",
       "    }\n",
       "\n",
       "    .dataframe thead th {\n",
       "        text-align: right;\n",
       "    }\n",
       "</style>\n",
       "<table border=\"1\" class=\"dataframe\">\n",
       "  <thead>\n",
       "    <tr style=\"text-align: right;\">\n",
       "      <th></th>\n",
       "      <th>DATE</th>\n",
       "      <th>UNIQUE_ID</th>\n",
       "      <th>MONTHLY_SALES</th>\n",
       "      <th>MONTHLY_REVENUE</th>\n",
       "      <th>UNIQUE_DAYS_WITH_SALES</th>\n",
       "      <th>TOTAL_TRANSACTIONS</th>\n",
       "      <th>MONTHLY_MEAN_PRICE</th>\n",
       "      <th>CHECK</th>\n",
       "    </tr>\n",
       "  </thead>\n",
       "  <tbody>\n",
       "    <tr>\n",
       "      <th>6380</th>\n",
       "      <td>2014-10-31</td>\n",
       "      <td>28-2445</td>\n",
       "      <td>5.0</td>\n",
       "      <td>2995.00</td>\n",
       "      <td>5.0</td>\n",
       "      <td>5.0</td>\n",
       "      <td>599.000000</td>\n",
       "      <td>True</td>\n",
       "    </tr>\n",
       "    <tr>\n",
       "      <th>6615</th>\n",
       "      <td>2014-11-30</td>\n",
       "      <td>22-13370</td>\n",
       "      <td>15.0</td>\n",
       "      <td>4485.00</td>\n",
       "      <td>8.0</td>\n",
       "      <td>8.0</td>\n",
       "      <td>299.000000</td>\n",
       "      <td>True</td>\n",
       "    </tr>\n",
       "    <tr>\n",
       "      <th>5924</th>\n",
       "      <td>2014-08-31</td>\n",
       "      <td>55-6429</td>\n",
       "      <td>6.0</td>\n",
       "      <td>1494.00</td>\n",
       "      <td>5.0</td>\n",
       "      <td>5.0</td>\n",
       "      <td>249.000000</td>\n",
       "      <td>True</td>\n",
       "    </tr>\n",
       "    <tr>\n",
       "      <th>602</th>\n",
       "      <td>2013-03-31</td>\n",
       "      <td>12-11370</td>\n",
       "      <td>81.0</td>\n",
       "      <td>63850.00</td>\n",
       "      <td>18.0</td>\n",
       "      <td>18.0</td>\n",
       "      <td>1190.350529</td>\n",
       "      <td>True</td>\n",
       "    </tr>\n",
       "    <tr>\n",
       "      <th>1670</th>\n",
       "      <td>2013-06-30</td>\n",
       "      <td>35-20949</td>\n",
       "      <td>162.0</td>\n",
       "      <td>808.75</td>\n",
       "      <td>30.0</td>\n",
       "      <td>30.0</td>\n",
       "      <td>4.991551</td>\n",
       "      <td>True</td>\n",
       "    </tr>\n",
       "  </tbody>\n",
       "</table>\n",
       "</div>"
      ],
      "text/plain": [
       "           DATE UNIQUE_ID  MONTHLY_SALES  MONTHLY_REVENUE  \\\n",
       "6380 2014-10-31   28-2445            5.0          2995.00   \n",
       "6615 2014-11-30  22-13370           15.0          4485.00   \n",
       "5924 2014-08-31   55-6429            6.0          1494.00   \n",
       "602  2013-03-31  12-11370           81.0         63850.00   \n",
       "1670 2013-06-30  35-20949          162.0           808.75   \n",
       "\n",
       "      UNIQUE_DAYS_WITH_SALES  TOTAL_TRANSACTIONS  MONTHLY_MEAN_PRICE CHECK  \n",
       "6380                     5.0                 5.0          599.000000  True  \n",
       "6615                     8.0                 8.0          299.000000  True  \n",
       "5924                     5.0                 5.0          249.000000  True  \n",
       "602                     18.0                18.0         1190.350529  True  \n",
       "1670                    30.0                30.0            4.991551  True  "
      ]
     },
     "execution_count": 26,
     "metadata": {},
     "output_type": "execute_result"
    }
   ],
   "source": [
    "full_df.sample(5)"
   ]
  },
  {
   "cell_type": "markdown",
   "id": "2e6f9dc8",
   "metadata": {
    "papermill": {
     "duration": 0.032399,
     "end_time": "2023-02-12T20:43:54.492012",
     "exception": false,
     "start_time": "2023-02-12T20:43:54.459613",
     "status": "completed"
    },
    "tags": []
   },
   "source": [
    "Hemos agrupado nuestras ventas, pero hemos perdido algo de información del dataset original.\n",
    "\n",
    "Vamos a enriquecer nuestro full_df con más información."
   ]
  },
  {
   "cell_type": "code",
   "execution_count": 27,
   "id": "8b300105",
   "metadata": {
    "execution": {
     "iopub.execute_input": "2023-02-12T20:43:54.570414Z",
     "iopub.status.busy": "2023-02-12T20:43:54.569655Z",
     "iopub.status.idle": "2023-02-12T20:43:54.654186Z",
     "shell.execute_reply": "2023-02-12T20:43:54.653034Z"
    },
    "papermill": {
     "duration": 0.128434,
     "end_time": "2023-02-12T20:43:54.656529",
     "exception": false,
     "start_time": "2023-02-12T20:43:54.528095",
     "status": "completed"
    },
    "tags": []
   },
   "outputs": [
    {
     "data": {
      "text/html": [
       "<div>\n",
       "<style scoped>\n",
       "    .dataframe tbody tr th:only-of-type {\n",
       "        vertical-align: middle;\n",
       "    }\n",
       "\n",
       "    .dataframe tbody tr th {\n",
       "        vertical-align: top;\n",
       "    }\n",
       "\n",
       "    .dataframe thead th {\n",
       "        text-align: right;\n",
       "    }\n",
       "</style>\n",
       "<table border=\"1\" class=\"dataframe\">\n",
       "  <thead>\n",
       "    <tr style=\"text-align: right;\">\n",
       "      <th></th>\n",
       "      <th>UNIQUE_ID</th>\n",
       "      <th>CITY_NAME</th>\n",
       "      <th>CITY_ID</th>\n",
       "      <th>SHOP_NAME</th>\n",
       "      <th>SHOP_ID</th>\n",
       "      <th>ITEM_CATEGORY_NAME</th>\n",
       "      <th>ITEM_CATEGORY_ID</th>\n",
       "      <th>ITEM_NAME</th>\n",
       "      <th>ITEM_ID</th>\n",
       "    </tr>\n",
       "  </thead>\n",
       "  <tbody>\n",
       "    <tr>\n",
       "      <th>0</th>\n",
       "      <td>25-2574</td>\n",
       "      <td>Moscú</td>\n",
       "      <td>7.0</td>\n",
       "      <td>Moscú SEC \"Atrium\"</td>\n",
       "      <td>25</td>\n",
       "      <td>Música - CD de la producción local</td>\n",
       "      <td>55</td>\n",
       "      <td>Del Rey Lana Nació para morir la edición de Pa...</td>\n",
       "      <td>2574</td>\n",
       "    </tr>\n",
       "    <tr>\n",
       "      <th>10</th>\n",
       "      <td>25-2808</td>\n",
       "      <td>Moscú</td>\n",
       "      <td>7.0</td>\n",
       "      <td>Moscú SEC \"Atrium\"</td>\n",
       "      <td>25</td>\n",
       "      <td>Juegos PC - Standard Edition</td>\n",
       "      <td>30</td>\n",
       "      <td>Diablo III [PC, JEWEL, versión rusa]</td>\n",
       "      <td>2808</td>\n",
       "    </tr>\n",
       "    <tr>\n",
       "      <th>28</th>\n",
       "      <td>25-2308</td>\n",
       "      <td>Moscú</td>\n",
       "      <td>7.0</td>\n",
       "      <td>Moscú SEC \"Atrium\"</td>\n",
       "      <td>25</td>\n",
       "      <td>Juegos PC - Standard Edition</td>\n",
       "      <td>30</td>\n",
       "      <td>Call of Duty: Black Ops II [PC, Jewel, versión...</td>\n",
       "      <td>2308</td>\n",
       "    </tr>\n",
       "  </tbody>\n",
       "</table>\n",
       "</div>"
      ],
      "text/plain": [
       "   UNIQUE_ID CITY_NAME  CITY_ID           SHOP_NAME  SHOP_ID  \\\n",
       "0    25-2574     Moscú      7.0  Moscú SEC \"Atrium\"       25   \n",
       "10   25-2808     Moscú      7.0  Moscú SEC \"Atrium\"       25   \n",
       "28   25-2308     Moscú      7.0  Moscú SEC \"Atrium\"       25   \n",
       "\n",
       "                    ITEM_CATEGORY_NAME  ITEM_CATEGORY_ID  \\\n",
       "0   Música - CD de la producción local                55   \n",
       "10        Juegos PC - Standard Edition                30   \n",
       "28        Juegos PC - Standard Edition                30   \n",
       "\n",
       "                                            ITEM_NAME  ITEM_ID  \n",
       "0   Del Rey Lana Nació para morir la edición de Pa...     2574  \n",
       "10               Diablo III [PC, JEWEL, versión rusa]     2808  \n",
       "28  Call of Duty: Black Ops II [PC, Jewel, versión...     2308  "
      ]
     },
     "execution_count": 27,
     "metadata": {},
     "output_type": "execute_result"
    }
   ],
   "source": [
    "add_info = df[\n",
    "    [\"UNIQUE_ID\", \"CITY_NAME\", \"CITY_ID\", \"SHOP_NAME\", \"SHOP_ID\", \"ITEM_CATEGORY_NAME\", \"ITEM_CATEGORY_ID\", \"ITEM_NAME\", \"ITEM_ID\"]\n",
    "].drop_duplicates()\n",
    "\n",
    "add_info.head(3)"
   ]
  },
  {
   "cell_type": "code",
   "execution_count": 28,
   "id": "03c589cc",
   "metadata": {
    "execution": {
     "iopub.execute_input": "2023-02-12T20:43:54.724813Z",
     "iopub.status.busy": "2023-02-12T20:43:54.724133Z",
     "iopub.status.idle": "2023-02-12T20:43:54.730802Z",
     "shell.execute_reply": "2023-02-12T20:43:54.729832Z"
    },
    "papermill": {
     "duration": 0.043351,
     "end_time": "2023-02-12T20:43:54.732883",
     "exception": false,
     "start_time": "2023-02-12T20:43:54.689532",
     "status": "completed"
    },
    "tags": []
   },
   "outputs": [
    {
     "data": {
      "text/plain": [
       "(299, 9)"
      ]
     },
     "execution_count": 28,
     "metadata": {},
     "output_type": "execute_result"
    }
   ],
   "source": [
    "add_info.shape"
   ]
  },
  {
   "cell_type": "code",
   "execution_count": 29,
   "id": "b27bad23",
   "metadata": {
    "execution": {
     "iopub.execute_input": "2023-02-12T20:43:54.801567Z",
     "iopub.status.busy": "2023-02-12T20:43:54.800907Z",
     "iopub.status.idle": "2023-02-12T20:43:54.818159Z",
     "shell.execute_reply": "2023-02-12T20:43:54.816383Z"
    },
    "papermill": {
     "duration": 0.054595,
     "end_time": "2023-02-12T20:43:54.820516",
     "exception": false,
     "start_time": "2023-02-12T20:43:54.765921",
     "status": "completed"
    },
    "tags": []
   },
   "outputs": [
    {
     "name": "stdout",
     "output_type": "stream",
     "text": [
      "(10166, 8)\n",
      "(10166, 16)\n"
     ]
    }
   ],
   "source": [
    "print(full_df.shape)\n",
    "\n",
    "full_df = pd.merge(\n",
    "    left = full_df,\n",
    "    right = add_info,\n",
    "    how = \"left\",\n",
    "    on = \"UNIQUE_ID\"\n",
    ")\n",
    "\n",
    "print(full_df.shape)"
   ]
  },
  {
   "cell_type": "markdown",
   "id": "234ee82f",
   "metadata": {
    "papermill": {
     "duration": 0.033891,
     "end_time": "2023-02-12T20:43:54.887742",
     "exception": false,
     "start_time": "2023-02-12T20:43:54.853851",
     "status": "completed"
    },
    "tags": []
   },
   "source": [
    "<a id='impute'></a>\n",
    "### Data Imputation\n",
    "[Volver al índice](#index)<br>"
   ]
  },
  {
   "cell_type": "code",
   "execution_count": 30,
   "id": "1d711e9e",
   "metadata": {
    "execution": {
     "iopub.execute_input": "2023-02-12T20:43:54.956754Z",
     "iopub.status.busy": "2023-02-12T20:43:54.955582Z",
     "iopub.status.idle": "2023-02-12T20:43:54.964308Z",
     "shell.execute_reply": "2023-02-12T20:43:54.963469Z"
    },
    "papermill": {
     "duration": 0.045966,
     "end_time": "2023-02-12T20:43:54.967104",
     "exception": false,
     "start_time": "2023-02-12T20:43:54.921138",
     "status": "completed"
    },
    "tags": []
   },
   "outputs": [],
   "source": [
    "full_df.drop([\"CHECK\"], axis = 1, inplace = True)"
   ]
  },
  {
   "cell_type": "code",
   "execution_count": 31,
   "id": "16cfc548",
   "metadata": {
    "execution": {
     "iopub.execute_input": "2023-02-12T20:43:55.106607Z",
     "iopub.status.busy": "2023-02-12T20:43:55.106158Z",
     "iopub.status.idle": "2023-02-12T20:43:55.118614Z",
     "shell.execute_reply": "2023-02-12T20:43:55.117356Z"
    },
    "papermill": {
     "duration": 0.120467,
     "end_time": "2023-02-12T20:43:55.121109",
     "exception": false,
     "start_time": "2023-02-12T20:43:55.000642",
     "status": "completed"
    },
    "tags": []
   },
   "outputs": [
    {
     "data": {
      "text/plain": [
       "DATE                         0\n",
       "UNIQUE_ID                    0\n",
       "MONTHLY_SALES             1420\n",
       "MONTHLY_REVENUE           1420\n",
       "UNIQUE_DAYS_WITH_SALES    1420\n",
       "TOTAL_TRANSACTIONS        1420\n",
       "MONTHLY_MEAN_PRICE        1700\n",
       "CITY_NAME                    0\n",
       "CITY_ID                      0\n",
       "SHOP_NAME                    0\n",
       "SHOP_ID                      0\n",
       "ITEM_CATEGORY_NAME           0\n",
       "ITEM_CATEGORY_ID             0\n",
       "ITEM_NAME                    0\n",
       "ITEM_ID                      0\n",
       "dtype: int64"
      ]
     },
     "execution_count": 31,
     "metadata": {},
     "output_type": "execute_result"
    }
   ],
   "source": [
    "full_df.isnull().sum()"
   ]
  },
  {
   "cell_type": "code",
   "execution_count": 32,
   "id": "3322ba64",
   "metadata": {
    "execution": {
     "iopub.execute_input": "2023-02-12T20:43:55.191116Z",
     "iopub.status.busy": "2023-02-12T20:43:55.190048Z",
     "iopub.status.idle": "2023-02-12T20:43:55.197125Z",
     "shell.execute_reply": "2023-02-12T20:43:55.196359Z"
    },
    "papermill": {
     "duration": 0.043807,
     "end_time": "2023-02-12T20:43:55.199224",
     "exception": false,
     "start_time": "2023-02-12T20:43:55.155417",
     "status": "completed"
    },
    "tags": []
   },
   "outputs": [],
   "source": [
    "full_df[\"MONTHLY_SALES\"].fillna(0, inplace = True)\n",
    "full_df[\"MONTHLY_REVENUE\"].fillna(0, inplace = True)\n",
    "full_df[\"UNIQUE_DAYS_WITH_SALES\"].fillna(0, inplace = True)\n",
    "full_df[\"TOTAL_TRANSACTIONS\"].fillna(0, inplace = True)"
   ]
  },
  {
   "cell_type": "code",
   "execution_count": 33,
   "id": "9dfda8bc",
   "metadata": {
    "execution": {
     "iopub.execute_input": "2023-02-12T20:43:55.267302Z",
     "iopub.status.busy": "2023-02-12T20:43:55.266638Z",
     "iopub.status.idle": "2023-02-12T20:43:55.282855Z",
     "shell.execute_reply": "2023-02-12T20:43:55.281785Z"
    },
    "papermill": {
     "duration": 0.052725,
     "end_time": "2023-02-12T20:43:55.285058",
     "exception": false,
     "start_time": "2023-02-12T20:43:55.232333",
     "status": "completed"
    },
    "tags": []
   },
   "outputs": [
    {
     "data": {
      "text/html": [
       "<div>\n",
       "<style scoped>\n",
       "    .dataframe tbody tr th:only-of-type {\n",
       "        vertical-align: middle;\n",
       "    }\n",
       "\n",
       "    .dataframe tbody tr th {\n",
       "        vertical-align: top;\n",
       "    }\n",
       "\n",
       "    .dataframe thead th {\n",
       "        text-align: right;\n",
       "    }\n",
       "</style>\n",
       "<table border=\"1\" class=\"dataframe\">\n",
       "  <thead>\n",
       "    <tr style=\"text-align: right;\">\n",
       "      <th></th>\n",
       "      <th>DATE</th>\n",
       "      <th>UNIQUE_ID</th>\n",
       "      <th>MONTHLY_MEAN_PRICE</th>\n",
       "    </tr>\n",
       "  </thead>\n",
       "  <tbody>\n",
       "    <tr>\n",
       "      <th>296</th>\n",
       "      <td>2013-01-31</td>\n",
       "      <td>7-17717</td>\n",
       "      <td>449.000000</td>\n",
       "    </tr>\n",
       "    <tr>\n",
       "      <th>595</th>\n",
       "      <td>2013-02-28</td>\n",
       "      <td>7-17717</td>\n",
       "      <td>428.000000</td>\n",
       "    </tr>\n",
       "    <tr>\n",
       "      <th>894</th>\n",
       "      <td>2013-03-31</td>\n",
       "      <td>7-17717</td>\n",
       "      <td>619.000000</td>\n",
       "    </tr>\n",
       "    <tr>\n",
       "      <th>1193</th>\n",
       "      <td>2013-04-30</td>\n",
       "      <td>7-17717</td>\n",
       "      <td>390.000000</td>\n",
       "    </tr>\n",
       "    <tr>\n",
       "      <th>1492</th>\n",
       "      <td>2013-05-31</td>\n",
       "      <td>7-17717</td>\n",
       "      <td>599.000000</td>\n",
       "    </tr>\n",
       "    <tr>\n",
       "      <th>1791</th>\n",
       "      <td>2013-06-30</td>\n",
       "      <td>7-17717</td>\n",
       "      <td>NaN</td>\n",
       "    </tr>\n",
       "    <tr>\n",
       "      <th>2090</th>\n",
       "      <td>2013-07-31</td>\n",
       "      <td>7-17717</td>\n",
       "      <td>281.745000</td>\n",
       "    </tr>\n",
       "    <tr>\n",
       "      <th>2389</th>\n",
       "      <td>2013-08-31</td>\n",
       "      <td>7-17717</td>\n",
       "      <td>239.400000</td>\n",
       "    </tr>\n",
       "    <tr>\n",
       "      <th>2688</th>\n",
       "      <td>2013-09-30</td>\n",
       "      <td>7-17717</td>\n",
       "      <td>333.000000</td>\n",
       "    </tr>\n",
       "    <tr>\n",
       "      <th>2987</th>\n",
       "      <td>2013-10-31</td>\n",
       "      <td>7-17717</td>\n",
       "      <td>499.000000</td>\n",
       "    </tr>\n",
       "    <tr>\n",
       "      <th>3286</th>\n",
       "      <td>2013-11-30</td>\n",
       "      <td>7-17717</td>\n",
       "      <td>NaN</td>\n",
       "    </tr>\n",
       "    <tr>\n",
       "      <th>3585</th>\n",
       "      <td>2013-12-31</td>\n",
       "      <td>7-17717</td>\n",
       "      <td>364.000000</td>\n",
       "    </tr>\n",
       "    <tr>\n",
       "      <th>3884</th>\n",
       "      <td>2014-01-31</td>\n",
       "      <td>7-17717</td>\n",
       "      <td>1800.000000</td>\n",
       "    </tr>\n",
       "    <tr>\n",
       "      <th>4183</th>\n",
       "      <td>2014-02-28</td>\n",
       "      <td>7-17717</td>\n",
       "      <td>NaN</td>\n",
       "    </tr>\n",
       "    <tr>\n",
       "      <th>4482</th>\n",
       "      <td>2014-03-31</td>\n",
       "      <td>7-17717</td>\n",
       "      <td>NaN</td>\n",
       "    </tr>\n",
       "    <tr>\n",
       "      <th>4781</th>\n",
       "      <td>2014-04-30</td>\n",
       "      <td>7-17717</td>\n",
       "      <td>504.266667</td>\n",
       "    </tr>\n",
       "    <tr>\n",
       "      <th>5080</th>\n",
       "      <td>2014-05-31</td>\n",
       "      <td>7-17717</td>\n",
       "      <td>572.404762</td>\n",
       "    </tr>\n",
       "    <tr>\n",
       "      <th>5379</th>\n",
       "      <td>2014-06-30</td>\n",
       "      <td>7-17717</td>\n",
       "      <td>524.333333</td>\n",
       "    </tr>\n",
       "    <tr>\n",
       "      <th>5678</th>\n",
       "      <td>2014-07-31</td>\n",
       "      <td>7-17717</td>\n",
       "      <td>1004.153846</td>\n",
       "    </tr>\n",
       "    <tr>\n",
       "      <th>5977</th>\n",
       "      <td>2014-08-31</td>\n",
       "      <td>7-17717</td>\n",
       "      <td>615.220635</td>\n",
       "    </tr>\n",
       "    <tr>\n",
       "      <th>6276</th>\n",
       "      <td>2014-09-30</td>\n",
       "      <td>7-17717</td>\n",
       "      <td>1026.638889</td>\n",
       "    </tr>\n",
       "    <tr>\n",
       "      <th>6575</th>\n",
       "      <td>2014-10-31</td>\n",
       "      <td>7-17717</td>\n",
       "      <td>805.202381</td>\n",
       "    </tr>\n",
       "    <tr>\n",
       "      <th>6874</th>\n",
       "      <td>2014-11-30</td>\n",
       "      <td>7-17717</td>\n",
       "      <td>1086.531944</td>\n",
       "    </tr>\n",
       "    <tr>\n",
       "      <th>7173</th>\n",
       "      <td>2014-12-31</td>\n",
       "      <td>7-17717</td>\n",
       "      <td>1156.085632</td>\n",
       "    </tr>\n",
       "    <tr>\n",
       "      <th>7472</th>\n",
       "      <td>2015-01-31</td>\n",
       "      <td>7-17717</td>\n",
       "      <td>932.831714</td>\n",
       "    </tr>\n",
       "    <tr>\n",
       "      <th>7771</th>\n",
       "      <td>2015-02-28</td>\n",
       "      <td>7-17717</td>\n",
       "      <td>1078.297101</td>\n",
       "    </tr>\n",
       "    <tr>\n",
       "      <th>8070</th>\n",
       "      <td>2015-03-31</td>\n",
       "      <td>7-17717</td>\n",
       "      <td>899.833333</td>\n",
       "    </tr>\n",
       "    <tr>\n",
       "      <th>8369</th>\n",
       "      <td>2015-04-30</td>\n",
       "      <td>7-17717</td>\n",
       "      <td>1191.375000</td>\n",
       "    </tr>\n",
       "    <tr>\n",
       "      <th>8668</th>\n",
       "      <td>2015-05-31</td>\n",
       "      <td>7-17717</td>\n",
       "      <td>1194.820513</td>\n",
       "    </tr>\n",
       "    <tr>\n",
       "      <th>8967</th>\n",
       "      <td>2015-06-30</td>\n",
       "      <td>7-17717</td>\n",
       "      <td>1176.977193</td>\n",
       "    </tr>\n",
       "    <tr>\n",
       "      <th>9266</th>\n",
       "      <td>2015-07-31</td>\n",
       "      <td>7-17717</td>\n",
       "      <td>990.500000</td>\n",
       "    </tr>\n",
       "    <tr>\n",
       "      <th>9565</th>\n",
       "      <td>2015-08-31</td>\n",
       "      <td>7-17717</td>\n",
       "      <td>915.825000</td>\n",
       "    </tr>\n",
       "    <tr>\n",
       "      <th>9864</th>\n",
       "      <td>2015-09-30</td>\n",
       "      <td>7-17717</td>\n",
       "      <td>1388.930556</td>\n",
       "    </tr>\n",
       "    <tr>\n",
       "      <th>10163</th>\n",
       "      <td>2015-10-31</td>\n",
       "      <td>7-17717</td>\n",
       "      <td>NaN</td>\n",
       "    </tr>\n",
       "  </tbody>\n",
       "</table>\n",
       "</div>"
      ],
      "text/plain": [
       "            DATE UNIQUE_ID  MONTHLY_MEAN_PRICE\n",
       "296   2013-01-31   7-17717          449.000000\n",
       "595   2013-02-28   7-17717          428.000000\n",
       "894   2013-03-31   7-17717          619.000000\n",
       "1193  2013-04-30   7-17717          390.000000\n",
       "1492  2013-05-31   7-17717          599.000000\n",
       "1791  2013-06-30   7-17717                 NaN\n",
       "2090  2013-07-31   7-17717          281.745000\n",
       "2389  2013-08-31   7-17717          239.400000\n",
       "2688  2013-09-30   7-17717          333.000000\n",
       "2987  2013-10-31   7-17717          499.000000\n",
       "3286  2013-11-30   7-17717                 NaN\n",
       "3585  2013-12-31   7-17717          364.000000\n",
       "3884  2014-01-31   7-17717         1800.000000\n",
       "4183  2014-02-28   7-17717                 NaN\n",
       "4482  2014-03-31   7-17717                 NaN\n",
       "4781  2014-04-30   7-17717          504.266667\n",
       "5080  2014-05-31   7-17717          572.404762\n",
       "5379  2014-06-30   7-17717          524.333333\n",
       "5678  2014-07-31   7-17717         1004.153846\n",
       "5977  2014-08-31   7-17717          615.220635\n",
       "6276  2014-09-30   7-17717         1026.638889\n",
       "6575  2014-10-31   7-17717          805.202381\n",
       "6874  2014-11-30   7-17717         1086.531944\n",
       "7173  2014-12-31   7-17717         1156.085632\n",
       "7472  2015-01-31   7-17717          932.831714\n",
       "7771  2015-02-28   7-17717         1078.297101\n",
       "8070  2015-03-31   7-17717          899.833333\n",
       "8369  2015-04-30   7-17717         1191.375000\n",
       "8668  2015-05-31   7-17717         1194.820513\n",
       "8967  2015-06-30   7-17717         1176.977193\n",
       "9266  2015-07-31   7-17717          990.500000\n",
       "9565  2015-08-31   7-17717          915.825000\n",
       "9864  2015-09-30   7-17717         1388.930556\n",
       "10163 2015-10-31   7-17717                 NaN"
      ]
     },
     "execution_count": 33,
     "metadata": {},
     "output_type": "execute_result"
    }
   ],
   "source": [
    "# implementar en clase diferentes estrategias de imputación\n",
    "sample_series = full_df[full_df[\"UNIQUE_ID\"] == \"7-17717\"][[\"DATE\", \"UNIQUE_ID\", \"MONTHLY_MEAN_PRICE\"]]\n",
    "sample_series"
   ]
  },
  {
   "cell_type": "code",
   "execution_count": 34,
   "id": "2e2dc01e",
   "metadata": {
    "execution": {
     "iopub.execute_input": "2023-02-12T20:43:55.354807Z",
     "iopub.status.busy": "2023-02-12T20:43:55.354368Z",
     "iopub.status.idle": "2023-02-12T20:43:55.446614Z",
     "shell.execute_reply": "2023-02-12T20:43:55.445400Z"
    },
    "papermill": {
     "duration": 0.130684,
     "end_time": "2023-02-12T20:43:55.449578",
     "exception": false,
     "start_time": "2023-02-12T20:43:55.318894",
     "status": "completed"
    },
    "tags": []
   },
   "outputs": [],
   "source": [
    "full_df[\"MONTHLY_MEAN_PRICE\"] = full_df.groupby(\"UNIQUE_ID\")[\"MONTHLY_MEAN_PRICE\"].apply(lambda series: series.backfill().ffill())"
   ]
  },
  {
   "cell_type": "code",
   "execution_count": 35,
   "id": "d91c6a7d",
   "metadata": {
    "execution": {
     "iopub.execute_input": "2023-02-12T20:43:55.521630Z",
     "iopub.status.busy": "2023-02-12T20:43:55.521194Z",
     "iopub.status.idle": "2023-02-12T20:43:55.533254Z",
     "shell.execute_reply": "2023-02-12T20:43:55.532294Z"
    },
    "papermill": {
     "duration": 0.051035,
     "end_time": "2023-02-12T20:43:55.535514",
     "exception": false,
     "start_time": "2023-02-12T20:43:55.484479",
     "status": "completed"
    },
    "tags": []
   },
   "outputs": [
    {
     "data": {
      "text/plain": [
       "15"
      ]
     },
     "execution_count": 35,
     "metadata": {},
     "output_type": "execute_result"
    }
   ],
   "source": [
    "len(full_df.isnull().sum()) ### QUE PASO?"
   ]
  },
  {
   "cell_type": "code",
   "execution_count": 36,
   "id": "4a2fb1ef",
   "metadata": {
    "execution": {
     "iopub.execute_input": "2023-02-12T20:43:55.606353Z",
     "iopub.status.busy": "2023-02-12T20:43:55.605186Z",
     "iopub.status.idle": "2023-02-12T20:43:55.610990Z",
     "shell.execute_reply": "2023-02-12T20:43:55.609864Z"
    },
    "papermill": {
     "duration": 0.043564,
     "end_time": "2023-02-12T20:43:55.613393",
     "exception": false,
     "start_time": "2023-02-12T20:43:55.569829",
     "status": "completed"
    },
    "tags": []
   },
   "outputs": [],
   "source": [
    "del cartesian_product, unique_id, date_range, add_info, sample_series, check_months #ATENCION!!! Borré df de aquí para utilizarlo en las respuestas de google. Debería volver a borrarlo por las dudas"
   ]
  },
  {
   "cell_type": "markdown",
   "id": "4e051c03",
   "metadata": {
    "papermill": {
     "duration": 0.033877,
     "end_time": "2023-02-12T20:43:55.681353",
     "exception": false,
     "start_time": "2023-02-12T20:43:55.647476",
     "status": "completed"
    },
    "tags": []
   },
   "source": [
    "<a id='eda'></a>\n",
    "### EDA\n",
    "[Volver al índice](#index)<br>"
   ]
  },
  {
   "cell_type": "markdown",
   "id": "d9339603",
   "metadata": {
    "papermill": {
     "duration": 0.03459,
     "end_time": "2023-02-12T20:43:55.751155",
     "exception": false,
     "start_time": "2023-02-12T20:43:55.716565",
     "status": "completed"
    },
    "tags": []
   },
   "source": [
    "Ahora por fin tenemos un full_df con todos los registros y con los valores imputados.\n",
    "\n",
    "Vamos a hacer un EDA rápido para ver como son nuestras Series Temporales y coger algunas ideas para futuras variables que vamos a implementar.\n",
    "\n",
    "Al tratarse este notebook del benchmark, vamos a explorar de manera muy superficial el dataset. En posteriores ejecuciones analizaremos el dataset en más detalle, construiremos nuevas variables y volveremos a entrenar nuestro modelo."
   ]
  },
  {
   "cell_type": "markdown",
   "id": "87824b0e",
   "metadata": {
    "papermill": {
     "duration": 0.03414,
     "end_time": "2023-02-12T20:43:55.819075",
     "exception": false,
     "start_time": "2023-02-12T20:43:55.784935",
     "status": "completed"
    },
    "tags": []
   },
   "source": [
    "<a id='eda_global_sales'></a>\n",
    "### --> 1. EDA: Global Sales\n",
    "[Volver al índice](#index)<br>"
   ]
  },
  {
   "cell_type": "code",
   "execution_count": 37,
   "id": "03a14adb",
   "metadata": {
    "execution": {
     "iopub.execute_input": "2023-02-12T20:43:55.888667Z",
     "iopub.status.busy": "2023-02-12T20:43:55.887820Z",
     "iopub.status.idle": "2023-02-12T20:43:55.893690Z",
     "shell.execute_reply": "2023-02-12T20:43:55.892917Z"
    },
    "papermill": {
     "duration": 0.042905,
     "end_time": "2023-02-12T20:43:55.895827",
     "exception": false,
     "start_time": "2023-02-12T20:43:55.852922",
     "status": "completed"
    },
    "tags": []
   },
   "outputs": [],
   "source": [
    "def plot_ts_acf_pacf(y, title):\n",
    "    '''\n",
    "    Plots the ts you pass and the acf and pacf.\n",
    "    '''\n",
    "    fig = plt.figure(figsize = (12, 10))\n",
    "    ax1, ax2, ax3 = fig.subplots(3, 1)\n",
    "\n",
    "    ax1.plot(y)\n",
    "    plot_acf(x = y, ax = ax2)\n",
    "    plot_pacf(x = y, ax = ax3)\n",
    "\n",
    "    plt.suptitle(t = title, fontsize = 20)"
   ]
  },
  {
   "cell_type": "code",
   "execution_count": 38,
   "id": "8ba80eb1",
   "metadata": {
    "execution": {
     "iopub.execute_input": "2023-02-12T20:43:55.966461Z",
     "iopub.status.busy": "2023-02-12T20:43:55.965744Z",
     "iopub.status.idle": "2023-02-12T20:43:55.976731Z",
     "shell.execute_reply": "2023-02-12T20:43:55.975602Z"
    },
    "papermill": {
     "duration": 0.048879,
     "end_time": "2023-02-12T20:43:55.979292",
     "exception": false,
     "start_time": "2023-02-12T20:43:55.930413",
     "status": "completed"
    },
    "tags": []
   },
   "outputs": [],
   "source": [
    "y = full_df.set_index(\"DATE\").resample(\"M\")[\"MONTHLY_SALES\"].sum()"
   ]
  },
  {
   "cell_type": "code",
   "execution_count": 39,
   "id": "568b6c3a",
   "metadata": {
    "execution": {
     "iopub.execute_input": "2023-02-12T20:43:56.049430Z",
     "iopub.status.busy": "2023-02-12T20:43:56.049025Z",
     "iopub.status.idle": "2023-02-12T20:43:56.647192Z",
     "shell.execute_reply": "2023-02-12T20:43:56.646100Z"
    },
    "papermill": {
     "duration": 0.636414,
     "end_time": "2023-02-12T20:43:56.649541",
     "exception": false,
     "start_time": "2023-02-12T20:43:56.013127",
     "status": "completed"
    },
    "tags": []
   },
   "outputs": [
    {
     "name": "stderr",
     "output_type": "stream",
     "text": [
      "/opt/conda/lib/python3.7/site-packages/statsmodels/graphics/tsaplots.py:353: FutureWarning: The default method 'yw' can produce PACF values outside of the [-1,1] interval. After 0.13, the default will change tounadjusted Yule-Walker ('ywm'). You can use this method now by setting method='ywm'.\n",
      "  FutureWarning,\n"
     ]
    },
    {
     "data": {
      "image/png": "[encoded data removed]",
      "text/plain": [
       "<Figure size 864x720 with 3 Axes>"
      ]
     },
     "metadata": {
      "needs_background": "light"
     },
     "output_type": "display_data"
    }
   ],
   "source": [
    "plot_ts_acf_pacf(y = y, title = \"Monthly Sales for all items in all shops\");"
   ]
  },
  {
   "cell_type": "markdown",
   "id": "41a11dc0",
   "metadata": {
    "papermill": {
     "duration": 0.035209,
     "end_time": "2023-02-12T20:43:56.720597",
     "exception": false,
     "start_time": "2023-02-12T20:43:56.685388",
     "status": "completed"
    },
    "tags": []
   },
   "source": [
    "Nota importante: nos estamos ayudando del gráfico de acf y pacf, pero no vamos a entrenar un modelo ARIMA.\n",
    "\n",
    "Para resolver el problema que se nos plantea: 299 Series Temporales diferentes tendríamos que entrenar 299 ARIMAs. En cambio, con el algoritmo de XGBoost podríamos entrenar 1 único modelo.\n",
    "\n",
    "Ahora bien, al contrario que ARIMA (que internamente construye las variables necesarias), para XGBoost debemos ser explícitos y suministrarle todas y cada una de las variables necesarias.\n",
    "\n",
    "Del gráfico anterior ya podemos observar que las variables de lags pueden ser muy relevantes.\n",
    "\n",
    "IDEA para los alumnos: podéis intentar analizar algunas de las 299 Series Temporales de manera individual para ver su comportamiento."
   ]
  },
  {
   "cell_type": "markdown",
   "id": "bc3be81d",
   "metadata": {
    "papermill": {
     "duration": 0.034539,
     "end_time": "2023-02-12T20:43:56.789914",
     "exception": false,
     "start_time": "2023-02-12T20:43:56.755375",
     "status": "completed"
    },
    "tags": []
   },
   "source": [
    "<a id='eda_top_3_cities'></a>\n",
    "### --> 2. EDA: Top 3 Cities\n",
    "[Volver al índice](#index)<br>"
   ]
  },
  {
   "cell_type": "code",
   "execution_count": 40,
   "id": "feb9e8ed",
   "metadata": {
    "execution": {
     "iopub.execute_input": "2023-02-12T20:43:56.861711Z",
     "iopub.status.busy": "2023-02-12T20:43:56.861269Z",
     "iopub.status.idle": "2023-02-12T20:43:56.878675Z",
     "shell.execute_reply": "2023-02-12T20:43:56.877041Z"
    },
    "papermill": {
     "duration": 0.056083,
     "end_time": "2023-02-12T20:43:56.881214",
     "exception": false,
     "start_time": "2023-02-12T20:43:56.825131",
     "status": "completed"
    },
    "tags": []
   },
   "outputs": [
    {
     "name": "stdout",
     "output_type": "stream",
     "text": [
      "<class 'pandas.core.frame.DataFrame'>\n",
      "Int64Index: 10166 entries, 0 to 10165\n",
      "Data columns (total 15 columns):\n",
      " #   Column                  Non-Null Count  Dtype         \n",
      "---  ------                  --------------  -----         \n",
      " 0   DATE                    10166 non-null  datetime64[ns]\n",
      " 1   UNIQUE_ID               10166 non-null  object        \n",
      " 2   MONTHLY_SALES           10166 non-null  float64       \n",
      " 3   MONTHLY_REVENUE         10166 non-null  float64       \n",
      " 4   UNIQUE_DAYS_WITH_SALES  10166 non-null  float64       \n",
      " 5   TOTAL_TRANSACTIONS      10166 non-null  float64       \n",
      " 6   MONTHLY_MEAN_PRICE      10166 non-null  float64       \n",
      " 7   CITY_NAME               10166 non-null  object        \n",
      " 8   CITY_ID                 10166 non-null  float64       \n",
      " 9   SHOP_NAME               10166 non-null  object        \n",
      " 10  SHOP_ID                 10166 non-null  int64         \n",
      " 11  ITEM_CATEGORY_NAME      10166 non-null  object        \n",
      " 12  ITEM_CATEGORY_ID        10166 non-null  int64         \n",
      " 13  ITEM_NAME               10166 non-null  object        \n",
      " 14  ITEM_ID                 10166 non-null  int64         \n",
      "dtypes: datetime64[ns](1), float64(6), int64(3), object(5)\n",
      "memory usage: 1.2+ MB\n"
     ]
    }
   ],
   "source": [
    "full_df.info()"
   ]
  },
  {
   "cell_type": "code",
   "execution_count": 41,
   "id": "b47212ac",
   "metadata": {
    "execution": {
     "iopub.execute_input": "2023-02-12T20:43:56.954077Z",
     "iopub.status.busy": "2023-02-12T20:43:56.953137Z",
     "iopub.status.idle": "2023-02-12T20:43:57.326428Z",
     "shell.execute_reply": "2023-02-12T20:43:57.325237Z"
    },
    "papermill": {
     "duration": 0.412719,
     "end_time": "2023-02-12T20:43:57.328894",
     "exception": false,
     "start_time": "2023-02-12T20:43:56.916175",
     "status": "completed"
    },
    "tags": []
   },
   "outputs": [
    {
     "data": {
      "image/png": "[encoded data removed]",
      "text/plain": [
       "<Figure size 864x288 with 1 Axes>"
      ]
     },
     "metadata": {
      "needs_background": "light"
     },
     "output_type": "display_data"
    }
   ],
   "source": [
    "full_df.groupby([\"CITY_NAME\"])[\"MONTHLY_REVENUE\"].sum().sort_values(ascending = False).plot(kind = \"bar\", figsize = (12, 4));"
   ]
  },
  {
   "cell_type": "markdown",
   "id": "994bfcb6",
   "metadata": {
    "papermill": {
     "duration": 0.038885,
     "end_time": "2023-02-12T20:44:00.006220",
     "exception": false,
     "start_time": "2023-02-12T20:43:59.967335",
     "status": "completed"
    },
    "tags": []
   },
   "source": [
    "<a id='eda_top_3_categories'></a>\n",
    "### --> 3. EDA: Top 3 Categories\n",
    "[Volver al índice](#index)<br>"
   ]
  },
  {
   "cell_type": "code",
   "execution_count": 55,
   "id": "9154330d",
   "metadata": {
    "execution": {
     "iopub.execute_input": "2023-02-12T20:44:00.087405Z",
     "iopub.status.busy": "2023-02-12T20:44:00.086742Z",
     "iopub.status.idle": "2023-02-12T20:44:00.519015Z",
     "shell.execute_reply": "2023-02-12T20:44:00.517900Z"
    },
    "papermill": {
     "duration": 0.47614,
     "end_time": "2023-02-12T20:44:00.521312",
     "exception": false,
     "start_time": "2023-02-12T20:44:00.045172",
     "status": "completed"
    },
    "tags": []
   },
   "outputs": [
    {
     "data": {
      "image/png": "[encoded data removed]",
      "text/plain": [
       "<Figure size 864x288 with 1 Axes>"
      ]
     },
     "metadata": {
      "needs_background": "light"
     },
     "output_type": "display_data"
    }
   ],
   "source": [
    "full_df.groupby([\"SHOP_ID\"])[\"TOTAL_TRANSACTIONS\"].sum().sort_values(ascending = False).plot(kind = \"bar\", figsize = (12, 4));"
   ]
  },
  {
   "cell_type": "markdown",
   "id": "96528079",
   "metadata": {
    "papermill": {
     "duration": 0.038852,
     "end_time": "2023-02-12T20:44:00.599779",
     "exception": false,
     "start_time": "2023-02-12T20:44:00.560927",
     "status": "completed"
    },
    "tags": []
   },
   "source": [
    "<a id='build_ts_features'></a>\n",
    "### Build Time Series Features (**CORE IDEA**)\n",
    "[Volver al índice](#index)<br>"
   ]
  },
  {
   "cell_type": "markdown",
   "id": "12ed9208",
   "metadata": {
    "papermill": {
     "duration": 0.038605,
     "end_time": "2023-02-12T20:44:00.677386",
     "exception": false,
     "start_time": "2023-02-12T20:44:00.638781",
     "status": "completed"
    },
    "tags": []
   },
   "source": [
    "Dado que vamos a tener que iterar muchas veces sobre nuestro dataset, nos interesa tener todo encapsulado en funciones para su reutilización.\n",
    "\n",
    "Uno de los apartados clave será la generación de variables.\n",
    "\n",
    "Como hemos visto antes, nuestro dataset contiene 299 Series Temporales.\n",
    "\n",
    "Algunas de estas Series Temporales las podemos agrupar para sacar nueva información.\n",
    "\n",
    "Por ejemplo, podemos construir una variables del estilo:\n",
    "\n",
    "1. Las ventas totales por ITEM_ID (la menor granularidad posible).\n",
    "2. Las ventas totales por ITEM_CATEGORY_ID y SHOP_ID (una granularidad mayor a la 1).\n",
    "3. Las ventas totales por SHOP_ID (una granularidad mayor).\n",
    "4. Y todas las combinaciones que queramos intermedias."
   ]
  },
  {
   "cell_type": "code",
   "execution_count": 56,
   "id": "a1e132c5",
   "metadata": {
    "execution": {
     "iopub.execute_input": "2023-02-12T20:44:00.758250Z",
     "iopub.status.busy": "2023-02-12T20:44:00.757601Z",
     "iopub.status.idle": "2023-02-12T20:44:00.773694Z",
     "shell.execute_reply": "2023-02-12T20:44:00.772591Z"
    },
    "papermill": {
     "duration": 0.059361,
     "end_time": "2023-02-12T20:44:00.776091",
     "exception": false,
     "start_time": "2023-02-12T20:44:00.716730",
     "status": "completed"
    },
    "tags": []
   },
   "outputs": [
    {
     "data": {
      "text/html": [
       "<div>\n",
       "<style scoped>\n",
       "    .dataframe tbody tr th:only-of-type {\n",
       "        vertical-align: middle;\n",
       "    }\n",
       "\n",
       "    .dataframe tbody tr th {\n",
       "        vertical-align: top;\n",
       "    }\n",
       "\n",
       "    .dataframe thead th {\n",
       "        text-align: right;\n",
       "    }\n",
       "</style>\n",
       "<table border=\"1\" class=\"dataframe\">\n",
       "  <thead>\n",
       "    <tr style=\"text-align: right;\">\n",
       "      <th></th>\n",
       "      <th>8975</th>\n",
       "      <th>4188</th>\n",
       "      <th>2949</th>\n",
       "      <th>3430</th>\n",
       "      <th>269</th>\n",
       "    </tr>\n",
       "  </thead>\n",
       "  <tbody>\n",
       "    <tr>\n",
       "      <th>DATE</th>\n",
       "      <td>2015-07-31 00:00:00</td>\n",
       "      <td>2014-03-31 00:00:00</td>\n",
       "      <td>2013-10-31 00:00:00</td>\n",
       "      <td>2013-12-31 00:00:00</td>\n",
       "      <td>2013-01-31 00:00:00</td>\n",
       "    </tr>\n",
       "    <tr>\n",
       "      <th>UNIQUE_ID</th>\n",
       "      <td>12-11373</td>\n",
       "      <td>12-11365</td>\n",
       "      <td>57-2308</td>\n",
       "      <td>31-21440</td>\n",
       "      <td>57-6185</td>\n",
       "    </tr>\n",
       "    <tr>\n",
       "      <th>MONTHLY_SALES</th>\n",
       "      <td>201.0</td>\n",
       "      <td>59.0</td>\n",
       "      <td>2.0</td>\n",
       "      <td>14.0</td>\n",
       "      <td>2.0</td>\n",
       "    </tr>\n",
       "    <tr>\n",
       "      <th>MONTHLY_REVENUE</th>\n",
       "      <td>35800.0</td>\n",
       "      <td>32190.0</td>\n",
       "      <td>1298.0</td>\n",
       "      <td>2086.0</td>\n",
       "      <td>660.0</td>\n",
       "    </tr>\n",
       "    <tr>\n",
       "      <th>UNIQUE_DAYS_WITH_SALES</th>\n",
       "      <td>19.0</td>\n",
       "      <td>10.0</td>\n",
       "      <td>2.0</td>\n",
       "      <td>13.0</td>\n",
       "      <td>2.0</td>\n",
       "    </tr>\n",
       "    <tr>\n",
       "      <th>TOTAL_TRANSACTIONS</th>\n",
       "      <td>19.0</td>\n",
       "      <td>10.0</td>\n",
       "      <td>2.0</td>\n",
       "      <td>13.0</td>\n",
       "      <td>2.0</td>\n",
       "    </tr>\n",
       "    <tr>\n",
       "      <th>MONTHLY_MEAN_PRICE</th>\n",
       "      <td>289.82926</td>\n",
       "      <td>1099.694152</td>\n",
       "      <td>649.0</td>\n",
       "      <td>149.0</td>\n",
       "      <td>330.0</td>\n",
       "    </tr>\n",
       "    <tr>\n",
       "      <th>CITY_NAME</th>\n",
       "      <td>Tienda Online</td>\n",
       "      <td>Tienda Online</td>\n",
       "      <td>Yakutsk</td>\n",
       "      <td>Moscú</td>\n",
       "      <td>Yakutsk</td>\n",
       "    </tr>\n",
       "    <tr>\n",
       "      <th>CITY_ID</th>\n",
       "      <td>16.0</td>\n",
       "      <td>16.0</td>\n",
       "      <td>23.0</td>\n",
       "      <td>7.0</td>\n",
       "      <td>23.0</td>\n",
       "    </tr>\n",
       "    <tr>\n",
       "      <th>SHOP_NAME</th>\n",
       "      <td>La tienda en línea Emergencias</td>\n",
       "      <td>La tienda en línea Emergencias</td>\n",
       "      <td>Yakutsk Ordzhonikidze, 56</td>\n",
       "      <td>centro comercial de Moscú \"Semenov\"</td>\n",
       "      <td>Yakutsk Ordzhonikidze, 56</td>\n",
       "    </tr>\n",
       "    <tr>\n",
       "      <th>SHOP_ID</th>\n",
       "      <td>12</td>\n",
       "      <td>12</td>\n",
       "      <td>57</td>\n",
       "      <td>31</td>\n",
       "      <td>57</td>\n",
       "    </tr>\n",
       "    <tr>\n",
       "      <th>ITEM_CATEGORY_NAME</th>\n",
       "      <td>Entrega de bienes</td>\n",
       "      <td>Entrega de bienes</td>\n",
       "      <td>Juegos PC - Standard Edition</td>\n",
       "      <td>Película - DVD</td>\n",
       "      <td>Juegos PC - Standard Edition</td>\n",
       "    </tr>\n",
       "    <tr>\n",
       "      <th>ITEM_CATEGORY_ID</th>\n",
       "      <td>9</td>\n",
       "      <td>9</td>\n",
       "      <td>30</td>\n",
       "      <td>40</td>\n",
       "      <td>30</td>\n",
       "    </tr>\n",
       "    <tr>\n",
       "      <th>ITEM_NAME</th>\n",
       "      <td>Entrega a emisión (Boxberry)</td>\n",
       "      <td>Entrega (EMS)</td>\n",
       "      <td>Call of Duty: Black Ops II [PC, Jewel, versión...</td>\n",
       "      <td>RISE OF THE GUARDIANS</td>\n",
       "      <td>S.T.A.L.K.E.R.: Llame a Pripyat [PC, JEWEL, ve...</td>\n",
       "    </tr>\n",
       "    <tr>\n",
       "      <th>ITEM_ID</th>\n",
       "      <td>11373</td>\n",
       "      <td>11365</td>\n",
       "      <td>2308</td>\n",
       "      <td>21440</td>\n",
       "      <td>6185</td>\n",
       "    </tr>\n",
       "  </tbody>\n",
       "</table>\n",
       "</div>"
      ],
      "text/plain": [
       "                                                  8975  \\\n",
       "DATE                               2015-07-31 00:00:00   \n",
       "UNIQUE_ID                                     12-11373   \n",
       "MONTHLY_SALES                                    201.0   \n",
       "MONTHLY_REVENUE                                35800.0   \n",
       "UNIQUE_DAYS_WITH_SALES                            19.0   \n",
       "TOTAL_TRANSACTIONS                                19.0   \n",
       "MONTHLY_MEAN_PRICE                           289.82926   \n",
       "CITY_NAME                                Tienda Online   \n",
       "CITY_ID                                           16.0   \n",
       "SHOP_NAME               La tienda en línea Emergencias   \n",
       "SHOP_ID                                             12   \n",
       "ITEM_CATEGORY_NAME                   Entrega de bienes   \n",
       "ITEM_CATEGORY_ID                                     9   \n",
       "ITEM_NAME                 Entrega a emisión (Boxberry)   \n",
       "ITEM_ID                                          11373   \n",
       "\n",
       "                                                  4188  \\\n",
       "DATE                               2014-03-31 00:00:00   \n",
       "UNIQUE_ID                                     12-11365   \n",
       "MONTHLY_SALES                                     59.0   \n",
       "MONTHLY_REVENUE                                32190.0   \n",
       "UNIQUE_DAYS_WITH_SALES                            10.0   \n",
       "TOTAL_TRANSACTIONS                                10.0   \n",
       "MONTHLY_MEAN_PRICE                         1099.694152   \n",
       "CITY_NAME                                Tienda Online   \n",
       "CITY_ID                                           16.0   \n",
       "SHOP_NAME               La tienda en línea Emergencias   \n",
       "SHOP_ID                                             12   \n",
       "ITEM_CATEGORY_NAME                   Entrega de bienes   \n",
       "ITEM_CATEGORY_ID                                     9   \n",
       "ITEM_NAME                                Entrega (EMS)   \n",
       "ITEM_ID                                          11365   \n",
       "\n",
       "                                                                     2949  \\\n",
       "DATE                                                  2013-10-31 00:00:00   \n",
       "UNIQUE_ID                                                         57-2308   \n",
       "MONTHLY_SALES                                                         2.0   \n",
       "MONTHLY_REVENUE                                                    1298.0   \n",
       "UNIQUE_DAYS_WITH_SALES                                                2.0   \n",
       "TOTAL_TRANSACTIONS                                                    2.0   \n",
       "MONTHLY_MEAN_PRICE                                                  649.0   \n",
       "CITY_NAME                                                         Yakutsk   \n",
       "CITY_ID                                                              23.0   \n",
       "SHOP_NAME                                       Yakutsk Ordzhonikidze, 56   \n",
       "SHOP_ID                                                                57   \n",
       "ITEM_CATEGORY_NAME                           Juegos PC - Standard Edition   \n",
       "ITEM_CATEGORY_ID                                                       30   \n",
       "ITEM_NAME               Call of Duty: Black Ops II [PC, Jewel, versión...   \n",
       "ITEM_ID                                                              2308   \n",
       "\n",
       "                                                       3430  \\\n",
       "DATE                                    2013-12-31 00:00:00   \n",
       "UNIQUE_ID                                          31-21440   \n",
       "MONTHLY_SALES                                          14.0   \n",
       "MONTHLY_REVENUE                                      2086.0   \n",
       "UNIQUE_DAYS_WITH_SALES                                 13.0   \n",
       "TOTAL_TRANSACTIONS                                     13.0   \n",
       "MONTHLY_MEAN_PRICE                                    149.0   \n",
       "CITY_NAME                                             Moscú   \n",
       "CITY_ID                                                 7.0   \n",
       "SHOP_NAME               centro comercial de Moscú \"Semenov\"   \n",
       "SHOP_ID                                                  31   \n",
       "ITEM_CATEGORY_NAME                           Película - DVD   \n",
       "ITEM_CATEGORY_ID                                         40   \n",
       "ITEM_NAME                             RISE OF THE GUARDIANS   \n",
       "ITEM_ID                                               21440   \n",
       "\n",
       "                                                                     269   \n",
       "DATE                                                  2013-01-31 00:00:00  \n",
       "UNIQUE_ID                                                         57-6185  \n",
       "MONTHLY_SALES                                                         2.0  \n",
       "MONTHLY_REVENUE                                                     660.0  \n",
       "UNIQUE_DAYS_WITH_SALES                                                2.0  \n",
       "TOTAL_TRANSACTIONS                                                    2.0  \n",
       "MONTHLY_MEAN_PRICE                                                  330.0  \n",
       "CITY_NAME                                                         Yakutsk  \n",
       "CITY_ID                                                              23.0  \n",
       "SHOP_NAME                                       Yakutsk Ordzhonikidze, 56  \n",
       "SHOP_ID                                                                57  \n",
       "ITEM_CATEGORY_NAME                           Juegos PC - Standard Edition  \n",
       "ITEM_CATEGORY_ID                                                       30  \n",
       "ITEM_NAME               S.T.A.L.K.E.R.: Llame a Pripyat [PC, JEWEL, ve...  \n",
       "ITEM_ID                                                              6185  "
      ]
     },
     "execution_count": 56,
     "metadata": {},
     "output_type": "execute_result"
    }
   ],
   "source": [
    "full_df.sample(5).T"
   ]
  },
  {
   "cell_type": "code",
   "execution_count": 57,
   "id": "0699e350",
   "metadata": {
    "execution": {
     "iopub.execute_input": "2023-02-12T20:44:00.857794Z",
     "iopub.status.busy": "2023-02-12T20:44:00.857361Z",
     "iopub.status.idle": "2023-02-12T20:44:00.899258Z",
     "shell.execute_reply": "2023-02-12T20:44:00.898246Z"
    },
    "papermill": {
     "duration": 0.085654,
     "end_time": "2023-02-12T20:44:00.901675",
     "exception": false,
     "start_time": "2023-02-12T20:44:00.816021",
     "status": "completed"
    },
    "tags": []
   },
   "outputs": [
    {
     "data": {
      "text/html": [
       "<div>\n",
       "<style scoped>\n",
       "    .dataframe tbody tr th:only-of-type {\n",
       "        vertical-align: middle;\n",
       "    }\n",
       "\n",
       "    .dataframe tbody tr th {\n",
       "        vertical-align: top;\n",
       "    }\n",
       "\n",
       "    .dataframe thead th {\n",
       "        text-align: right;\n",
       "    }\n",
       "</style>\n",
       "<table border=\"1\" class=\"dataframe\">\n",
       "  <thead>\n",
       "    <tr style=\"text-align: right;\">\n",
       "      <th></th>\n",
       "      <th>MONTHLY_SALES</th>\n",
       "      <th>MONTHLY_REVENUE</th>\n",
       "      <th>UNIQUE_DAYS_WITH_SALES</th>\n",
       "      <th>TOTAL_TRANSACTIONS</th>\n",
       "      <th>MONTHLY_MEAN_PRICE</th>\n",
       "      <th>CITY_ID</th>\n",
       "      <th>SHOP_ID</th>\n",
       "      <th>ITEM_CATEGORY_ID</th>\n",
       "      <th>ITEM_ID</th>\n",
       "    </tr>\n",
       "  </thead>\n",
       "  <tbody>\n",
       "    <tr>\n",
       "      <th>count</th>\n",
       "      <td>10166.000000</td>\n",
       "      <td>1.016600e+04</td>\n",
       "      <td>10166.000000</td>\n",
       "      <td>10166.000000</td>\n",
       "      <td>10166.000000</td>\n",
       "      <td>10166.000000</td>\n",
       "      <td>10166.000000</td>\n",
       "      <td>10166.000000</td>\n",
       "      <td>10166.000000</td>\n",
       "    </tr>\n",
       "    <tr>\n",
       "      <th>mean</th>\n",
       "      <td>25.812512</td>\n",
       "      <td>1.204735e+04</td>\n",
       "      <td>8.647256</td>\n",
       "      <td>8.652666</td>\n",
       "      <td>949.353186</td>\n",
       "      <td>11.498328</td>\n",
       "      <td>33.494983</td>\n",
       "      <td>44.806020</td>\n",
       "      <td>9955.260870</td>\n",
       "    </tr>\n",
       "    <tr>\n",
       "      <th>std</th>\n",
       "      <td>70.325451</td>\n",
       "      <td>3.382507e+04</td>\n",
       "      <td>8.036213</td>\n",
       "      <td>8.042035</td>\n",
       "      <td>851.485314</td>\n",
       "      <td>6.684996</td>\n",
       "      <td>15.435457</td>\n",
       "      <td>23.227004</td>\n",
       "      <td>6928.714259</td>\n",
       "    </tr>\n",
       "    <tr>\n",
       "      <th>min</th>\n",
       "      <td>0.000000</td>\n",
       "      <td>0.000000e+00</td>\n",
       "      <td>0.000000</td>\n",
       "      <td>0.000000</td>\n",
       "      <td>3.000000</td>\n",
       "      <td>0.000000</td>\n",
       "      <td>3.000000</td>\n",
       "      <td>2.000000</td>\n",
       "      <td>32.000000</td>\n",
       "    </tr>\n",
       "    <tr>\n",
       "      <th>25%</th>\n",
       "      <td>3.000000</td>\n",
       "      <td>5.560000e+02</td>\n",
       "      <td>3.000000</td>\n",
       "      <td>3.000000</td>\n",
       "      <td>299.000000</td>\n",
       "      <td>7.000000</td>\n",
       "      <td>24.000000</td>\n",
       "      <td>30.000000</td>\n",
       "      <td>4181.000000</td>\n",
       "    </tr>\n",
       "    <tr>\n",
       "      <th>50%</th>\n",
       "      <td>8.000000</td>\n",
       "      <td>3.973880e+03</td>\n",
       "      <td>7.000000</td>\n",
       "      <td>7.000000</td>\n",
       "      <td>799.000000</td>\n",
       "      <td>7.000000</td>\n",
       "      <td>31.000000</td>\n",
       "      <td>35.000000</td>\n",
       "      <td>6738.000000</td>\n",
       "    </tr>\n",
       "    <tr>\n",
       "      <th>75%</th>\n",
       "      <td>18.000000</td>\n",
       "      <td>1.299500e+04</td>\n",
       "      <td>12.000000</td>\n",
       "      <td>12.000000</td>\n",
       "      <td>1199.000000</td>\n",
       "      <td>16.000000</td>\n",
       "      <td>47.000000</td>\n",
       "      <td>71.000000</td>\n",
       "      <td>17717.000000</td>\n",
       "    </tr>\n",
       "    <tr>\n",
       "      <th>max</th>\n",
       "      <td>1305.000000</td>\n",
       "      <td>1.402562e+06</td>\n",
       "      <td>31.000000</td>\n",
       "      <td>34.000000</td>\n",
       "      <td>9305.121212</td>\n",
       "      <td>25.000000</td>\n",
       "      <td>59.000000</td>\n",
       "      <td>83.000000</td>\n",
       "      <td>22167.000000</td>\n",
       "    </tr>\n",
       "  </tbody>\n",
       "</table>\n",
       "</div>"
      ],
      "text/plain": [
       "       MONTHLY_SALES  MONTHLY_REVENUE  UNIQUE_DAYS_WITH_SALES  \\\n",
       "count   10166.000000     1.016600e+04            10166.000000   \n",
       "mean       25.812512     1.204735e+04                8.647256   \n",
       "std        70.325451     3.382507e+04                8.036213   \n",
       "min         0.000000     0.000000e+00                0.000000   \n",
       "25%         3.000000     5.560000e+02                3.000000   \n",
       "50%         8.000000     3.973880e+03                7.000000   \n",
       "75%        18.000000     1.299500e+04               12.000000   \n",
       "max      1305.000000     1.402562e+06               31.000000   \n",
       "\n",
       "       TOTAL_TRANSACTIONS  MONTHLY_MEAN_PRICE       CITY_ID       SHOP_ID  \\\n",
       "count        10166.000000        10166.000000  10166.000000  10166.000000   \n",
       "mean             8.652666          949.353186     11.498328     33.494983   \n",
       "std              8.042035          851.485314      6.684996     15.435457   \n",
       "min              0.000000            3.000000      0.000000      3.000000   \n",
       "25%              3.000000          299.000000      7.000000     24.000000   \n",
       "50%              7.000000          799.000000      7.000000     31.000000   \n",
       "75%             12.000000         1199.000000     16.000000     47.000000   \n",
       "max             34.000000         9305.121212     25.000000     59.000000   \n",
       "\n",
       "       ITEM_CATEGORY_ID       ITEM_ID  \n",
       "count      10166.000000  10166.000000  \n",
       "mean          44.806020   9955.260870  \n",
       "std           23.227004   6928.714259  \n",
       "min            2.000000     32.000000  \n",
       "25%           30.000000   4181.000000  \n",
       "50%           35.000000   6738.000000  \n",
       "75%           71.000000  17717.000000  \n",
       "max           83.000000  22167.000000  "
      ]
     },
     "execution_count": 57,
     "metadata": {},
     "output_type": "execute_result"
    }
   ],
   "source": [
    "full_df.describe()"
   ]
  },
  {
   "cell_type": "code",
   "execution_count": 58,
   "id": "ff84004e",
   "metadata": {
    "execution": {
     "iopub.execute_input": "2023-02-12T20:44:00.983696Z",
     "iopub.status.busy": "2023-02-12T20:44:00.983245Z",
     "iopub.status.idle": "2023-02-12T20:44:01.008330Z",
     "shell.execute_reply": "2023-02-12T20:44:01.007050Z"
    },
    "papermill": {
     "duration": 0.068996,
     "end_time": "2023-02-12T20:44:01.010738",
     "exception": false,
     "start_time": "2023-02-12T20:44:00.941742",
     "status": "completed"
    },
    "tags": []
   },
   "outputs": [
    {
     "data": {
      "text/html": [
       "<div>\n",
       "<style scoped>\n",
       "    .dataframe tbody tr th:only-of-type {\n",
       "        vertical-align: middle;\n",
       "    }\n",
       "\n",
       "    .dataframe tbody tr th {\n",
       "        vertical-align: top;\n",
       "    }\n",
       "\n",
       "    .dataframe thead th {\n",
       "        text-align: right;\n",
       "    }\n",
       "</style>\n",
       "<table border=\"1\" class=\"dataframe\">\n",
       "  <thead>\n",
       "    <tr style=\"text-align: right;\">\n",
       "      <th></th>\n",
       "      <th>DATE</th>\n",
       "      <th>UNIQUE_ID</th>\n",
       "      <th>MONTHLY_SALES</th>\n",
       "      <th>MONTHLY_REVENUE</th>\n",
       "      <th>UNIQUE_DAYS_WITH_SALES</th>\n",
       "      <th>TOTAL_TRANSACTIONS</th>\n",
       "      <th>MONTHLY_MEAN_PRICE</th>\n",
       "      <th>CITY_NAME</th>\n",
       "      <th>CITY_ID</th>\n",
       "      <th>SHOP_NAME</th>\n",
       "      <th>SHOP_ID</th>\n",
       "      <th>ITEM_CATEGORY_NAME</th>\n",
       "      <th>ITEM_CATEGORY_ID</th>\n",
       "      <th>ITEM_NAME</th>\n",
       "      <th>ITEM_ID</th>\n",
       "    </tr>\n",
       "  </thead>\n",
       "  <tbody>\n",
       "    <tr>\n",
       "      <th>9175</th>\n",
       "      <td>2015-07-31</td>\n",
       "      <td>46-5822</td>\n",
       "      <td>5.0</td>\n",
       "      <td>5745.0</td>\n",
       "      <td>3.0</td>\n",
       "      <td>3.0</td>\n",
       "      <td>1149.0</td>\n",
       "      <td>Posad</td>\n",
       "      <td>11.0</td>\n",
       "      <td>Posad TC \"7YA\"</td>\n",
       "      <td>46</td>\n",
       "      <td>Las tarjetas de pago - PSN</td>\n",
       "      <td>35</td>\n",
       "      <td>PlayStation Tienda Reposición de la billetera:...</td>\n",
       "      <td>5822</td>\n",
       "    </tr>\n",
       "    <tr>\n",
       "      <th>10087</th>\n",
       "      <td>2015-10-31</td>\n",
       "      <td>50-20949</td>\n",
       "      <td>0.0</td>\n",
       "      <td>0.0</td>\n",
       "      <td>0.0</td>\n",
       "      <td>0.0</td>\n",
       "      <td>5.0</td>\n",
       "      <td>Tyumen</td>\n",
       "      <td>18.0</td>\n",
       "      <td>Tyumen SC \"Goodwin\"</td>\n",
       "      <td>50</td>\n",
       "      <td>Regalos - Bolsas, álbumes, Mats d / ratón</td>\n",
       "      <td>71</td>\n",
       "      <td>Paquete corporativo Mike 1C Interés blanco (34...</td>\n",
       "      <td>20949</td>\n",
       "    </tr>\n",
       "    <tr>\n",
       "      <th>3833</th>\n",
       "      <td>2014-01-31</td>\n",
       "      <td>55-7967</td>\n",
       "      <td>0.0</td>\n",
       "      <td>0.0</td>\n",
       "      <td>0.0</td>\n",
       "      <td>0.0</td>\n",
       "      <td>699.0</td>\n",
       "      <td>Tienda Online</td>\n",
       "      <td>16.0</td>\n",
       "      <td>El almacenamiento digital 1C-line</td>\n",
       "      <td>55</td>\n",
       "      <td>Las tarjetas de pago - en vivo! (Número)</td>\n",
       "      <td>34</td>\n",
       "      <td>Xbox LIVE: Mapa de suscripción de oro 3 meses ...</td>\n",
       "      <td>7967</td>\n",
       "    </tr>\n",
       "    <tr>\n",
       "      <th>7101</th>\n",
       "      <td>2014-12-31</td>\n",
       "      <td>50-7893</td>\n",
       "      <td>7.0</td>\n",
       "      <td>17530.0</td>\n",
       "      <td>5.0</td>\n",
       "      <td>5.0</td>\n",
       "      <td>2470.0</td>\n",
       "      <td>Tyumen</td>\n",
       "      <td>18.0</td>\n",
       "      <td>Tyumen SC \"Goodwin\"</td>\n",
       "      <td>50</td>\n",
       "      <td>Accesorios - XBOX 360</td>\n",
       "      <td>6</td>\n",
       "      <td>X360: GamePad Wireless Black - Controlador ina...</td>\n",
       "      <td>7893</td>\n",
       "    </tr>\n",
       "    <tr>\n",
       "      <th>9309</th>\n",
       "      <td>2015-08-31</td>\n",
       "      <td>22-22167</td>\n",
       "      <td>13.0</td>\n",
       "      <td>3887.0</td>\n",
       "      <td>8.0</td>\n",
       "      <td>8.0</td>\n",
       "      <td>299.0</td>\n",
       "      <td>Moscú</td>\n",
       "      <td>7.0</td>\n",
       "      <td>Moscú C21 tienda</td>\n",
       "      <td>22</td>\n",
       "      <td>Libros - materiales metódicas 1C</td>\n",
       "      <td>49</td>\n",
       "      <td>Idioma de consulta 1C: Empresas 8 (+ CD). Khru...</td>\n",
       "      <td>22167</td>\n",
       "    </tr>\n",
       "  </tbody>\n",
       "</table>\n",
       "</div>"
      ],
      "text/plain": [
       "            DATE UNIQUE_ID  MONTHLY_SALES  MONTHLY_REVENUE  \\\n",
       "9175  2015-07-31   46-5822            5.0           5745.0   \n",
       "10087 2015-10-31  50-20949            0.0              0.0   \n",
       "3833  2014-01-31   55-7967            0.0              0.0   \n",
       "7101  2014-12-31   50-7893            7.0          17530.0   \n",
       "9309  2015-08-31  22-22167           13.0           3887.0   \n",
       "\n",
       "       UNIQUE_DAYS_WITH_SALES  TOTAL_TRANSACTIONS  MONTHLY_MEAN_PRICE  \\\n",
       "9175                      3.0                 3.0              1149.0   \n",
       "10087                     0.0                 0.0                 5.0   \n",
       "3833                      0.0                 0.0               699.0   \n",
       "7101                      5.0                 5.0              2470.0   \n",
       "9309                      8.0                 8.0               299.0   \n",
       "\n",
       "           CITY_NAME  CITY_ID                          SHOP_NAME  SHOP_ID  \\\n",
       "9175           Posad     11.0                     Posad TC \"7YA\"       46   \n",
       "10087         Tyumen     18.0                Tyumen SC \"Goodwin\"       50   \n",
       "3833   Tienda Online     16.0  El almacenamiento digital 1C-line       55   \n",
       "7101          Tyumen     18.0                Tyumen SC \"Goodwin\"       50   \n",
       "9309           Moscú      7.0                   Moscú C21 tienda       22   \n",
       "\n",
       "                              ITEM_CATEGORY_NAME  ITEM_CATEGORY_ID  \\\n",
       "9175                  Las tarjetas de pago - PSN                35   \n",
       "10087  Regalos - Bolsas, álbumes, Mats d / ratón                71   \n",
       "3833    Las tarjetas de pago - en vivo! (Número)                34   \n",
       "7101                       Accesorios - XBOX 360                 6   \n",
       "9309            Libros - materiales metódicas 1C                49   \n",
       "\n",
       "                                               ITEM_NAME  ITEM_ID  \n",
       "9175   PlayStation Tienda Reposición de la billetera:...     5822  \n",
       "10087  Paquete corporativo Mike 1C Interés blanco (34...    20949  \n",
       "3833   Xbox LIVE: Mapa de suscripción de oro 3 meses ...     7967  \n",
       "7101   X360: GamePad Wireless Black - Controlador ina...     7893  \n",
       "9309   Idioma de consulta 1C: Empresas 8 (+ CD). Khru...    22167  "
      ]
     },
     "execution_count": 58,
     "metadata": {},
     "output_type": "execute_result"
    }
   ],
   "source": [
    "#Aquí cambié el DF dejando afuera el año 2013\n",
    "\n",
    "full_df = full_df[(full_df['DATE'] >= '2014-01-01') & (full_df['DATE'] < '2016-01-01')]\n",
    "full_df.sample(5)"
   ]
  },
  {
   "cell_type": "code",
   "execution_count": 59,
   "id": "9c75d328",
   "metadata": {
    "execution": {
     "iopub.execute_input": "2023-02-12T20:44:01.093227Z",
     "iopub.status.busy": "2023-02-12T20:44:01.092808Z",
     "iopub.status.idle": "2023-02-12T20:44:01.101734Z",
     "shell.execute_reply": "2023-02-12T20:44:01.100631Z"
    },
    "papermill": {
     "duration": 0.052992,
     "end_time": "2023-02-12T20:44:01.104000",
     "exception": false,
     "start_time": "2023-02-12T20:44:01.051008",
     "status": "completed"
    },
    "tags": []
   },
   "outputs": [
    {
     "data": {
      "text/plain": [
       "6578"
      ]
     },
     "execution_count": 59,
     "metadata": {},
     "output_type": "execute_result"
    }
   ],
   "source": [
    "#¿Para qué tenemos estos valores si no hay diferencia? \n",
    "#Hay diferencias pero son en pocos casos.\n",
    "\n",
    "check = full_df[\"UNIQUE_DAYS_WITH_SALES\"] - full_df[\"TOTAL_TRANSACTIONS\"]\n",
    "len(check)"
   ]
  },
  {
   "cell_type": "code",
   "execution_count": 60,
   "id": "7b992f14",
   "metadata": {
    "execution": {
     "iopub.execute_input": "2023-02-12T20:44:01.188376Z",
     "iopub.status.busy": "2023-02-12T20:44:01.187973Z",
     "iopub.status.idle": "2023-02-12T20:44:01.198516Z",
     "shell.execute_reply": "2023-02-12T20:44:01.197442Z"
    },
    "papermill": {
     "duration": 0.055546,
     "end_time": "2023-02-12T20:44:01.200842",
     "exception": false,
     "start_time": "2023-02-12T20:44:01.145296",
     "status": "completed"
    },
    "tags": []
   },
   "outputs": [
    {
     "data": {
      "text/plain": [
       "0"
      ]
     },
     "execution_count": 60,
     "metadata": {},
     "output_type": "execute_result"
    }
   ],
   "source": [
    "full_df1 = full_df.assign(diff = full_df[\"UNIQUE_DAYS_WITH_SALES\"].sub(full_df[\"TOTAL_TRANSACTIONS\"]))\n",
    "len(full_df1.loc[full_df1[\"diff\"] != 0])\n"
   ]
  },
  {
   "cell_type": "code",
   "execution_count": 61,
   "id": "be836d7b",
   "metadata": {
    "execution": {
     "iopub.execute_input": "2023-02-12T20:44:01.284831Z",
     "iopub.status.busy": "2023-02-12T20:44:01.284405Z",
     "iopub.status.idle": "2023-02-12T20:44:01.291888Z",
     "shell.execute_reply": "2023-02-12T20:44:01.290777Z"
    },
    "papermill": {
     "duration": 0.052955,
     "end_time": "2023-02-12T20:44:01.294354",
     "exception": false,
     "start_time": "2023-02-12T20:44:01.241399",
     "status": "completed"
    },
    "tags": []
   },
   "outputs": [],
   "source": [
    "def build_ts_vars(full_df, gb_list, target_column, agg_func, agg_func_name, verbose = True):\n",
    "    \n",
    "    assert gb_list[0] == \"DATE\", \"First element must be date\"\n",
    "    \n",
    "    new_name = \"_\".join(gb_list + [target_column] + [agg_func_name])\n",
    "    \n",
    "    if verbose: print(new_name)\n",
    "\n",
    "    gb_df_ = full_df.groupby(gb_list)[target_column].apply(agg_func).to_frame().reset_index().rename(\n",
    "        columns = {\n",
    "            target_column : new_name\n",
    "        }\n",
    "    )\n",
    "\n",
    "    gb_df_[f\"{new_name}_LAG1\"] = gb_df_.groupby(gb_list[1:])[new_name].transform(\n",
    "        lambda series: series.shift(1)\n",
    "    )\n",
    "    \n",
    "    return gb_df_"
   ]
  },
  {
   "cell_type": "code",
   "execution_count": 62,
   "id": "4fb565e3",
   "metadata": {
    "execution": {
     "iopub.execute_input": "2023-02-12T20:44:01.379044Z",
     "iopub.status.busy": "2023-02-12T20:44:01.378638Z",
     "iopub.status.idle": "2023-02-12T20:44:01.660132Z",
     "shell.execute_reply": "2023-02-12T20:44:01.658924Z"
    },
    "papermill": {
     "duration": 0.326817,
     "end_time": "2023-02-12T20:44:01.662991",
     "exception": false,
     "start_time": "2023-02-12T20:44:01.336174",
     "status": "completed"
    },
    "tags": []
   },
   "outputs": [
    {
     "name": "stdout",
     "output_type": "stream",
     "text": [
      "DATE_ITEM_ID_TOTAL_TRANSACTIONS_MEAN\n"
     ]
    },
    {
     "data": {
      "text/html": [
       "<div>\n",
       "<style scoped>\n",
       "    .dataframe tbody tr th:only-of-type {\n",
       "        vertical-align: middle;\n",
       "    }\n",
       "\n",
       "    .dataframe tbody tr th {\n",
       "        vertical-align: top;\n",
       "    }\n",
       "\n",
       "    .dataframe thead th {\n",
       "        text-align: right;\n",
       "    }\n",
       "</style>\n",
       "<table border=\"1\" class=\"dataframe\">\n",
       "  <thead>\n",
       "    <tr style=\"text-align: right;\">\n",
       "      <th></th>\n",
       "      <th>DATE</th>\n",
       "      <th>ITEM_ID</th>\n",
       "      <th>DATE_ITEM_ID_TOTAL_TRANSACTIONS_MEAN</th>\n",
       "      <th>DATE_ITEM_ID_TOTAL_TRANSACTIONS_MEAN_LAG1</th>\n",
       "    </tr>\n",
       "  </thead>\n",
       "  <tbody>\n",
       "    <tr>\n",
       "      <th>122</th>\n",
       "      <td>2014-02-28</td>\n",
       "      <td>3331</td>\n",
       "      <td>16.0</td>\n",
       "      <td>15.0</td>\n",
       "    </tr>\n",
       "  </tbody>\n",
       "</table>\n",
       "</div>"
      ],
      "text/plain": [
       "          DATE  ITEM_ID  DATE_ITEM_ID_TOTAL_TRANSACTIONS_MEAN  \\\n",
       "122 2014-02-28     3331                                  16.0   \n",
       "\n",
       "     DATE_ITEM_ID_TOTAL_TRANSACTIONS_MEAN_LAG1  \n",
       "122                                       15.0  "
      ]
     },
     "execution_count": 62,
     "metadata": {},
     "output_type": "execute_result"
    }
   ],
   "source": [
    "#VARIABLE PRINCIPAL - POR AHORA - INTOCABLE \n",
    "GB_LIST_SHOP_ID = [\"DATE\", \"ITEM_ID\"]\n",
    "TARGET_COLUMN = \"TOTAL_TRANSACTIONS\"\n",
    "AGG_FUNC = np.mean\n",
    "AGG_FUNC_NAME = \"MEAN\" \n",
    "\n",
    "vars_ts_shop_id = build_ts_vars(\n",
    "    full_df = full_df,\n",
    "    gb_list = GB_LIST_SHOP_ID,\n",
    "    target_column = TARGET_COLUMN,\n",
    "    agg_func = AGG_FUNC,\n",
    "    agg_func_name =  AGG_FUNC_NAME\n",
    "    \n",
    ")\n",
    "\n",
    "vars_ts_shop_id.sample(1)"
   ]
  },
  {
   "cell_type": "code",
   "execution_count": 63,
   "id": "85d19f7b",
   "metadata": {
    "execution": {
     "iopub.execute_input": "2023-02-12T20:44:01.747140Z",
     "iopub.status.busy": "2023-02-12T20:44:01.746349Z",
     "iopub.status.idle": "2023-02-12T20:44:01.762759Z",
     "shell.execute_reply": "2023-02-12T20:44:01.761555Z"
    },
    "papermill": {
     "duration": 0.061202,
     "end_time": "2023-02-12T20:44:01.765340",
     "exception": false,
     "start_time": "2023-02-12T20:44:01.704138",
     "status": "completed"
    },
    "tags": []
   },
   "outputs": [
    {
     "name": "stdout",
     "output_type": "stream",
     "text": [
      "Shape before merge is 6578\n",
      "Shape after merge is 6578\n"
     ]
    }
   ],
   "source": [
    "rows_before_merge = full_df.shape[0]\n",
    "print(f\"Shape before merge is {rows_before_merge}\")\n",
    "\n",
    "full_df = pd.merge(full_df, vars_ts_shop_id, on = GB_LIST_SHOP_ID, how = \"left\")\n",
    "\n",
    "rows_after_merge = full_df.shape[0]\n",
    "\n",
    "print(f\"Shape after merge is {rows_after_merge}\")\n",
    "\n",
    "assert rows_before_merge == rows_after_merge, \"You have generated a cartesian product!\""
   ]
  },
  {
   "cell_type": "code",
   "execution_count": 64,
   "id": "059decdf",
   "metadata": {
    "execution": {
     "iopub.execute_input": "2023-02-12T20:44:01.851405Z",
     "iopub.status.busy": "2023-02-12T20:44:01.851048Z",
     "iopub.status.idle": "2023-02-12T20:44:01.857690Z",
     "shell.execute_reply": "2023-02-12T20:44:01.856891Z"
    },
    "papermill": {
     "duration": 0.052514,
     "end_time": "2023-02-12T20:44:01.859688",
     "exception": false,
     "start_time": "2023-02-12T20:44:01.807174",
     "status": "completed"
    },
    "tags": []
   },
   "outputs": [],
   "source": [
    "#SUMANDO VARIABLES# \n",
    "\n",
    "def build_ts_vars(full_df, gb_list, target_column, agg_func, agg_func_name, verbose = True):\n",
    "    \n",
    "    assert gb_list[0] == \"DATE\", \"First element must be date\"\n",
    "    \n",
    "    new_name = \"_\".join(gb_list + [target_column] + [agg_func_name])\n",
    "    \n",
    "    if verbose: print(new_name)\n",
    "\n",
    "    gb_df_ = full_df.groupby(gb_list)[target_column].apply(agg_func).to_frame().reset_index().rename(\n",
    "        columns = {\n",
    "            target_column : new_name\n",
    "        }\n",
    "    )\n",
    "\n",
    "    gb_df_[f\"{new_name}_LAG5\"] = gb_df_.groupby(gb_list[1:])[new_name].transform(\n",
    "        lambda series: series.shift(5)\n",
    "    )\n",
    "    \n",
    "    return gb_df_"
   ]
  },
  {
   "cell_type": "code",
   "execution_count": 65,
   "id": "5c24e5a4",
   "metadata": {
    "execution": {
     "iopub.execute_input": "2023-02-12T20:44:01.944407Z",
     "iopub.status.busy": "2023-02-12T20:44:01.944037Z",
     "iopub.status.idle": "2023-02-12T20:44:02.732118Z",
     "shell.execute_reply": "2023-02-12T20:44:02.731014Z"
    },
    "papermill": {
     "duration": 0.833294,
     "end_time": "2023-02-12T20:44:02.734624",
     "exception": false,
     "start_time": "2023-02-12T20:44:01.901330",
     "status": "completed"
    },
    "tags": []
   },
   "outputs": [
    {
     "name": "stdout",
     "output_type": "stream",
     "text": [
      "DATE_SHOP_ID_ITEM_ID_MONTHLY_SALES_MEAN\n"
     ]
    },
    {
     "data": {
      "text/html": [
       "<div>\n",
       "<style scoped>\n",
       "    .dataframe tbody tr th:only-of-type {\n",
       "        vertical-align: middle;\n",
       "    }\n",
       "\n",
       "    .dataframe tbody tr th {\n",
       "        vertical-align: top;\n",
       "    }\n",
       "\n",
       "    .dataframe thead th {\n",
       "        text-align: right;\n",
       "    }\n",
       "</style>\n",
       "<table border=\"1\" class=\"dataframe\">\n",
       "  <thead>\n",
       "    <tr style=\"text-align: right;\">\n",
       "      <th></th>\n",
       "      <th>DATE</th>\n",
       "      <th>SHOP_ID</th>\n",
       "      <th>ITEM_ID</th>\n",
       "      <th>DATE_SHOP_ID_ITEM_ID_MONTHLY_SALES_MEAN</th>\n",
       "      <th>DATE_SHOP_ID_ITEM_ID_MONTHLY_SALES_MEAN_LAG5</th>\n",
       "    </tr>\n",
       "  </thead>\n",
       "  <tbody>\n",
       "    <tr>\n",
       "      <th>611</th>\n",
       "      <td>2014-03-31</td>\n",
       "      <td>6</td>\n",
       "      <td>17717</td>\n",
       "      <td>11.0</td>\n",
       "      <td>NaN</td>\n",
       "    </tr>\n",
       "  </tbody>\n",
       "</table>\n",
       "</div>"
      ],
      "text/plain": [
       "          DATE  SHOP_ID  ITEM_ID  DATE_SHOP_ID_ITEM_ID_MONTHLY_SALES_MEAN  \\\n",
       "611 2014-03-31        6    17717                                     11.0   \n",
       "\n",
       "     DATE_SHOP_ID_ITEM_ID_MONTHLY_SALES_MEAN_LAG5  \n",
       "611                                           NaN  "
      ]
     },
     "execution_count": 65,
     "metadata": {},
     "output_type": "execute_result"
    }
   ],
   "source": [
    "GB_LIST_SHOP_ID = [\"DATE\", \"SHOP_ID\", \"ITEM_ID\"]\n",
    "TARGET_COLUMN = \"MONTHLY_SALES\"\n",
    "AGG_FUNC = np.mean\n",
    "AGG_FUNC_NAME = \"MEAN\"\n",
    "\n",
    "var_2 = build_ts_vars(\n",
    "    full_df = full_df,\n",
    "    gb_list = GB_LIST_SHOP_ID,\n",
    "    target_column = TARGET_COLUMN,\n",
    "    agg_func = AGG_FUNC,\n",
    "    agg_func_name =  AGG_FUNC_NAME\n",
    "    \n",
    ")\n",
    "\n",
    "var_2.sample(1)\n"
   ]
  },
  {
   "cell_type": "code",
   "execution_count": 66,
   "id": "926d73f4",
   "metadata": {
    "execution": {
     "iopub.execute_input": "2023-02-12T20:44:02.819868Z",
     "iopub.status.busy": "2023-02-12T20:44:02.819198Z",
     "iopub.status.idle": "2023-02-12T20:44:02.834318Z",
     "shell.execute_reply": "2023-02-12T20:44:02.832820Z"
    },
    "papermill": {
     "duration": 0.060948,
     "end_time": "2023-02-12T20:44:02.837616",
     "exception": false,
     "start_time": "2023-02-12T20:44:02.776668",
     "status": "completed"
    },
    "tags": []
   },
   "outputs": [
    {
     "name": "stdout",
     "output_type": "stream",
     "text": [
      "Shape before merge is 6578\n",
      "Shape after merge is 6578\n"
     ]
    }
   ],
   "source": [
    "rows_before_merge = full_df.shape[0]\n",
    "print(f\"Shape before merge is {rows_before_merge}\")\n",
    "\n",
    "full_df = pd.merge(full_df, var_2, on = GB_LIST_SHOP_ID, how = \"left\")\n",
    "\n",
    "rows_after_merge = full_df.shape[0]\n",
    "\n",
    "print(f\"Shape after merge is {rows_after_merge}\")\n",
    "\n",
    "assert rows_before_merge == rows_after_merge, \"You have generated a cartesian product!\""
   ]
  },
  {
   "cell_type": "code",
   "execution_count": 67,
   "id": "2cfb6a54",
   "metadata": {
    "execution": {
     "iopub.execute_input": "2023-02-12T20:44:02.923587Z",
     "iopub.status.busy": "2023-02-12T20:44:02.923157Z",
     "iopub.status.idle": "2023-02-12T20:44:02.930819Z",
     "shell.execute_reply": "2023-02-12T20:44:02.929473Z"
    },
    "papermill": {
     "duration": 0.053058,
     "end_time": "2023-02-12T20:44:02.933143",
     "exception": false,
     "start_time": "2023-02-12T20:44:02.880085",
     "status": "completed"
    },
    "tags": []
   },
   "outputs": [],
   "source": [
    "#SUMANDO VARIABLES# \n",
    "\n",
    "def build_ts_vars(full_df, gb_list, target_column, agg_func, agg_func_name, verbose = True):\n",
    "    \n",
    "    assert gb_list[0] == \"DATE\", \"First element must be date\"\n",
    "    \n",
    "    new_name = \"_\".join(gb_list + [target_column] + [agg_func_name])\n",
    "    \n",
    "    if verbose: print(new_name)\n",
    "\n",
    "    gb_df_ = full_df.groupby(gb_list)[target_column].apply(agg_func).to_frame().reset_index().rename(\n",
    "        columns = {\n",
    "            target_column : new_name\n",
    "        }\n",
    "    )\n",
    "\n",
    "    gb_df_[f\"{new_name}_LAG3\"] = gb_df_.groupby(gb_list[1:])[new_name].transform(\n",
    "        lambda series: series.shift(3)\n",
    "    )\n",
    "    \n",
    "    return gb_df_"
   ]
  },
  {
   "cell_type": "code",
   "execution_count": 68,
   "id": "78feb735",
   "metadata": {
    "execution": {
     "iopub.execute_input": "2023-02-12T20:44:03.017914Z",
     "iopub.status.busy": "2023-02-12T20:44:03.017224Z",
     "iopub.status.idle": "2023-02-12T20:44:03.361693Z",
     "shell.execute_reply": "2023-02-12T20:44:03.360597Z"
    },
    "papermill": {
     "duration": 0.389511,
     "end_time": "2023-02-12T20:44:03.364260",
     "exception": false,
     "start_time": "2023-02-12T20:44:02.974749",
     "status": "completed"
    },
    "tags": []
   },
   "outputs": [
    {
     "name": "stdout",
     "output_type": "stream",
     "text": [
      "DATE_CITY_ID_ITEM_CATEGORY_ID_MONTHLY_SALES_MEAN\n"
     ]
    },
    {
     "data": {
      "text/html": [
       "<div>\n",
       "<style scoped>\n",
       "    .dataframe tbody tr th:only-of-type {\n",
       "        vertical-align: middle;\n",
       "    }\n",
       "\n",
       "    .dataframe tbody tr th {\n",
       "        vertical-align: top;\n",
       "    }\n",
       "\n",
       "    .dataframe thead th {\n",
       "        text-align: right;\n",
       "    }\n",
       "</style>\n",
       "<table border=\"1\" class=\"dataframe\">\n",
       "  <thead>\n",
       "    <tr style=\"text-align: right;\">\n",
       "      <th></th>\n",
       "      <th>DATE</th>\n",
       "      <th>CITY_ID</th>\n",
       "      <th>ITEM_CATEGORY_ID</th>\n",
       "      <th>DATE_CITY_ID_ITEM_CATEGORY_ID_MONTHLY_SALES_MEAN</th>\n",
       "      <th>DATE_CITY_ID_ITEM_CATEGORY_ID_MONTHLY_SALES_MEAN_LAG3</th>\n",
       "    </tr>\n",
       "  </thead>\n",
       "  <tbody>\n",
       "    <tr>\n",
       "      <th>666</th>\n",
       "      <td>2014-06-30</td>\n",
       "      <td>7.0</td>\n",
       "      <td>72</td>\n",
       "      <td>17.0</td>\n",
       "      <td>11.0</td>\n",
       "    </tr>\n",
       "  </tbody>\n",
       "</table>\n",
       "</div>"
      ],
      "text/plain": [
       "          DATE  CITY_ID  ITEM_CATEGORY_ID  \\\n",
       "666 2014-06-30      7.0                72   \n",
       "\n",
       "     DATE_CITY_ID_ITEM_CATEGORY_ID_MONTHLY_SALES_MEAN  \\\n",
       "666                                              17.0   \n",
       "\n",
       "     DATE_CITY_ID_ITEM_CATEGORY_ID_MONTHLY_SALES_MEAN_LAG3  \n",
       "666                                               11.0      "
      ]
     },
     "execution_count": 68,
     "metadata": {},
     "output_type": "execute_result"
    }
   ],
   "source": [
    "GB_LIST_SHOP_ID = [\"DATE\", \"CITY_ID\", \"ITEM_CATEGORY_ID\"]\n",
    "TARGET_COLUMN = \"MONTHLY_SALES\"\n",
    "AGG_FUNC = np.mean\n",
    "AGG_FUNC_NAME = \"MEAN\"\n",
    "\n",
    "var_2a = build_ts_vars(\n",
    "    full_df = full_df,\n",
    "    gb_list = GB_LIST_SHOP_ID,\n",
    "    target_column = TARGET_COLUMN,\n",
    "    agg_func = AGG_FUNC,\n",
    "    agg_func_name =  AGG_FUNC_NAME\n",
    "    \n",
    ")\n",
    "\n",
    "var_2a.sample(1)"
   ]
  },
  {
   "cell_type": "code",
   "execution_count": 69,
   "id": "d85ad9df",
   "metadata": {
    "execution": {
     "iopub.execute_input": "2023-02-12T20:44:03.449141Z",
     "iopub.status.busy": "2023-02-12T20:44:03.448747Z",
     "iopub.status.idle": "2023-02-12T20:44:03.464152Z",
     "shell.execute_reply": "2023-02-12T20:44:03.462882Z"
    },
    "papermill": {
     "duration": 0.060434,
     "end_time": "2023-02-12T20:44:03.466391",
     "exception": false,
     "start_time": "2023-02-12T20:44:03.405957",
     "status": "completed"
    },
    "tags": []
   },
   "outputs": [
    {
     "name": "stdout",
     "output_type": "stream",
     "text": [
      "Shape before merge is 6578\n",
      "Shape after merge is 6578\n"
     ]
    }
   ],
   "source": [
    "rows_before_merge = full_df.shape[0]\n",
    "print(f\"Shape before merge is {rows_before_merge}\")\n",
    "\n",
    "full_df = pd.merge(full_df, var_2a, on = GB_LIST_SHOP_ID, how = \"left\")\n",
    "\n",
    "rows_after_merge = full_df.shape[0]\n",
    "\n",
    "print(f\"Shape after merge is {rows_after_merge}\")\n",
    "\n",
    "assert rows_before_merge == rows_after_merge, \"You have generated a cartesian product!\""
   ]
  },
  {
   "cell_type": "code",
   "execution_count": 70,
   "id": "2f338be1",
   "metadata": {
    "execution": {
     "iopub.execute_input": "2023-02-12T20:44:03.552727Z",
     "iopub.status.busy": "2023-02-12T20:44:03.551889Z",
     "iopub.status.idle": "2023-02-12T20:44:03.559417Z",
     "shell.execute_reply": "2023-02-12T20:44:03.558417Z"
    },
    "papermill": {
     "duration": 0.053648,
     "end_time": "2023-02-12T20:44:03.561550",
     "exception": false,
     "start_time": "2023-02-12T20:44:03.507902",
     "status": "completed"
    },
    "tags": []
   },
   "outputs": [],
   "source": [
    "#SUMANDO VARIABLES# \n",
    "def build_ts_vars(full_df, gb_list, target_column, agg_func, agg_func_name, verbose = True):\n",
    "    \n",
    "    assert gb_list[0] == \"DATE\", \"First element must be date\"\n",
    "    \n",
    "    new_name = \"_\".join(gb_list + [target_column] + [agg_func_name])\n",
    "    \n",
    "    if verbose: print(new_name)\n",
    "\n",
    "    gb_df_ = full_df.groupby(gb_list)[target_column].apply(agg_func).to_frame().reset_index().rename(\n",
    "        columns = {\n",
    "            target_column : new_name\n",
    "        }\n",
    "    )\n",
    "\n",
    "    gb_df_[f\"{new_name}_LAG0\"] = gb_df_.groupby(gb_list[1:])[new_name].transform(\n",
    "        lambda series: series.shift(0)\n",
    "    )\n",
    "    \n",
    "    return gb_df_"
   ]
  },
  {
   "cell_type": "code",
   "execution_count": 71,
   "id": "71a9fd43",
   "metadata": {
    "execution": {
     "iopub.execute_input": "2023-02-12T20:44:03.646876Z",
     "iopub.status.busy": "2023-02-12T20:44:03.645895Z",
     "iopub.status.idle": "2023-02-12T20:44:03.917096Z",
     "shell.execute_reply": "2023-02-12T20:44:03.915965Z"
    },
    "papermill": {
     "duration": 0.316558,
     "end_time": "2023-02-12T20:44:03.919633",
     "exception": false,
     "start_time": "2023-02-12T20:44:03.603075",
     "status": "completed"
    },
    "tags": []
   },
   "outputs": [
    {
     "name": "stdout",
     "output_type": "stream",
     "text": [
      "DATE_ITEM_ID_UNIQUE_DAYS_WITH_SALES_MEAN\n"
     ]
    },
    {
     "data": {
      "text/html": [
       "<div>\n",
       "<style scoped>\n",
       "    .dataframe tbody tr th:only-of-type {\n",
       "        vertical-align: middle;\n",
       "    }\n",
       "\n",
       "    .dataframe tbody tr th {\n",
       "        vertical-align: top;\n",
       "    }\n",
       "\n",
       "    .dataframe thead th {\n",
       "        text-align: right;\n",
       "    }\n",
       "</style>\n",
       "<table border=\"1\" class=\"dataframe\">\n",
       "  <thead>\n",
       "    <tr style=\"text-align: right;\">\n",
       "      <th></th>\n",
       "      <th>DATE</th>\n",
       "      <th>ITEM_ID</th>\n",
       "      <th>DATE_ITEM_ID_UNIQUE_DAYS_WITH_SALES_MEAN</th>\n",
       "      <th>DATE_ITEM_ID_UNIQUE_DAYS_WITH_SALES_MEAN_LAG0</th>\n",
       "    </tr>\n",
       "  </thead>\n",
       "  <tbody>\n",
       "    <tr>\n",
       "      <th>645</th>\n",
       "      <td>2014-07-31</td>\n",
       "      <td>6429</td>\n",
       "      <td>4.0</td>\n",
       "      <td>4.0</td>\n",
       "    </tr>\n",
       "  </tbody>\n",
       "</table>\n",
       "</div>"
      ],
      "text/plain": [
       "          DATE  ITEM_ID  DATE_ITEM_ID_UNIQUE_DAYS_WITH_SALES_MEAN  \\\n",
       "645 2014-07-31     6429                                       4.0   \n",
       "\n",
       "     DATE_ITEM_ID_UNIQUE_DAYS_WITH_SALES_MEAN_LAG0  \n",
       "645                                            4.0  "
      ]
     },
     "execution_count": 71,
     "metadata": {},
     "output_type": "execute_result"
    }
   ],
   "source": [
    "GB_LIST_SHOP_ID = [\"DATE\", \"ITEM_ID\"]\n",
    "TARGET_COLUMN = \"UNIQUE_DAYS_WITH_SALES\"\n",
    "AGG_FUNC = np.mean\n",
    "AGG_FUNC_NAME = \"MEAN\"\n",
    "\n",
    "var_3 = build_ts_vars(\n",
    "    full_df = full_df,\n",
    "    gb_list = GB_LIST_SHOP_ID,\n",
    "    target_column = TARGET_COLUMN,\n",
    "    agg_func = AGG_FUNC,\n",
    "    agg_func_name =  AGG_FUNC_NAME\n",
    "    \n",
    ")\n",
    "\n",
    "var_3.sample(1)"
   ]
  },
  {
   "cell_type": "code",
   "execution_count": 72,
   "id": "cd7c0fdf",
   "metadata": {
    "execution": {
     "iopub.execute_input": "2023-02-12T20:44:04.009956Z",
     "iopub.status.busy": "2023-02-12T20:44:04.009542Z",
     "iopub.status.idle": "2023-02-12T20:44:04.024938Z",
     "shell.execute_reply": "2023-02-12T20:44:04.023581Z"
    },
    "papermill": {
     "duration": 0.06345,
     "end_time": "2023-02-12T20:44:04.027252",
     "exception": false,
     "start_time": "2023-02-12T20:44:03.963802",
     "status": "completed"
    },
    "tags": []
   },
   "outputs": [
    {
     "name": "stdout",
     "output_type": "stream",
     "text": [
      "Shape before merge is 6578\n",
      "Shape after merge is 6578\n"
     ]
    }
   ],
   "source": [
    "rows_before_merge = full_df.shape[0]\n",
    "print(f\"Shape before merge is {rows_before_merge}\")\n",
    "\n",
    "full_df = pd.merge(full_df, var_3, on = GB_LIST_SHOP_ID, how = \"left\")\n",
    "\n",
    "rows_after_merge = full_df.shape[0]\n",
    "\n",
    "print(f\"Shape after merge is {rows_after_merge}\")\n",
    "\n",
    "assert rows_before_merge == rows_after_merge, \"You have generated a cartesian product!\""
   ]
  },
  {
   "cell_type": "code",
   "execution_count": 73,
   "id": "e023d457",
   "metadata": {
    "execution": {
     "iopub.execute_input": "2023-02-12T20:44:04.113809Z",
     "iopub.status.busy": "2023-02-12T20:44:04.113145Z",
     "iopub.status.idle": "2023-02-12T20:44:04.121082Z",
     "shell.execute_reply": "2023-02-12T20:44:04.120005Z"
    },
    "papermill": {
     "duration": 0.053816,
     "end_time": "2023-02-12T20:44:04.123388",
     "exception": false,
     "start_time": "2023-02-12T20:44:04.069572",
     "status": "completed"
    },
    "tags": []
   },
   "outputs": [],
   "source": [
    "def build_ts_vars(full_df, gb_list, target_column, agg_func, agg_func_name, verbose = True):\n",
    "    \n",
    "    assert gb_list[0] == \"DATE\", \"First element must be date\"\n",
    "    \n",
    "    new_name = \"_\".join(gb_list + [target_column] + [agg_func_name])\n",
    "    \n",
    "    if verbose: print(new_name)\n",
    "\n",
    "    gb_df_ = full_df.groupby(gb_list)[target_column].apply(agg_func).to_frame().reset_index().rename(\n",
    "        columns = {\n",
    "            target_column : new_name\n",
    "        }\n",
    "    )\n",
    "\n",
    "    gb_df_[f\"{new_name}_LAG6\"] = gb_df_.groupby(gb_list[1:])[new_name].transform(\n",
    "        lambda series: series.shift(-6)\n",
    "    )\n",
    "    \n",
    "    return gb_df_"
   ]
  },
  {
   "cell_type": "code",
   "execution_count": 74,
   "id": "8dc0f697",
   "metadata": {
    "execution": {
     "iopub.execute_input": "2023-02-12T20:44:04.210231Z",
     "iopub.status.busy": "2023-02-12T20:44:04.209520Z",
     "iopub.status.idle": "2023-02-12T20:44:05.016613Z",
     "shell.execute_reply": "2023-02-12T20:44:05.015334Z"
    },
    "papermill": {
     "duration": 0.853785,
     "end_time": "2023-02-12T20:44:05.019183",
     "exception": false,
     "start_time": "2023-02-12T20:44:04.165398",
     "status": "completed"
    },
    "tags": []
   },
   "outputs": [
    {
     "name": "stdout",
     "output_type": "stream",
     "text": [
      "DATE_SHOP_ID_ITEM_ID_TOTAL_TRANSACTIONS_MEAN\n"
     ]
    },
    {
     "data": {
      "text/html": [
       "<div>\n",
       "<style scoped>\n",
       "    .dataframe tbody tr th:only-of-type {\n",
       "        vertical-align: middle;\n",
       "    }\n",
       "\n",
       "    .dataframe tbody tr th {\n",
       "        vertical-align: top;\n",
       "    }\n",
       "\n",
       "    .dataframe thead th {\n",
       "        text-align: right;\n",
       "    }\n",
       "</style>\n",
       "<table border=\"1\" class=\"dataframe\">\n",
       "  <thead>\n",
       "    <tr style=\"text-align: right;\">\n",
       "      <th></th>\n",
       "      <th>DATE</th>\n",
       "      <th>SHOP_ID</th>\n",
       "      <th>ITEM_ID</th>\n",
       "      <th>DATE_SHOP_ID_ITEM_ID_TOTAL_TRANSACTIONS_MEAN</th>\n",
       "      <th>DATE_SHOP_ID_ITEM_ID_TOTAL_TRANSACTIONS_MEAN_LAG6</th>\n",
       "    </tr>\n",
       "  </thead>\n",
       "  <tbody>\n",
       "    <tr>\n",
       "      <th>1193</th>\n",
       "      <td>2014-04-30</td>\n",
       "      <td>59</td>\n",
       "      <td>5822</td>\n",
       "      <td>8.0</td>\n",
       "      <td>6.0</td>\n",
       "    </tr>\n",
       "  </tbody>\n",
       "</table>\n",
       "</div>"
      ],
      "text/plain": [
       "           DATE  SHOP_ID  ITEM_ID  \\\n",
       "1193 2014-04-30       59     5822   \n",
       "\n",
       "      DATE_SHOP_ID_ITEM_ID_TOTAL_TRANSACTIONS_MEAN  \\\n",
       "1193                                           8.0   \n",
       "\n",
       "      DATE_SHOP_ID_ITEM_ID_TOTAL_TRANSACTIONS_MEAN_LAG6  \n",
       "1193                                                6.0  "
      ]
     },
     "execution_count": 74,
     "metadata": {},
     "output_type": "execute_result"
    }
   ],
   "source": [
    "GB_LIST_SHOP_ID = [\"DATE\", \"SHOP_ID\", \"ITEM_ID\"]\n",
    "TARGET_COLUMN = \"TOTAL_TRANSACTIONS\"\n",
    "AGG_FUNC = np.mean\n",
    "AGG_FUNC_NAME = \"MEAN\"\n",
    "\n",
    "var_4 = build_ts_vars(\n",
    "    full_df = full_df,\n",
    "    gb_list = GB_LIST_SHOP_ID,\n",
    "    target_column = TARGET_COLUMN,\n",
    "    agg_func = AGG_FUNC,\n",
    "    agg_func_name =  AGG_FUNC_NAME\n",
    "    \n",
    ")\n",
    "\n",
    "var_4.sample(1)"
   ]
  },
  {
   "cell_type": "code",
   "execution_count": 75,
   "id": "cf3e3ce1",
   "metadata": {
    "execution": {
     "iopub.execute_input": "2023-02-12T20:44:05.107330Z",
     "iopub.status.busy": "2023-02-12T20:44:05.106552Z",
     "iopub.status.idle": "2023-02-12T20:44:05.122392Z",
     "shell.execute_reply": "2023-02-12T20:44:05.120777Z"
    },
    "papermill": {
     "duration": 0.063597,
     "end_time": "2023-02-12T20:44:05.125763",
     "exception": false,
     "start_time": "2023-02-12T20:44:05.062166",
     "status": "completed"
    },
    "tags": []
   },
   "outputs": [
    {
     "name": "stdout",
     "output_type": "stream",
     "text": [
      "Shape before merge is 6578\n",
      "Shape after merge is 6578\n"
     ]
    }
   ],
   "source": [
    "rows_before_merge = full_df.shape[0]\n",
    "print(f\"Shape before merge is {rows_before_merge}\")\n",
    "\n",
    "full_df = pd.merge(full_df, var_4, on = GB_LIST_SHOP_ID, how = \"left\")\n",
    "\n",
    "rows_after_merge = full_df.shape[0]\n",
    "\n",
    "print(f\"Shape after merge is {rows_after_merge}\")\n",
    "\n",
    "assert rows_before_merge == rows_after_merge, \"You have generated a cartesian product!\""
   ]
  },
  {
   "cell_type": "code",
   "execution_count": 76,
   "id": "c796387f",
   "metadata": {
    "execution": {
     "iopub.execute_input": "2023-02-12T20:44:05.216775Z",
     "iopub.status.busy": "2023-02-12T20:44:05.216110Z",
     "iopub.status.idle": "2023-02-12T20:44:05.223537Z",
     "shell.execute_reply": "2023-02-12T20:44:05.222729Z"
    },
    "papermill": {
     "duration": 0.053934,
     "end_time": "2023-02-12T20:44:05.225759",
     "exception": false,
     "start_time": "2023-02-12T20:44:05.171825",
     "status": "completed"
    },
    "tags": []
   },
   "outputs": [],
   "source": [
    "def build_ts_vars(full_df, gb_list, target_column, agg_func, agg_func_name, verbose = True):\n",
    "    \n",
    "    assert gb_list[0] == \"DATE\", \"First element must be date\"\n",
    "    \n",
    "    new_name = \"_\".join(gb_list + [target_column] + [agg_func_name])\n",
    "    \n",
    "    if verbose: print(new_name)\n",
    "\n",
    "    gb_df_ = full_df.groupby(gb_list)[target_column].apply(agg_func).to_frame().reset_index().rename(\n",
    "        columns = {\n",
    "            target_column : new_name\n",
    "        }\n",
    "    )\n",
    "\n",
    "    gb_df_[f\"{new_name}_LAG1\"] = gb_df_.groupby(gb_list[1:])[new_name].transform(\n",
    "        lambda series: series.shift(1)\n",
    "    )\n",
    "    \n",
    "    return gb_df_"
   ]
  },
  {
   "cell_type": "code",
   "execution_count": 77,
   "id": "d47aeaf0",
   "metadata": {
    "execution": {
     "iopub.execute_input": "2023-02-12T20:44:05.313533Z",
     "iopub.status.busy": "2023-02-12T20:44:05.312788Z",
     "iopub.status.idle": "2023-02-12T20:44:05.816017Z",
     "shell.execute_reply": "2023-02-12T20:44:05.814552Z"
    },
    "papermill": {
     "duration": 0.549766,
     "end_time": "2023-02-12T20:44:05.818396",
     "exception": false,
     "start_time": "2023-02-12T20:44:05.268630",
     "status": "completed"
    },
    "tags": []
   },
   "outputs": [
    {
     "name": "stdout",
     "output_type": "stream",
     "text": [
      "DATE_SHOP_ID_ITEM_CATEGORY_ID_TOTAL_TRANSACTIONS_MEAN\n"
     ]
    },
    {
     "data": {
      "text/html": [
       "<div>\n",
       "<style scoped>\n",
       "    .dataframe tbody tr th:only-of-type {\n",
       "        vertical-align: middle;\n",
       "    }\n",
       "\n",
       "    .dataframe tbody tr th {\n",
       "        vertical-align: top;\n",
       "    }\n",
       "\n",
       "    .dataframe thead th {\n",
       "        text-align: right;\n",
       "    }\n",
       "</style>\n",
       "<table border=\"1\" class=\"dataframe\">\n",
       "  <thead>\n",
       "    <tr style=\"text-align: right;\">\n",
       "      <th></th>\n",
       "      <th>DATE</th>\n",
       "      <th>SHOP_ID</th>\n",
       "      <th>ITEM_CATEGORY_ID</th>\n",
       "      <th>DATE_SHOP_ID_ITEM_CATEGORY_ID_TOTAL_TRANSACTIONS_MEAN</th>\n",
       "      <th>DATE_SHOP_ID_ITEM_CATEGORY_ID_TOTAL_TRANSACTIONS_MEAN_LAG1</th>\n",
       "    </tr>\n",
       "  </thead>\n",
       "  <tbody>\n",
       "    <tr>\n",
       "      <th>2220</th>\n",
       "      <td>2015-01-31</td>\n",
       "      <td>28</td>\n",
       "      <td>65</td>\n",
       "      <td>11.5</td>\n",
       "      <td>9.0</td>\n",
       "    </tr>\n",
       "  </tbody>\n",
       "</table>\n",
       "</div>"
      ],
      "text/plain": [
       "           DATE  SHOP_ID  ITEM_CATEGORY_ID  \\\n",
       "2220 2015-01-31       28                65   \n",
       "\n",
       "      DATE_SHOP_ID_ITEM_CATEGORY_ID_TOTAL_TRANSACTIONS_MEAN  \\\n",
       "2220                                               11.5       \n",
       "\n",
       "      DATE_SHOP_ID_ITEM_CATEGORY_ID_TOTAL_TRANSACTIONS_MEAN_LAG1  \n",
       "2220                                                9.0           "
      ]
     },
     "execution_count": 77,
     "metadata": {},
     "output_type": "execute_result"
    }
   ],
   "source": [
    "GB_LIST_SHOP_ID = [\"DATE\",\"SHOP_ID\", \"ITEM_CATEGORY_ID\"]\n",
    "TARGET_COLUMN = \"TOTAL_TRANSACTIONS\"\n",
    "AGG_FUNC = np.mean\n",
    "AGG_FUNC_NAME = \"MEAN\"\n",
    "\n",
    "var_5 = build_ts_vars(\n",
    "    full_df = full_df,\n",
    "    gb_list = GB_LIST_SHOP_ID,\n",
    "    target_column = TARGET_COLUMN,\n",
    "    agg_func = AGG_FUNC,\n",
    "    agg_func_name =  AGG_FUNC_NAME\n",
    "    \n",
    ")\n",
    "\n",
    "var_5.sample(1)"
   ]
  },
  {
   "cell_type": "code",
   "execution_count": 78,
   "id": "be91ea06",
   "metadata": {
    "execution": {
     "iopub.execute_input": "2023-02-12T20:44:05.905193Z",
     "iopub.status.busy": "2023-02-12T20:44:05.904799Z",
     "iopub.status.idle": "2023-02-12T20:44:05.919824Z",
     "shell.execute_reply": "2023-02-12T20:44:05.918518Z"
    },
    "papermill": {
     "duration": 0.061224,
     "end_time": "2023-02-12T20:44:05.921928",
     "exception": false,
     "start_time": "2023-02-12T20:44:05.860704",
     "status": "completed"
    },
    "tags": []
   },
   "outputs": [
    {
     "name": "stdout",
     "output_type": "stream",
     "text": [
      "Shape before merge is 6578\n",
      "Shape after merge is 6578\n"
     ]
    }
   ],
   "source": [
    "rows_before_merge = full_df.shape[0]\n",
    "print(f\"Shape before merge is {rows_before_merge}\")\n",
    "\n",
    "full_df = pd.merge(full_df, var_5, on = GB_LIST_SHOP_ID, how = \"left\")\n",
    "\n",
    "rows_after_merge = full_df.shape[0]\n",
    "\n",
    "print(f\"Shape after merge is {rows_after_merge}\")\n",
    "\n",
    "assert rows_before_merge == rows_after_merge, \"You have generated a cartesian product!\""
   ]
  },
  {
   "cell_type": "code",
   "execution_count": 79,
   "id": "c6d4450a",
   "metadata": {
    "execution": {
     "iopub.execute_input": "2023-02-12T20:44:06.010299Z",
     "iopub.status.busy": "2023-02-12T20:44:06.009129Z",
     "iopub.status.idle": "2023-02-12T20:44:06.016909Z",
     "shell.execute_reply": "2023-02-12T20:44:06.015922Z"
    },
    "papermill": {
     "duration": 0.054249,
     "end_time": "2023-02-12T20:44:06.019174",
     "exception": false,
     "start_time": "2023-02-12T20:44:05.964925",
     "status": "completed"
    },
    "tags": []
   },
   "outputs": [],
   "source": [
    "def build_ts_vars(full_df, gb_list, target_column, agg_func, agg_func_name, verbose = True):\n",
    "    \n",
    "    assert gb_list[0] == \"DATE\", \"First element must be date\"\n",
    "    \n",
    "    new_name = \"_\".join(gb_list + [target_column] + [agg_func_name])\n",
    "    \n",
    "    if verbose: print(new_name)\n",
    "\n",
    "    gb_df_ = full_df.groupby(gb_list)[target_column].apply(agg_func).to_frame().reset_index().rename(\n",
    "        columns = {\n",
    "            target_column : new_name\n",
    "        }\n",
    "    )\n",
    "\n",
    "    gb_df_[f\"{new_name}_LAG1\"] = gb_df_.groupby(gb_list[1:])[new_name].transform(\n",
    "        lambda series: series.shift(1)\n",
    "    )\n",
    "    \n",
    "    return gb_df_"
   ]
  },
  {
   "cell_type": "code",
   "execution_count": 80,
   "id": "1ccd5110",
   "metadata": {
    "execution": {
     "iopub.execute_input": "2023-02-12T20:44:06.107752Z",
     "iopub.status.busy": "2023-02-12T20:44:06.106722Z",
     "iopub.status.idle": "2023-02-12T20:44:06.201141Z",
     "shell.execute_reply": "2023-02-12T20:44:06.199973Z"
    },
    "papermill": {
     "duration": 0.141132,
     "end_time": "2023-02-12T20:44:06.203518",
     "exception": false,
     "start_time": "2023-02-12T20:44:06.062386",
     "status": "completed"
    },
    "tags": []
   },
   "outputs": [
    {
     "name": "stdout",
     "output_type": "stream",
     "text": [
      "DATE_ITEM_CATEGORY_ID_MONTHLY_REVENUE_MEAN\n"
     ]
    },
    {
     "data": {
      "text/html": [
       "<div>\n",
       "<style scoped>\n",
       "    .dataframe tbody tr th:only-of-type {\n",
       "        vertical-align: middle;\n",
       "    }\n",
       "\n",
       "    .dataframe tbody tr th {\n",
       "        vertical-align: top;\n",
       "    }\n",
       "\n",
       "    .dataframe thead th {\n",
       "        text-align: right;\n",
       "    }\n",
       "</style>\n",
       "<table border=\"1\" class=\"dataframe\">\n",
       "  <thead>\n",
       "    <tr style=\"text-align: right;\">\n",
       "      <th></th>\n",
       "      <th>DATE</th>\n",
       "      <th>ITEM_CATEGORY_ID</th>\n",
       "      <th>DATE_ITEM_CATEGORY_ID_MONTHLY_REVENUE_MEAN</th>\n",
       "      <th>DATE_ITEM_CATEGORY_ID_MONTHLY_REVENUE_MEAN_LAG1</th>\n",
       "    </tr>\n",
       "  </thead>\n",
       "  <tbody>\n",
       "    <tr>\n",
       "      <th>214</th>\n",
       "      <td>2014-08-31</td>\n",
       "      <td>67</td>\n",
       "      <td>9786.0</td>\n",
       "      <td>3495.0</td>\n",
       "    </tr>\n",
       "  </tbody>\n",
       "</table>\n",
       "</div>"
      ],
      "text/plain": [
       "          DATE  ITEM_CATEGORY_ID  DATE_ITEM_CATEGORY_ID_MONTHLY_REVENUE_MEAN  \\\n",
       "214 2014-08-31                67                                      9786.0   \n",
       "\n",
       "     DATE_ITEM_CATEGORY_ID_MONTHLY_REVENUE_MEAN_LAG1  \n",
       "214                                           3495.0  "
      ]
     },
     "execution_count": 80,
     "metadata": {},
     "output_type": "execute_result"
    }
   ],
   "source": [
    "GB_LIST_SHOP_ID = [\"DATE\", \"ITEM_CATEGORY_ID\"]\n",
    "TARGET_COLUMN = \"MONTHLY_REVENUE\"\n",
    "AGG_FUNC = np.mean\n",
    "AGG_FUNC_NAME = \"MEAN\"\n",
    "\n",
    "var_5a = build_ts_vars(\n",
    "    full_df = full_df,\n",
    "    gb_list = GB_LIST_SHOP_ID,\n",
    "    target_column = TARGET_COLUMN,\n",
    "    agg_func = AGG_FUNC,\n",
    "    agg_func_name =  AGG_FUNC_NAME\n",
    "    \n",
    ")\n",
    "\n",
    "var_5a.sample(1)"
   ]
  },
  {
   "cell_type": "code",
   "execution_count": 81,
   "id": "48e8cd9c",
   "metadata": {
    "execution": {
     "iopub.execute_input": "2023-02-12T20:44:06.292188Z",
     "iopub.status.busy": "2023-02-12T20:44:06.291741Z",
     "iopub.status.idle": "2023-02-12T20:44:06.307695Z",
     "shell.execute_reply": "2023-02-12T20:44:06.306454Z"
    },
    "papermill": {
     "duration": 0.06343,
     "end_time": "2023-02-12T20:44:06.309983",
     "exception": false,
     "start_time": "2023-02-12T20:44:06.246553",
     "status": "completed"
    },
    "tags": []
   },
   "outputs": [
    {
     "name": "stdout",
     "output_type": "stream",
     "text": [
      "Shape before merge is 6578\n",
      "Shape after merge is 6578\n"
     ]
    }
   ],
   "source": [
    "rows_before_merge = full_df.shape[0]\n",
    "print(f\"Shape before merge is {rows_before_merge}\")\n",
    "\n",
    "full_df = pd.merge(full_df, var_5a, on = GB_LIST_SHOP_ID, how = \"left\")\n",
    "\n",
    "rows_after_merge = full_df.shape[0]\n",
    "\n",
    "print(f\"Shape after merge is {rows_after_merge}\")\n",
    "\n",
    "assert rows_before_merge == rows_after_merge, \"You have generated a cartesian product!\""
   ]
  },
  {
   "cell_type": "code",
   "execution_count": 82,
   "id": "70b55054",
   "metadata": {
    "execution": {
     "iopub.execute_input": "2023-02-12T20:44:06.398729Z",
     "iopub.status.busy": "2023-02-12T20:44:06.398324Z",
     "iopub.status.idle": "2023-02-12T20:44:06.405636Z",
     "shell.execute_reply": "2023-02-12T20:44:06.404453Z"
    },
    "papermill": {
     "duration": 0.054499,
     "end_time": "2023-02-12T20:44:06.408062",
     "exception": false,
     "start_time": "2023-02-12T20:44:06.353563",
     "status": "completed"
    },
    "tags": []
   },
   "outputs": [],
   "source": [
    "def build_ts_vars(full_df, gb_list, target_column, agg_func, agg_func_name, verbose = True):\n",
    "    \n",
    "    assert gb_list[0] == \"DATE\", \"First element must be date\"\n",
    "    \n",
    "    new_name = \"_\".join(gb_list + [target_column] + [agg_func_name])\n",
    "    \n",
    "    if verbose: print(new_name)\n",
    "\n",
    "    gb_df_ = full_df.groupby(gb_list)[target_column].apply(agg_func).to_frame().reset_index().rename(\n",
    "        columns = {\n",
    "            target_column : new_name\n",
    "        }\n",
    "    )\n",
    "\n",
    "    gb_df_[f\"{new_name}_LAG3\"] = gb_df_.groupby(gb_list[1:])[new_name].transform(\n",
    "        lambda series: series.shift(3)\n",
    "    )\n",
    "    \n",
    "    return gb_df_"
   ]
  },
  {
   "cell_type": "code",
   "execution_count": 83,
   "id": "b2f0c2ec",
   "metadata": {
    "execution": {
     "iopub.execute_input": "2023-02-12T20:44:06.497744Z",
     "iopub.status.busy": "2023-02-12T20:44:06.497027Z",
     "iopub.status.idle": "2023-02-12T20:44:06.791141Z",
     "shell.execute_reply": "2023-02-12T20:44:06.789993Z"
    },
    "papermill": {
     "duration": 0.342318,
     "end_time": "2023-02-12T20:44:06.793517",
     "exception": false,
     "start_time": "2023-02-12T20:44:06.451199",
     "status": "completed"
    },
    "tags": []
   },
   "outputs": [
    {
     "name": "stdout",
     "output_type": "stream",
     "text": [
      "DATE_ITEM_ID_ITEM_CATEGORY_ID_MONTHLY_MEAN_PRICE_MEAN\n"
     ]
    },
    {
     "data": {
      "text/html": [
       "<div>\n",
       "<style scoped>\n",
       "    .dataframe tbody tr th:only-of-type {\n",
       "        vertical-align: middle;\n",
       "    }\n",
       "\n",
       "    .dataframe tbody tr th {\n",
       "        vertical-align: top;\n",
       "    }\n",
       "\n",
       "    .dataframe thead th {\n",
       "        text-align: right;\n",
       "    }\n",
       "</style>\n",
       "<table border=\"1\" class=\"dataframe\">\n",
       "  <thead>\n",
       "    <tr style=\"text-align: right;\">\n",
       "      <th></th>\n",
       "      <th>DATE</th>\n",
       "      <th>ITEM_ID</th>\n",
       "      <th>ITEM_CATEGORY_ID</th>\n",
       "      <th>DATE_ITEM_ID_ITEM_CATEGORY_ID_MONTHLY_MEAN_PRICE_MEAN</th>\n",
       "      <th>DATE_ITEM_ID_ITEM_CATEGORY_ID_MONTHLY_MEAN_PRICE_MEAN_LAG3</th>\n",
       "    </tr>\n",
       "  </thead>\n",
       "  <tbody>\n",
       "    <tr>\n",
       "      <th>1581</th>\n",
       "      <td>2015-04-30</td>\n",
       "      <td>16071</td>\n",
       "      <td>65</td>\n",
       "      <td>449.0</td>\n",
       "      <td>386.5</td>\n",
       "    </tr>\n",
       "  </tbody>\n",
       "</table>\n",
       "</div>"
      ],
      "text/plain": [
       "           DATE  ITEM_ID  ITEM_CATEGORY_ID  \\\n",
       "1581 2015-04-30    16071                65   \n",
       "\n",
       "      DATE_ITEM_ID_ITEM_CATEGORY_ID_MONTHLY_MEAN_PRICE_MEAN  \\\n",
       "1581                                              449.0       \n",
       "\n",
       "      DATE_ITEM_ID_ITEM_CATEGORY_ID_MONTHLY_MEAN_PRICE_MEAN_LAG3  \n",
       "1581                                              386.5           "
      ]
     },
     "execution_count": 83,
     "metadata": {},
     "output_type": "execute_result"
    }
   ],
   "source": [
    "GB_LIST_SHOP_ID = [\"DATE\", \"ITEM_ID\", \"ITEM_CATEGORY_ID\"]\n",
    "TARGET_COLUMN = \"MONTHLY_MEAN_PRICE\"\n",
    "AGG_FUNC = np.mean\n",
    "AGG_FUNC_NAME = \"MEAN\"\n",
    "\n",
    "var_6 = build_ts_vars(\n",
    "    full_df = full_df,\n",
    "    gb_list = GB_LIST_SHOP_ID,\n",
    "    target_column = TARGET_COLUMN,\n",
    "    agg_func = AGG_FUNC,\n",
    "    agg_func_name =  AGG_FUNC_NAME\n",
    "    \n",
    ")\n",
    "\n",
    "var_6.sample(1)"
   ]
  },
  {
   "cell_type": "code",
   "execution_count": 84,
   "id": "de77203a",
   "metadata": {
    "execution": {
     "iopub.execute_input": "2023-02-12T20:44:06.882534Z",
     "iopub.status.busy": "2023-02-12T20:44:06.882113Z",
     "iopub.status.idle": "2023-02-12T20:44:06.897799Z",
     "shell.execute_reply": "2023-02-12T20:44:06.896321Z"
    },
    "papermill": {
     "duration": 0.063011,
     "end_time": "2023-02-12T20:44:06.900645",
     "exception": false,
     "start_time": "2023-02-12T20:44:06.837634",
     "status": "completed"
    },
    "tags": []
   },
   "outputs": [
    {
     "name": "stdout",
     "output_type": "stream",
     "text": [
      "Shape before merge is 6578\n",
      "Shape after merge is 6578\n"
     ]
    }
   ],
   "source": [
    "rows_before_merge = full_df.shape[0]\n",
    "print(f\"Shape before merge is {rows_before_merge}\")\n",
    "\n",
    "full_df = pd.merge(full_df, var_6, on = GB_LIST_SHOP_ID, how = \"left\")\n",
    "\n",
    "rows_after_merge = full_df.shape[0]\n",
    "\n",
    "print(f\"Shape after merge is {rows_after_merge}\")\n",
    "\n",
    "assert rows_before_merge == rows_after_merge, \"You have generated a cartesian product!\""
   ]
  },
  {
   "cell_type": "code",
   "execution_count": 85,
   "id": "da9bc80a",
   "metadata": {
    "execution": {
     "iopub.execute_input": "2023-02-12T20:44:06.992004Z",
     "iopub.status.busy": "2023-02-12T20:44:06.991572Z",
     "iopub.status.idle": "2023-02-12T20:44:06.999571Z",
     "shell.execute_reply": "2023-02-12T20:44:06.998298Z"
    },
    "papermill": {
     "duration": 0.0565,
     "end_time": "2023-02-12T20:44:07.001759",
     "exception": false,
     "start_time": "2023-02-12T20:44:06.945259",
     "status": "completed"
    },
    "tags": []
   },
   "outputs": [],
   "source": [
    "def build_ts_vars(full_df, gb_list, target_column, agg_func, agg_func_name, verbose = True):\n",
    "    \n",
    "    assert gb_list[0] == \"DATE\", \"First element must be date\"\n",
    "    \n",
    "    new_name = \"_\".join(gb_list + [target_column] + [agg_func_name])\n",
    "    \n",
    "    if verbose: print(new_name)\n",
    "\n",
    "    gb_df_ = full_df.groupby(gb_list)[target_column].apply(agg_func).to_frame().reset_index().rename(\n",
    "        columns = {\n",
    "            target_column : new_name\n",
    "        }\n",
    "    )\n",
    "\n",
    "    gb_df_[f\"{new_name}_LAG5\"] = gb_df_.groupby(gb_list[1:])[new_name].transform(\n",
    "        lambda series: series.shift(5)\n",
    "    )\n",
    "    \n",
    "    return gb_df_"
   ]
  },
  {
   "cell_type": "code",
   "execution_count": 86,
   "id": "76ccde82",
   "metadata": {
    "execution": {
     "iopub.execute_input": "2023-02-12T20:44:07.091398Z",
     "iopub.status.busy": "2023-02-12T20:44:07.090343Z",
     "iopub.status.idle": "2023-02-12T20:44:07.676815Z",
     "shell.execute_reply": "2023-02-12T20:44:07.675679Z"
    },
    "papermill": {
     "duration": 0.633767,
     "end_time": "2023-02-12T20:44:07.679363",
     "exception": false,
     "start_time": "2023-02-12T20:44:07.045596",
     "status": "completed"
    },
    "tags": []
   },
   "outputs": [
    {
     "name": "stdout",
     "output_type": "stream",
     "text": [
      "DATE_CITY_ID_ITEM_CATEGORY_ID_ITEM_ID_MONTHLY_REVENUE_MEAN\n"
     ]
    },
    {
     "data": {
      "text/html": [
       "<div>\n",
       "<style scoped>\n",
       "    .dataframe tbody tr th:only-of-type {\n",
       "        vertical-align: middle;\n",
       "    }\n",
       "\n",
       "    .dataframe tbody tr th {\n",
       "        vertical-align: top;\n",
       "    }\n",
       "\n",
       "    .dataframe thead th {\n",
       "        text-align: right;\n",
       "    }\n",
       "</style>\n",
       "<table border=\"1\" class=\"dataframe\">\n",
       "  <thead>\n",
       "    <tr style=\"text-align: right;\">\n",
       "      <th></th>\n",
       "      <th>DATE</th>\n",
       "      <th>CITY_ID</th>\n",
       "      <th>ITEM_CATEGORY_ID</th>\n",
       "      <th>ITEM_ID</th>\n",
       "      <th>DATE_CITY_ID_ITEM_CATEGORY_ID_ITEM_ID_MONTHLY_REVENUE_MEAN</th>\n",
       "      <th>DATE_CITY_ID_ITEM_CATEGORY_ID_ITEM_ID_MONTHLY_REVENUE_MEAN_LAG5</th>\n",
       "    </tr>\n",
       "  </thead>\n",
       "  <tbody>\n",
       "    <tr>\n",
       "      <th>1226</th>\n",
       "      <td>2014-06-30</td>\n",
       "      <td>16.0</td>\n",
       "      <td>34</td>\n",
       "      <td>7966</td>\n",
       "      <td>0.0</td>\n",
       "      <td>0.0</td>\n",
       "    </tr>\n",
       "  </tbody>\n",
       "</table>\n",
       "</div>"
      ],
      "text/plain": [
       "           DATE  CITY_ID  ITEM_CATEGORY_ID  ITEM_ID  \\\n",
       "1226 2014-06-30     16.0                34     7966   \n",
       "\n",
       "      DATE_CITY_ID_ITEM_CATEGORY_ID_ITEM_ID_MONTHLY_REVENUE_MEAN  \\\n",
       "1226                                                0.0            \n",
       "\n",
       "      DATE_CITY_ID_ITEM_CATEGORY_ID_ITEM_ID_MONTHLY_REVENUE_MEAN_LAG5  \n",
       "1226                                                0.0                "
      ]
     },
     "execution_count": 86,
     "metadata": {},
     "output_type": "execute_result"
    }
   ],
   "source": [
    "GB_LIST_SHOP_ID = [\"DATE\",\"CITY_ID\",\"ITEM_CATEGORY_ID\", \"ITEM_ID\"]\n",
    "TARGET_COLUMN = \"MONTHLY_REVENUE\"\n",
    "AGG_FUNC = np.mean\n",
    "AGG_FUNC_NAME = \"MEAN\"\n",
    "\n",
    "var_6a = build_ts_vars(\n",
    "    full_df = full_df,\n",
    "    gb_list = GB_LIST_SHOP_ID,\n",
    "    target_column = TARGET_COLUMN,\n",
    "    agg_func = AGG_FUNC,\n",
    "    agg_func_name =  AGG_FUNC_NAME\n",
    "    \n",
    ")\n",
    "\n",
    "var_6a.sample(1)"
   ]
  },
  {
   "cell_type": "code",
   "execution_count": 87,
   "id": "ad63ede0",
   "metadata": {
    "execution": {
     "iopub.execute_input": "2023-02-12T20:44:07.768546Z",
     "iopub.status.busy": "2023-02-12T20:44:07.767654Z",
     "iopub.status.idle": "2023-02-12T20:44:07.785387Z",
     "shell.execute_reply": "2023-02-12T20:44:07.783846Z"
    },
    "papermill": {
     "duration": 0.065076,
     "end_time": "2023-02-12T20:44:07.787968",
     "exception": false,
     "start_time": "2023-02-12T20:44:07.722892",
     "status": "completed"
    },
    "tags": []
   },
   "outputs": [
    {
     "name": "stdout",
     "output_type": "stream",
     "text": [
      "Shape before merge is 6578\n",
      "Shape after merge is 6578\n"
     ]
    }
   ],
   "source": [
    "rows_before_merge = full_df.shape[0]\n",
    "print(f\"Shape before merge is {rows_before_merge}\")\n",
    "\n",
    "full_df = pd.merge(full_df, var_6a, on = GB_LIST_SHOP_ID, how = \"left\")\n",
    "\n",
    "rows_after_merge = full_df.shape[0]\n",
    "\n",
    "print(f\"Shape after merge is {rows_after_merge}\")\n",
    "\n",
    "assert rows_before_merge == rows_after_merge, \"You have generated a cartesian product!\""
   ]
  },
  {
   "cell_type": "markdown",
   "id": "bec0737f",
   "metadata": {
    "papermill": {
     "duration": 0.043785,
     "end_time": "2023-02-12T20:44:07.875437",
     "exception": false,
     "start_time": "2023-02-12T20:44:07.831652",
     "status": "completed"
    },
    "tags": []
   },
   "source": [
    "<a id='join_ts_features'></a>\n",
    "### Join TS Features\n",
    "[Volver al índice](#index)<br>"
   ]
  },
  {
   "cell_type": "markdown",
   "id": "b36cea0b",
   "metadata": {
    "papermill": {
     "duration": 0.043521,
     "end_time": "2023-02-12T20:44:07.964567",
     "exception": false,
     "start_time": "2023-02-12T20:44:07.921046",
     "status": "completed"
    },
    "tags": []
   },
   "source": [
    "En este apartado, hacemos el merge del full_df con las variables auxiliares.\n",
    "\n",
    "Debemos controlar muy bien el merge, para no provocar un cartesiano."
   ]
  },
  {
   "cell_type": "code",
   "execution_count": 88,
   "id": "3b462c7a",
   "metadata": {
    "execution": {
     "iopub.execute_input": "2023-02-12T20:44:08.054078Z",
     "iopub.status.busy": "2023-02-12T20:44:08.053704Z",
     "iopub.status.idle": "2023-02-12T20:44:08.085288Z",
     "shell.execute_reply": "2023-02-12T20:44:08.084482Z"
    },
    "papermill": {
     "duration": 0.078551,
     "end_time": "2023-02-12T20:44:08.087421",
     "exception": false,
     "start_time": "2023-02-12T20:44:08.008870",
     "status": "completed"
    },
    "tags": []
   },
   "outputs": [
    {
     "data": {
      "text/html": [
       "<div>\n",
       "<style scoped>\n",
       "    .dataframe tbody tr th:only-of-type {\n",
       "        vertical-align: middle;\n",
       "    }\n",
       "\n",
       "    .dataframe tbody tr th {\n",
       "        vertical-align: top;\n",
       "    }\n",
       "\n",
       "    .dataframe thead th {\n",
       "        text-align: right;\n",
       "    }\n",
       "</style>\n",
       "<table border=\"1\" class=\"dataframe\">\n",
       "  <thead>\n",
       "    <tr style=\"text-align: right;\">\n",
       "      <th></th>\n",
       "      <th>DATE</th>\n",
       "      <th>UNIQUE_ID</th>\n",
       "      <th>MONTHLY_SALES</th>\n",
       "      <th>MONTHLY_REVENUE</th>\n",
       "      <th>UNIQUE_DAYS_WITH_SALES</th>\n",
       "      <th>TOTAL_TRANSACTIONS</th>\n",
       "      <th>MONTHLY_MEAN_PRICE</th>\n",
       "      <th>CITY_NAME</th>\n",
       "      <th>CITY_ID</th>\n",
       "      <th>SHOP_NAME</th>\n",
       "      <th>...</th>\n",
       "      <th>DATE_SHOP_ID_ITEM_ID_TOTAL_TRANSACTIONS_MEAN</th>\n",
       "      <th>DATE_SHOP_ID_ITEM_ID_TOTAL_TRANSACTIONS_MEAN_LAG6</th>\n",
       "      <th>DATE_SHOP_ID_ITEM_CATEGORY_ID_TOTAL_TRANSACTIONS_MEAN</th>\n",
       "      <th>DATE_SHOP_ID_ITEM_CATEGORY_ID_TOTAL_TRANSACTIONS_MEAN_LAG1</th>\n",
       "      <th>DATE_ITEM_CATEGORY_ID_MONTHLY_REVENUE_MEAN</th>\n",
       "      <th>DATE_ITEM_CATEGORY_ID_MONTHLY_REVENUE_MEAN_LAG1</th>\n",
       "      <th>DATE_ITEM_ID_ITEM_CATEGORY_ID_MONTHLY_MEAN_PRICE_MEAN</th>\n",
       "      <th>DATE_ITEM_ID_ITEM_CATEGORY_ID_MONTHLY_MEAN_PRICE_MEAN_LAG3</th>\n",
       "      <th>DATE_CITY_ID_ITEM_CATEGORY_ID_ITEM_ID_MONTHLY_REVENUE_MEAN</th>\n",
       "      <th>DATE_CITY_ID_ITEM_CATEGORY_ID_ITEM_ID_MONTHLY_REVENUE_MEAN_LAG5</th>\n",
       "    </tr>\n",
       "  </thead>\n",
       "  <tbody>\n",
       "    <tr>\n",
       "      <th>3301</th>\n",
       "      <td>2014-12-31</td>\n",
       "      <td>15-2308</td>\n",
       "      <td>4.0</td>\n",
       "      <td>796.0</td>\n",
       "      <td>3.0</td>\n",
       "      <td>3.0</td>\n",
       "      <td>199.000000</td>\n",
       "      <td>Kaluga</td>\n",
       "      <td>2.0</td>\n",
       "      <td>Kaluga SEC \"Siglo XXI\"</td>\n",
       "      <td>...</td>\n",
       "      <td>3.0</td>\n",
       "      <td>4.0</td>\n",
       "      <td>5.0</td>\n",
       "      <td>4.5</td>\n",
       "      <td>7522.826531</td>\n",
       "      <td>5654.218367</td>\n",
       "      <td>199.000000</td>\n",
       "      <td>282.000000</td>\n",
       "      <td>796.000000</td>\n",
       "      <td>1794.0</td>\n",
       "    </tr>\n",
       "    <tr>\n",
       "      <th>4829</th>\n",
       "      <td>2015-05-31</td>\n",
       "      <td>22-486</td>\n",
       "      <td>17.0</td>\n",
       "      <td>5040.0</td>\n",
       "      <td>14.0</td>\n",
       "      <td>14.0</td>\n",
       "      <td>295.714286</td>\n",
       "      <td>Moscú</td>\n",
       "      <td>7.0</td>\n",
       "      <td>Moscú C21 tienda</td>\n",
       "      <td>...</td>\n",
       "      <td>14.0</td>\n",
       "      <td>NaN</td>\n",
       "      <td>8.0</td>\n",
       "      <td>12.0</td>\n",
       "      <td>19335.000000</td>\n",
       "      <td>31800.000000</td>\n",
       "      <td>295.714286</td>\n",
       "      <td>300.000000</td>\n",
       "      <td>5040.000000</td>\n",
       "      <td>6600.0</td>\n",
       "    </tr>\n",
       "    <tr>\n",
       "      <th>2976</th>\n",
       "      <td>2014-10-31</td>\n",
       "      <td>59-17717</td>\n",
       "      <td>21.0</td>\n",
       "      <td>14518.0</td>\n",
       "      <td>12.0</td>\n",
       "      <td>12.0</td>\n",
       "      <td>703.131944</td>\n",
       "      <td>Yaroslavl</td>\n",
       "      <td>24.0</td>\n",
       "      <td>centro comercial Yaroslavl \"Altair\"</td>\n",
       "      <td>...</td>\n",
       "      <td>12.0</td>\n",
       "      <td>13.0</td>\n",
       "      <td>12.0</td>\n",
       "      <td>14.0</td>\n",
       "      <td>27507.560000</td>\n",
       "      <td>27557.400000</td>\n",
       "      <td>952.759525</td>\n",
       "      <td>1099.470678</td>\n",
       "      <td>14518.000000</td>\n",
       "      <td>0.0</td>\n",
       "    </tr>\n",
       "    <tr>\n",
       "      <th>1521</th>\n",
       "      <td>2014-06-30</td>\n",
       "      <td>18-5822</td>\n",
       "      <td>10.0</td>\n",
       "      <td>10490.0</td>\n",
       "      <td>7.0</td>\n",
       "      <td>7.0</td>\n",
       "      <td>1049.000000</td>\n",
       "      <td>Krasnoyarsk</td>\n",
       "      <td>5.0</td>\n",
       "      <td>Krasnoyarsk SC \"Junio\"</td>\n",
       "      <td>...</td>\n",
       "      <td>7.0</td>\n",
       "      <td>10.0</td>\n",
       "      <td>7.0</td>\n",
       "      <td>8.0</td>\n",
       "      <td>15202.984375</td>\n",
       "      <td>15908.971875</td>\n",
       "      <td>1048.165540</td>\n",
       "      <td>1046.279547</td>\n",
       "      <td>10490.000000</td>\n",
       "      <td>20980.0</td>\n",
       "    </tr>\n",
       "    <tr>\n",
       "      <th>5176</th>\n",
       "      <td>2015-06-30</td>\n",
       "      <td>28-16169</td>\n",
       "      <td>6.0</td>\n",
       "      <td>1794.0</td>\n",
       "      <td>4.0</td>\n",
       "      <td>4.0</td>\n",
       "      <td>299.000000</td>\n",
       "      <td>Moscú</td>\n",
       "      <td>7.0</td>\n",
       "      <td>centro comercial de Moscú \"MEGA Teply Stan\" II</td>\n",
       "      <td>...</td>\n",
       "      <td>4.0</td>\n",
       "      <td>NaN</td>\n",
       "      <td>5.5</td>\n",
       "      <td>5.0</td>\n",
       "      <td>2830.337500</td>\n",
       "      <td>1483.500000</td>\n",
       "      <td>299.000000</td>\n",
       "      <td>298.473333</td>\n",
       "      <td>2491.666667</td>\n",
       "      <td>5282.2</td>\n",
       "    </tr>\n",
       "  </tbody>\n",
       "</table>\n",
       "<p>5 rows × 33 columns</p>\n",
       "</div>"
      ],
      "text/plain": [
       "           DATE UNIQUE_ID  MONTHLY_SALES  MONTHLY_REVENUE  \\\n",
       "3301 2014-12-31   15-2308            4.0            796.0   \n",
       "4829 2015-05-31    22-486           17.0           5040.0   \n",
       "2976 2014-10-31  59-17717           21.0          14518.0   \n",
       "1521 2014-06-30   18-5822           10.0          10490.0   \n",
       "5176 2015-06-30  28-16169            6.0           1794.0   \n",
       "\n",
       "      UNIQUE_DAYS_WITH_SALES  TOTAL_TRANSACTIONS  MONTHLY_MEAN_PRICE  \\\n",
       "3301                     3.0                 3.0          199.000000   \n",
       "4829                    14.0                14.0          295.714286   \n",
       "2976                    12.0                12.0          703.131944   \n",
       "1521                     7.0                 7.0         1049.000000   \n",
       "5176                     4.0                 4.0          299.000000   \n",
       "\n",
       "        CITY_NAME  CITY_ID                                       SHOP_NAME  \\\n",
       "3301       Kaluga      2.0                          Kaluga SEC \"Siglo XXI\"   \n",
       "4829        Moscú      7.0                                Moscú C21 tienda   \n",
       "2976    Yaroslavl     24.0             centro comercial Yaroslavl \"Altair\"   \n",
       "1521  Krasnoyarsk      5.0                          Krasnoyarsk SC \"Junio\"   \n",
       "5176        Moscú      7.0  centro comercial de Moscú \"MEGA Teply Stan\" II   \n",
       "\n",
       "      ...  DATE_SHOP_ID_ITEM_ID_TOTAL_TRANSACTIONS_MEAN  \\\n",
       "3301  ...                                           3.0   \n",
       "4829  ...                                          14.0   \n",
       "2976  ...                                          12.0   \n",
       "1521  ...                                           7.0   \n",
       "5176  ...                                           4.0   \n",
       "\n",
       "     DATE_SHOP_ID_ITEM_ID_TOTAL_TRANSACTIONS_MEAN_LAG6  \\\n",
       "3301                                               4.0   \n",
       "4829                                               NaN   \n",
       "2976                                              13.0   \n",
       "1521                                              10.0   \n",
       "5176                                               NaN   \n",
       "\n",
       "      DATE_SHOP_ID_ITEM_CATEGORY_ID_TOTAL_TRANSACTIONS_MEAN  \\\n",
       "3301                                                5.0       \n",
       "4829                                                8.0       \n",
       "2976                                               12.0       \n",
       "1521                                                7.0       \n",
       "5176                                                5.5       \n",
       "\n",
       "     DATE_SHOP_ID_ITEM_CATEGORY_ID_TOTAL_TRANSACTIONS_MEAN_LAG1  \\\n",
       "3301                                                4.5           \n",
       "4829                                               12.0           \n",
       "2976                                               14.0           \n",
       "1521                                                8.0           \n",
       "5176                                                5.0           \n",
       "\n",
       "      DATE_ITEM_CATEGORY_ID_MONTHLY_REVENUE_MEAN  \\\n",
       "3301                                 7522.826531   \n",
       "4829                                19335.000000   \n",
       "2976                                27507.560000   \n",
       "1521                                15202.984375   \n",
       "5176                                 2830.337500   \n",
       "\n",
       "      DATE_ITEM_CATEGORY_ID_MONTHLY_REVENUE_MEAN_LAG1  \\\n",
       "3301                                      5654.218367   \n",
       "4829                                     31800.000000   \n",
       "2976                                     27557.400000   \n",
       "1521                                     15908.971875   \n",
       "5176                                      1483.500000   \n",
       "\n",
       "      DATE_ITEM_ID_ITEM_CATEGORY_ID_MONTHLY_MEAN_PRICE_MEAN  \\\n",
       "3301                                         199.000000       \n",
       "4829                                         295.714286       \n",
       "2976                                         952.759525       \n",
       "1521                                        1048.165540       \n",
       "5176                                         299.000000       \n",
       "\n",
       "      DATE_ITEM_ID_ITEM_CATEGORY_ID_MONTHLY_MEAN_PRICE_MEAN_LAG3  \\\n",
       "3301                                         282.000000            \n",
       "4829                                         300.000000            \n",
       "2976                                        1099.470678            \n",
       "1521                                        1046.279547            \n",
       "5176                                         298.473333            \n",
       "\n",
       "      DATE_CITY_ID_ITEM_CATEGORY_ID_ITEM_ID_MONTHLY_REVENUE_MEAN  \\\n",
       "3301                                         796.000000            \n",
       "4829                                        5040.000000            \n",
       "2976                                       14518.000000            \n",
       "1521                                       10490.000000            \n",
       "5176                                        2491.666667            \n",
       "\n",
       "      DATE_CITY_ID_ITEM_CATEGORY_ID_ITEM_ID_MONTHLY_REVENUE_MEAN_LAG5  \n",
       "3301                                             1794.0                \n",
       "4829                                             6600.0                \n",
       "2976                                                0.0                \n",
       "1521                                            20980.0                \n",
       "5176                                             5282.2                \n",
       "\n",
       "[5 rows x 33 columns]"
      ]
     },
     "execution_count": 88,
     "metadata": {},
     "output_type": "execute_result"
    }
   ],
   "source": [
    "full_df.sample(5)"
   ]
  },
  {
   "cell_type": "code",
   "execution_count": 89,
   "id": "b94513c3",
   "metadata": {
    "execution": {
     "iopub.execute_input": "2023-02-12T20:44:08.178870Z",
     "iopub.status.busy": "2023-02-12T20:44:08.178195Z",
     "iopub.status.idle": "2023-02-12T20:44:08.187217Z",
     "shell.execute_reply": "2023-02-12T20:44:08.186370Z"
    },
    "papermill": {
     "duration": 0.058297,
     "end_time": "2023-02-12T20:44:08.190055",
     "exception": false,
     "start_time": "2023-02-12T20:44:08.131758",
     "status": "completed"
    },
    "tags": []
   },
   "outputs": [],
   "source": [
    "full_df.to_pickle(\"FULL_DF_ALL_FEATURES.pkl\")"
   ]
  },
  {
   "cell_type": "markdown",
   "id": "2ef6cc61",
   "metadata": {
    "papermill": {
     "duration": 0.043944,
     "end_time": "2023-02-12T20:44:08.280274",
     "exception": false,
     "start_time": "2023-02-12T20:44:08.236330",
     "status": "completed"
    },
    "tags": []
   },
   "source": [
    "<a id='train_test_split'></a>\n",
    "### Train Test Split\n",
    "[Volver al índice](#index)<br>"
   ]
  },
  {
   "cell_type": "code",
   "execution_count": 90,
   "id": "ad176584",
   "metadata": {
    "execution": {
     "iopub.execute_input": "2023-02-12T20:44:08.371116Z",
     "iopub.status.busy": "2023-02-12T20:44:08.370369Z",
     "iopub.status.idle": "2023-02-12T20:44:08.374756Z",
     "shell.execute_reply": "2023-02-12T20:44:08.373968Z"
    },
    "papermill": {
     "duration": 0.052736,
     "end_time": "2023-02-12T20:44:08.376888",
     "exception": false,
     "start_time": "2023-02-12T20:44:08.324152",
     "status": "completed"
    },
    "tags": []
   },
   "outputs": [],
   "source": [
    "y_true = [10, 11, 12, 9]\n",
    "y_pred = [10, 11, 12, 30]"
   ]
  },
  {
   "cell_type": "code",
   "execution_count": 91,
   "id": "86982ae6",
   "metadata": {
    "execution": {
     "iopub.execute_input": "2023-02-12T20:44:08.470175Z",
     "iopub.status.busy": "2023-02-12T20:44:08.469736Z",
     "iopub.status.idle": "2023-02-12T20:44:08.477166Z",
     "shell.execute_reply": "2023-02-12T20:44:08.476054Z"
    },
    "papermill": {
     "duration": 0.05666,
     "end_time": "2023-02-12T20:44:08.479752",
     "exception": false,
     "start_time": "2023-02-12T20:44:08.423092",
     "status": "completed"
    },
    "tags": []
   },
   "outputs": [
    {
     "data": {
      "text/plain": [
       "8281"
      ]
     },
     "execution_count": 91,
     "metadata": {},
     "output_type": "execute_result"
    }
   ],
   "source": [
    "np.power((100 - 9), 2)"
   ]
  },
  {
   "cell_type": "code",
   "execution_count": 92,
   "id": "40f7455e",
   "metadata": {
    "execution": {
     "iopub.execute_input": "2023-02-12T20:44:08.589902Z",
     "iopub.status.busy": "2023-02-12T20:44:08.589345Z",
     "iopub.status.idle": "2023-02-12T20:44:08.597192Z",
     "shell.execute_reply": "2023-02-12T20:44:08.596354Z"
    },
    "papermill": {
     "duration": 0.071633,
     "end_time": "2023-02-12T20:44:08.600488",
     "exception": false,
     "start_time": "2023-02-12T20:44:08.528855",
     "status": "completed"
    },
    "tags": []
   },
   "outputs": [
    {
     "data": {
      "text/plain": [
       "10.5"
      ]
     },
     "execution_count": 92,
     "metadata": {},
     "output_type": "execute_result"
    }
   ],
   "source": [
    "np.sqrt(mean_squared_error(y_true, y_pred))"
   ]
  },
  {
   "cell_type": "code",
   "execution_count": 93,
   "id": "8f5180dd",
   "metadata": {
    "execution": {
     "iopub.execute_input": "2023-02-12T20:44:08.698855Z",
     "iopub.status.busy": "2023-02-12T20:44:08.698063Z",
     "iopub.status.idle": "2023-02-12T20:44:08.708746Z",
     "shell.execute_reply": "2023-02-12T20:44:08.707648Z"
    },
    "papermill": {
     "duration": 0.061005,
     "end_time": "2023-02-12T20:44:08.711575",
     "exception": false,
     "start_time": "2023-02-12T20:44:08.650570",
     "status": "completed"
    },
    "tags": []
   },
   "outputs": [],
   "source": [
    "# explicar en clase el motivo del np.clip con el RMSE\n",
    "\n",
    "full_df = pd.read_pickle(\"FULL_DF_ALL_FEATURES.pkl\")\n",
    "\n",
    "full_df[\"MONTHLY_SALES\"] = np.clip(full_df[\"MONTHLY_SALES\"], 0, 30)"
   ]
  },
  {
   "cell_type": "code",
   "execution_count": 94,
   "id": "02c57946",
   "metadata": {
    "execution": {
     "iopub.execute_input": "2023-02-12T20:44:08.805085Z",
     "iopub.status.busy": "2023-02-12T20:44:08.804652Z",
     "iopub.status.idle": "2023-02-12T20:44:08.812940Z",
     "shell.execute_reply": "2023-02-12T20:44:08.811809Z"
    },
    "papermill": {
     "duration": 0.057547,
     "end_time": "2023-02-12T20:44:08.815411",
     "exception": false,
     "start_time": "2023-02-12T20:44:08.757864",
     "status": "completed"
    },
    "tags": []
   },
   "outputs": [],
   "source": [
    "COLUMNS_TO_DROP = [\n",
    "    'TOTAL_TRANSACTIONS',\n",
    "    'MONTHLY_REVENUE',\n",
    "    'UNIQUE_DAYS_WITH_SALES',\n",
    "    'TOTAL_TRANSACTIONS',\n",
    "    'MONTHLY_MEAN_PRICE',\n",
    "    'CITY_NAME',\n",
    "    'SHOP_NAME',\n",
    "    'ITEM_CATEGORY_NAME',\n",
    "    'ITEM_NAME',\n",
    "    \"DATE_ITEM_ID_TOTAL_TRANSACTIONS_MEAN\",\n",
    "    \"DATE_SHOP_ID_ITEM_ID_MONTHLY_SALES_MEAN\",\n",
    "    \"DATE_CITY_ID_ITEM_CATEGORY_ID_MONTHLY_SALES_MEAN\",\n",
    "    \"DATE_ITEM_ID_UNIQUE_DAYS_WITH_SALES_MEAN\",\n",
    "    \"DATE_SHOP_ID_ITEM_ID_TOTAL_TRANSACTIONS_MEAN\",\n",
    "    \"DATE_ITEM_ID_UNIQUE_DAYS_WITH_SALES_MEAN\",\n",
    "    \"DATE_ITEM_CATEGORY_ID_MONTHLY_REVENUE_MEAN\",\n",
    "    \"DATE_CITY_ID_ITEM_CATEGORY_ID_ITEM_ID_MONTHLY_REVENUE_MEAN\",\n",
    "    \"DATE_SHOP_ID_ITEM_CATEGORY_ID_TOTAL_TRANSACTIONS_MEAN\",\n",
    "    \"DATE_ITEM_ID_ITEM_CATEGORY_ID_MONTHLY_MEAN_PRICE_MEAN\",     \n",
    "     \n",
    "    ]\n",
    "\n",
    "full_df.drop(COLUMNS_TO_DROP, inplace = True, axis = 1)"
   ]
  },
  {
   "cell_type": "code",
   "execution_count": 95,
   "id": "46bed5b6",
   "metadata": {
    "execution": {
     "iopub.execute_input": "2023-02-12T20:44:08.906690Z",
     "iopub.status.busy": "2023-02-12T20:44:08.906252Z",
     "iopub.status.idle": "2023-02-12T20:44:08.912796Z",
     "shell.execute_reply": "2023-02-12T20:44:08.911667Z"
    },
    "papermill": {
     "duration": 0.055218,
     "end_time": "2023-02-12T20:44:08.914933",
     "exception": false,
     "start_time": "2023-02-12T20:44:08.859715",
     "status": "completed"
    },
    "tags": []
   },
   "outputs": [],
   "source": [
    "full_df.set_index(\"UNIQUE_ID\", inplace = True)"
   ]
  },
  {
   "cell_type": "code",
   "execution_count": 96,
   "id": "a1dd80c5",
   "metadata": {
    "execution": {
     "iopub.execute_input": "2023-02-12T20:44:09.005282Z",
     "iopub.status.busy": "2023-02-12T20:44:09.004872Z",
     "iopub.status.idle": "2023-02-12T20:44:09.032081Z",
     "shell.execute_reply": "2023-02-12T20:44:09.030842Z"
    },
    "papermill": {
     "duration": 0.07533,
     "end_time": "2023-02-12T20:44:09.034460",
     "exception": false,
     "start_time": "2023-02-12T20:44:08.959130",
     "status": "completed"
    },
    "tags": []
   },
   "outputs": [
    {
     "data": {
      "text/html": [
       "<div>\n",
       "<style scoped>\n",
       "    .dataframe tbody tr th:only-of-type {\n",
       "        vertical-align: middle;\n",
       "    }\n",
       "\n",
       "    .dataframe tbody tr th {\n",
       "        vertical-align: top;\n",
       "    }\n",
       "\n",
       "    .dataframe thead th {\n",
       "        text-align: right;\n",
       "    }\n",
       "</style>\n",
       "<table border=\"1\" class=\"dataframe\">\n",
       "  <thead>\n",
       "    <tr style=\"text-align: right;\">\n",
       "      <th></th>\n",
       "      <th>DATE</th>\n",
       "      <th>MONTHLY_SALES</th>\n",
       "      <th>CITY_ID</th>\n",
       "      <th>SHOP_ID</th>\n",
       "      <th>ITEM_CATEGORY_ID</th>\n",
       "      <th>ITEM_ID</th>\n",
       "      <th>DATE_ITEM_ID_TOTAL_TRANSACTIONS_MEAN_LAG1</th>\n",
       "      <th>DATE_SHOP_ID_ITEM_ID_MONTHLY_SALES_MEAN_LAG5</th>\n",
       "      <th>DATE_CITY_ID_ITEM_CATEGORY_ID_MONTHLY_SALES_MEAN_LAG3</th>\n",
       "      <th>DATE_ITEM_ID_UNIQUE_DAYS_WITH_SALES_MEAN_LAG0</th>\n",
       "      <th>DATE_SHOP_ID_ITEM_ID_TOTAL_TRANSACTIONS_MEAN_LAG6</th>\n",
       "      <th>DATE_SHOP_ID_ITEM_CATEGORY_ID_TOTAL_TRANSACTIONS_MEAN_LAG1</th>\n",
       "      <th>DATE_ITEM_CATEGORY_ID_MONTHLY_REVENUE_MEAN_LAG1</th>\n",
       "      <th>DATE_ITEM_ID_ITEM_CATEGORY_ID_MONTHLY_MEAN_PRICE_MEAN_LAG3</th>\n",
       "      <th>DATE_CITY_ID_ITEM_CATEGORY_ID_ITEM_ID_MONTHLY_REVENUE_MEAN_LAG5</th>\n",
       "    </tr>\n",
       "    <tr>\n",
       "      <th>UNIQUE_ID</th>\n",
       "      <th></th>\n",
       "      <th></th>\n",
       "      <th></th>\n",
       "      <th></th>\n",
       "      <th></th>\n",
       "      <th></th>\n",
       "      <th></th>\n",
       "      <th></th>\n",
       "      <th></th>\n",
       "      <th></th>\n",
       "      <th></th>\n",
       "      <th></th>\n",
       "      <th></th>\n",
       "      <th></th>\n",
       "      <th></th>\n",
       "    </tr>\n",
       "  </thead>\n",
       "  <tbody>\n",
       "    <tr>\n",
       "      <th>6-5823</th>\n",
       "      <td>2015-10-31</td>\n",
       "      <td>0.0</td>\n",
       "      <td>22.0</td>\n",
       "      <td>6</td>\n",
       "      <td>35</td>\n",
       "      <td>5823</td>\n",
       "      <td>7.200000</td>\n",
       "      <td>5.0</td>\n",
       "      <td>4.25</td>\n",
       "      <td>0.0</td>\n",
       "      <td>NaN</td>\n",
       "      <td>6.666667</td>\n",
       "      <td>14794.093750</td>\n",
       "      <td>2799.000000</td>\n",
       "      <td>13995.0</td>\n",
       "    </tr>\n",
       "    <tr>\n",
       "      <th>6-7856</th>\n",
       "      <td>2015-10-31</td>\n",
       "      <td>0.0</td>\n",
       "      <td>22.0</td>\n",
       "      <td>6</td>\n",
       "      <td>28</td>\n",
       "      <td>7856</td>\n",
       "      <td>2.250000</td>\n",
       "      <td>3.0</td>\n",
       "      <td>1.00</td>\n",
       "      <td>0.0</td>\n",
       "      <td>NaN</td>\n",
       "      <td>3.000000</td>\n",
       "      <td>3447.031250</td>\n",
       "      <td>1199.000000</td>\n",
       "      <td>2397.0</td>\n",
       "    </tr>\n",
       "    <tr>\n",
       "      <th>7-17717</th>\n",
       "      <td>2015-10-31</td>\n",
       "      <td>0.0</td>\n",
       "      <td>22.0</td>\n",
       "      <td>7</td>\n",
       "      <td>79</td>\n",
       "      <td>17717</td>\n",
       "      <td>10.880000</td>\n",
       "      <td>27.0</td>\n",
       "      <td>22.50</td>\n",
       "      <td>0.0</td>\n",
       "      <td>NaN</td>\n",
       "      <td>12.000000</td>\n",
       "      <td>20549.640000</td>\n",
       "      <td>1075.491798</td>\n",
       "      <td>29219.0</td>\n",
       "    </tr>\n",
       "    <tr>\n",
       "      <th>7-20949</th>\n",
       "      <td>2015-10-31</td>\n",
       "      <td>0.0</td>\n",
       "      <td>22.0</td>\n",
       "      <td>7</td>\n",
       "      <td>71</td>\n",
       "      <td>20949</td>\n",
       "      <td>20.894737</td>\n",
       "      <td>64.0</td>\n",
       "      <td>60.00</td>\n",
       "      <td>0.0</td>\n",
       "      <td>NaN</td>\n",
       "      <td>26.000000</td>\n",
       "      <td>438.699737</td>\n",
       "      <td>4.971241</td>\n",
       "      <td>185.0</td>\n",
       "    </tr>\n",
       "    <tr>\n",
       "      <th>7-5822</th>\n",
       "      <td>2015-10-31</td>\n",
       "      <td>0.0</td>\n",
       "      <td>22.0</td>\n",
       "      <td>7</td>\n",
       "      <td>35</td>\n",
       "      <td>5822</td>\n",
       "      <td>5.952381</td>\n",
       "      <td>7.0</td>\n",
       "      <td>4.25</td>\n",
       "      <td>0.0</td>\n",
       "      <td>NaN</td>\n",
       "      <td>5.000000</td>\n",
       "      <td>14794.093750</td>\n",
       "      <td>1149.000000</td>\n",
       "      <td>8617.5</td>\n",
       "    </tr>\n",
       "  </tbody>\n",
       "</table>\n",
       "</div>"
      ],
      "text/plain": [
       "                DATE  MONTHLY_SALES  CITY_ID  SHOP_ID  ITEM_CATEGORY_ID  \\\n",
       "UNIQUE_ID                                                                 \n",
       "6-5823    2015-10-31            0.0     22.0        6                35   \n",
       "6-7856    2015-10-31            0.0     22.0        6                28   \n",
       "7-17717   2015-10-31            0.0     22.0        7                79   \n",
       "7-20949   2015-10-31            0.0     22.0        7                71   \n",
       "7-5822    2015-10-31            0.0     22.0        7                35   \n",
       "\n",
       "           ITEM_ID  DATE_ITEM_ID_TOTAL_TRANSACTIONS_MEAN_LAG1  \\\n",
       "UNIQUE_ID                                                       \n",
       "6-5823        5823                                   7.200000   \n",
       "6-7856        7856                                   2.250000   \n",
       "7-17717      17717                                  10.880000   \n",
       "7-20949      20949                                  20.894737   \n",
       "7-5822        5822                                   5.952381   \n",
       "\n",
       "           DATE_SHOP_ID_ITEM_ID_MONTHLY_SALES_MEAN_LAG5  \\\n",
       "UNIQUE_ID                                                 \n",
       "6-5823                                              5.0   \n",
       "6-7856                                              3.0   \n",
       "7-17717                                            27.0   \n",
       "7-20949                                            64.0   \n",
       "7-5822                                              7.0   \n",
       "\n",
       "           DATE_CITY_ID_ITEM_CATEGORY_ID_MONTHLY_SALES_MEAN_LAG3  \\\n",
       "UNIQUE_ID                                                          \n",
       "6-5823                                                  4.25       \n",
       "6-7856                                                  1.00       \n",
       "7-17717                                                22.50       \n",
       "7-20949                                                60.00       \n",
       "7-5822                                                  4.25       \n",
       "\n",
       "           DATE_ITEM_ID_UNIQUE_DAYS_WITH_SALES_MEAN_LAG0  \\\n",
       "UNIQUE_ID                                                  \n",
       "6-5823                                               0.0   \n",
       "6-7856                                               0.0   \n",
       "7-17717                                              0.0   \n",
       "7-20949                                              0.0   \n",
       "7-5822                                               0.0   \n",
       "\n",
       "           DATE_SHOP_ID_ITEM_ID_TOTAL_TRANSACTIONS_MEAN_LAG6  \\\n",
       "UNIQUE_ID                                                      \n",
       "6-5823                                                   NaN   \n",
       "6-7856                                                   NaN   \n",
       "7-17717                                                  NaN   \n",
       "7-20949                                                  NaN   \n",
       "7-5822                                                   NaN   \n",
       "\n",
       "           DATE_SHOP_ID_ITEM_CATEGORY_ID_TOTAL_TRANSACTIONS_MEAN_LAG1  \\\n",
       "UNIQUE_ID                                                               \n",
       "6-5823                                              6.666667            \n",
       "6-7856                                              3.000000            \n",
       "7-17717                                            12.000000            \n",
       "7-20949                                            26.000000            \n",
       "7-5822                                              5.000000            \n",
       "\n",
       "           DATE_ITEM_CATEGORY_ID_MONTHLY_REVENUE_MEAN_LAG1  \\\n",
       "UNIQUE_ID                                                    \n",
       "6-5823                                        14794.093750   \n",
       "6-7856                                         3447.031250   \n",
       "7-17717                                       20549.640000   \n",
       "7-20949                                         438.699737   \n",
       "7-5822                                        14794.093750   \n",
       "\n",
       "           DATE_ITEM_ID_ITEM_CATEGORY_ID_MONTHLY_MEAN_PRICE_MEAN_LAG3  \\\n",
       "UNIQUE_ID                                                               \n",
       "6-5823                                           2799.000000            \n",
       "6-7856                                           1199.000000            \n",
       "7-17717                                          1075.491798            \n",
       "7-20949                                             4.971241            \n",
       "7-5822                                           1149.000000            \n",
       "\n",
       "           DATE_CITY_ID_ITEM_CATEGORY_ID_ITEM_ID_MONTHLY_REVENUE_MEAN_LAG5  \n",
       "UNIQUE_ID                                                                   \n",
       "6-5823                                               13995.0                \n",
       "6-7856                                                2397.0                \n",
       "7-17717                                              29219.0                \n",
       "7-20949                                                185.0                \n",
       "7-5822                                                8617.5                "
      ]
     },
     "execution_count": 96,
     "metadata": {},
     "output_type": "execute_result"
    }
   ],
   "source": [
    "full_df.tail()"
   ]
  },
  {
   "cell_type": "code",
   "execution_count": 97,
   "id": "67fa0293",
   "metadata": {
    "execution": {
     "iopub.execute_input": "2023-02-12T20:44:09.126016Z",
     "iopub.status.busy": "2023-02-12T20:44:09.125551Z",
     "iopub.status.idle": "2023-02-12T20:44:09.132986Z",
     "shell.execute_reply": "2023-02-12T20:44:09.131832Z"
    },
    "papermill": {
     "duration": 0.055762,
     "end_time": "2023-02-12T20:44:09.135365",
     "exception": false,
     "start_time": "2023-02-12T20:44:09.079603",
     "status": "completed"
    },
    "tags": []
   },
   "outputs": [],
   "source": [
    "train_index = sorted(list(full_df[\"DATE\"].unique()))[:-2]\n",
    "\n",
    "valida_index = [sorted(list(full_df[\"DATE\"].unique()))[-2]]\n",
    "\n",
    "test_index = [sorted(list(full_df[\"DATE\"].unique()))[-1]]"
   ]
  },
  {
   "cell_type": "code",
   "execution_count": 98,
   "id": "c9ea7cef",
   "metadata": {
    "execution": {
     "iopub.execute_input": "2023-02-12T20:44:09.226643Z",
     "iopub.status.busy": "2023-02-12T20:44:09.226186Z",
     "iopub.status.idle": "2023-02-12T20:44:09.232994Z",
     "shell.execute_reply": "2023-02-12T20:44:09.231881Z"
    },
    "papermill": {
     "duration": 0.055263,
     "end_time": "2023-02-12T20:44:09.235623",
     "exception": false,
     "start_time": "2023-02-12T20:44:09.180360",
     "status": "completed"
    },
    "tags": []
   },
   "outputs": [
    {
     "data": {
      "text/plain": [
       "[numpy.datetime64('2015-10-31T00:00:00.000000000')]"
      ]
     },
     "execution_count": 98,
     "metadata": {},
     "output_type": "execute_result"
    }
   ],
   "source": [
    "test_index"
   ]
  },
  {
   "cell_type": "code",
   "execution_count": 99,
   "id": "23ca108d",
   "metadata": {
    "execution": {
     "iopub.execute_input": "2023-02-12T20:44:09.330239Z",
     "iopub.status.busy": "2023-02-12T20:44:09.329826Z",
     "iopub.status.idle": "2023-02-12T20:44:09.346881Z",
     "shell.execute_reply": "2023-02-12T20:44:09.345878Z"
    },
    "papermill": {
     "duration": 0.068908,
     "end_time": "2023-02-12T20:44:09.349422",
     "exception": false,
     "start_time": "2023-02-12T20:44:09.280514",
     "status": "completed"
    },
    "tags": []
   },
   "outputs": [],
   "source": [
    "X_train = full_df[full_df[\"DATE\"].isin(train_index)].drop(['MONTHLY_SALES', \"DATE\"], axis=1)\n",
    "Y_train = full_df[full_df[\"DATE\"].isin(train_index)]['MONTHLY_SALES']\n",
    "\n",
    "X_valida = full_df[full_df[\"DATE\"].isin(valida_index)].drop(['MONTHLY_SALES', \"DATE\"], axis=1)\n",
    "Y_valida = full_df[full_df[\"DATE\"].isin(valida_index)]['MONTHLY_SALES']\n",
    "\n",
    "X_test = full_df[full_df[\"DATE\"].isin(test_index)].drop(['MONTHLY_SALES', \"DATE\"], axis = 1)\n",
    "Y_test = full_df[full_df[\"DATE\"].isin(test_index)]['MONTHLY_SALES']"
   ]
  },
  {
   "cell_type": "markdown",
   "id": "642924f4",
   "metadata": {
    "papermill": {
     "duration": 0.043952,
     "end_time": "2023-02-12T20:44:09.438314",
     "exception": false,
     "start_time": "2023-02-12T20:44:09.394362",
     "status": "completed"
    },
    "tags": []
   },
   "source": [
    "<a id='model_train'></a>\n",
    "### Model Train\n",
    "[Volver al índice](#index)<br>\n",
    "\n",
    "Entrenamos nuestro modelo de Machine Learning (benchmark)."
   ]
  },
  {
   "cell_type": "code",
   "execution_count": 100,
   "id": "5693d0c4",
   "metadata": {
    "execution": {
     "iopub.execute_input": "2023-02-12T20:44:09.530763Z",
     "iopub.status.busy": "2023-02-12T20:44:09.528679Z",
     "iopub.status.idle": "2023-02-12T20:44:32.432741Z",
     "shell.execute_reply": "2023-02-12T20:44:32.431434Z"
    },
    "papermill": {
     "duration": 22.952586,
     "end_time": "2023-02-12T20:44:32.435296",
     "exception": false,
     "start_time": "2023-02-12T20:44:09.482710",
     "status": "completed"
    },
    "tags": []
   },
   "outputs": [
    {
     "name": "stdout",
     "output_type": "stream",
     "text": [
      "[0]\tvalidation_0-rmse:11.92349\tvalidation_1-rmse:10.24714\n",
      "[1]\tvalidation_0-rmse:9.11652\tvalidation_1-rmse:7.84004\n",
      "[2]\tvalidation_0-rmse:7.28794\tvalidation_1-rmse:6.31989\n",
      "[3]\tvalidation_0-rmse:6.13008\tvalidation_1-rmse:5.36574\n",
      "[4]\tvalidation_0-rmse:5.44570\tvalidation_1-rmse:4.80566\n",
      "[5]\tvalidation_0-rmse:5.02584\tvalidation_1-rmse:4.47748\n",
      "[6]\tvalidation_0-rmse:4.78081\tvalidation_1-rmse:4.28988\n",
      "[7]\tvalidation_0-rmse:4.62388\tvalidation_1-rmse:4.17784\n",
      "[8]\tvalidation_0-rmse:4.52085\tvalidation_1-rmse:4.11214\n",
      "[9]\tvalidation_0-rmse:4.44910\tvalidation_1-rmse:4.07115\n",
      "[10]\tvalidation_0-rmse:4.39265\tvalidation_1-rmse:4.03819\n",
      "[11]\tvalidation_0-rmse:4.34525\tvalidation_1-rmse:4.01562\n",
      "[12]\tvalidation_0-rmse:4.30525\tvalidation_1-rmse:4.00355\n",
      "[13]\tvalidation_0-rmse:4.27019\tvalidation_1-rmse:3.98923\n",
      "[14]\tvalidation_0-rmse:4.23813\tvalidation_1-rmse:3.98035\n",
      "[15]\tvalidation_0-rmse:4.20920\tvalidation_1-rmse:3.97342\n",
      "[16]\tvalidation_0-rmse:4.18142\tvalidation_1-rmse:3.96474\n",
      "[17]\tvalidation_0-rmse:4.15568\tvalidation_1-rmse:3.95876\n",
      "[18]\tvalidation_0-rmse:4.13155\tvalidation_1-rmse:3.95245\n",
      "[19]\tvalidation_0-rmse:4.10926\tvalidation_1-rmse:3.94839\n",
      "[20]\tvalidation_0-rmse:4.08754\tvalidation_1-rmse:3.94391\n",
      "[21]\tvalidation_0-rmse:4.06693\tvalidation_1-rmse:3.94188\n",
      "[22]\tvalidation_0-rmse:4.04847\tvalidation_1-rmse:3.93627\n",
      "[23]\tvalidation_0-rmse:4.03024\tvalidation_1-rmse:3.93368\n",
      "[24]\tvalidation_0-rmse:4.01303\tvalidation_1-rmse:3.92622\n",
      "[25]\tvalidation_0-rmse:3.99722\tvalidation_1-rmse:3.92714\n",
      "[26]\tvalidation_0-rmse:3.98141\tvalidation_1-rmse:3.92636\n",
      "[27]\tvalidation_0-rmse:3.96679\tvalidation_1-rmse:3.92580\n",
      "[28]\tvalidation_0-rmse:3.95210\tvalidation_1-rmse:3.92411\n",
      "[29]\tvalidation_0-rmse:3.93792\tvalidation_1-rmse:3.92444\n",
      "[30]\tvalidation_0-rmse:3.92336\tvalidation_1-rmse:3.92399\n",
      "[31]\tvalidation_0-rmse:3.90957\tvalidation_1-rmse:3.92163\n",
      "[32]\tvalidation_0-rmse:3.89610\tvalidation_1-rmse:3.92080\n",
      "[33]\tvalidation_0-rmse:3.88360\tvalidation_1-rmse:3.91920\n",
      "[34]\tvalidation_0-rmse:3.87118\tvalidation_1-rmse:3.91553\n",
      "[35]\tvalidation_0-rmse:3.85965\tvalidation_1-rmse:3.91365\n",
      "[36]\tvalidation_0-rmse:3.84818\tvalidation_1-rmse:3.91239\n",
      "[37]\tvalidation_0-rmse:3.83624\tvalidation_1-rmse:3.91242\n",
      "[38]\tvalidation_0-rmse:3.82470\tvalidation_1-rmse:3.91011\n",
      "[39]\tvalidation_0-rmse:3.81365\tvalidation_1-rmse:3.90897\n",
      "[40]\tvalidation_0-rmse:3.80293\tvalidation_1-rmse:3.90885\n",
      "[41]\tvalidation_0-rmse:3.79273\tvalidation_1-rmse:3.90884\n",
      "[42]\tvalidation_0-rmse:3.78264\tvalidation_1-rmse:3.90650\n",
      "[43]\tvalidation_0-rmse:3.77219\tvalidation_1-rmse:3.90695\n",
      "[44]\tvalidation_0-rmse:3.76240\tvalidation_1-rmse:3.90649\n",
      "[45]\tvalidation_0-rmse:3.75288\tvalidation_1-rmse:3.90552\n",
      "[46]\tvalidation_0-rmse:3.74376\tvalidation_1-rmse:3.90539\n",
      "[47]\tvalidation_0-rmse:3.73424\tvalidation_1-rmse:3.90609\n",
      "[48]\tvalidation_0-rmse:3.72455\tvalidation_1-rmse:3.90356\n",
      "[49]\tvalidation_0-rmse:3.71520\tvalidation_1-rmse:3.90241\n",
      "[50]\tvalidation_0-rmse:3.70650\tvalidation_1-rmse:3.90421\n",
      "[51]\tvalidation_0-rmse:3.69760\tvalidation_1-rmse:3.90253\n",
      "[52]\tvalidation_0-rmse:3.68851\tvalidation_1-rmse:3.90057\n",
      "[53]\tvalidation_0-rmse:3.68008\tvalidation_1-rmse:3.90446\n",
      "[54]\tvalidation_0-rmse:3.67129\tvalidation_1-rmse:3.90728\n",
      "[55]\tvalidation_0-rmse:3.66247\tvalidation_1-rmse:3.90630\n",
      "[56]\tvalidation_0-rmse:3.65422\tvalidation_1-rmse:3.90616\n",
      "[57]\tvalidation_0-rmse:3.64598\tvalidation_1-rmse:3.90810\n",
      "[58]\tvalidation_0-rmse:3.63798\tvalidation_1-rmse:3.90593\n",
      "[59]\tvalidation_0-rmse:3.63005\tvalidation_1-rmse:3.90424\n",
      "[60]\tvalidation_0-rmse:3.62208\tvalidation_1-rmse:3.90309\n",
      "[61]\tvalidation_0-rmse:3.61417\tvalidation_1-rmse:3.90229\n",
      "[62]\tvalidation_0-rmse:3.60633\tvalidation_1-rmse:3.90370\n",
      "[63]\tvalidation_0-rmse:3.59824\tvalidation_1-rmse:3.90572\n",
      "[64]\tvalidation_0-rmse:3.59082\tvalidation_1-rmse:3.90419\n",
      "[65]\tvalidation_0-rmse:3.58307\tvalidation_1-rmse:3.90383\n",
      "[66]\tvalidation_0-rmse:3.57566\tvalidation_1-rmse:3.90409\n",
      "[67]\tvalidation_0-rmse:3.56820\tvalidation_1-rmse:3.90499\n",
      "[68]\tvalidation_0-rmse:3.56085\tvalidation_1-rmse:3.90492\n",
      "[69]\tvalidation_0-rmse:3.55407\tvalidation_1-rmse:3.90625\n",
      "[70]\tvalidation_0-rmse:3.54735\tvalidation_1-rmse:3.90511\n",
      "[71]\tvalidation_0-rmse:3.54051\tvalidation_1-rmse:3.90698\n"
     ]
    },
    {
     "data": {
      "text/plain": [
       "XGBRegressor(base_score=0.5, booster='gbtree', callbacks=None,\n",
       "             colsample_bylevel=1, colsample_bynode=1, colsample_bytree=0.7,\n",
       "             early_stopping_rounds=20, enable_categorical=False, eta=0.3,\n",
       "             eval_metric='rmse', gamma=0, gpu_id=-1, grow_policy='depthwise',\n",
       "             importance_type=None, interaction_constraints='',\n",
       "             learning_rate=0.300000012, max_bin=256, max_cat_to_onehot=4,\n",
       "             max_delta_step=0, max_depth=35, max_leaves=0, min_child_weight=150,\n",
       "             missing=nan, monotone_constraints='()', n_estimators=300, n_jobs=0,\n",
       "             num_parallel_tree=50, predictor='auto', random_state=645,\n",
       "             reg_alpha=0, ...)"
      ]
     },
     "execution_count": 100,
     "metadata": {},
     "output_type": "execute_result"
    }
   ],
   "source": [
    "model = xgb.XGBRegressor(eval_metric = \"rmse\",max_depth=35,booster='gbtree',num_parallel_tree=50,\n",
    "    n_estimators=300,\n",
    "    min_child_weight=150, \n",
    "    colsample_bytree=0.7, \n",
    "    subsample=0.7, \n",
    "    eta=0.3,              \n",
    "    early_stopping_rounds=20,                   \n",
    "    seed=645)\n",
    "\n",
    "model_name = str(model).split(\"(\")[0]\n",
    "\n",
    "day = str(datetime.now()).split()[0].replace(\"-\", \"_\")\n",
    "hour = str(datetime.now()).split()[1].replace(\":\", \"_\").split(\".\")[0]\n",
    "t = str(day) + \"_\" + str(hour)\n",
    "\n",
    "model.fit(X_train, Y_train, \n",
    "    eval_set = [(X_train, Y_train), (X_valida, Y_valida)], \n",
    "    verbose = True)"
   ]
  },
  {
   "cell_type": "code",
   "execution_count": 101,
   "id": "77b64078",
   "metadata": {
    "execution": {
     "iopub.execute_input": "2023-02-12T20:44:32.536483Z",
     "iopub.status.busy": "2023-02-12T20:44:32.535614Z",
     "iopub.status.idle": "2023-02-12T20:44:32.628205Z",
     "shell.execute_reply": "2023-02-12T20:44:32.626579Z"
    },
    "papermill": {
     "duration": 0.146021,
     "end_time": "2023-02-12T20:44:32.630843",
     "exception": false,
     "start_time": "2023-02-12T20:44:32.484822",
     "status": "completed"
    },
    "tags": []
   },
   "outputs": [
    {
     "name": "stdout",
     "output_type": "stream",
     "text": [
      "XGBRegressor_2023_02_12_20_44_09.dat\n"
     ]
    }
   ],
   "source": [
    "pickle.dump(model, open(\"{}_{}.dat\".format(model_name, t), \"wb\"))\n",
    "print(\"{}_{}.dat\".format(model_name, t))"
   ]
  },
  {
   "cell_type": "markdown",
   "id": "f314aba9",
   "metadata": {
    "papermill": {
     "duration": 0.051042,
     "end_time": "2023-02-12T20:44:32.731901",
     "exception": false,
     "start_time": "2023-02-12T20:44:32.680859",
     "status": "completed"
    },
    "tags": []
   },
   "source": [
    "<a id='model_evaluation'></a>\n",
    "### Model Evaluation (**CORE IDEA**)\n",
    "[Volver al índice](#index)<br>"
   ]
  },
  {
   "cell_type": "code",
   "execution_count": 102,
   "id": "328b6d0e",
   "metadata": {
    "execution": {
     "iopub.execute_input": "2023-02-12T20:44:32.834097Z",
     "iopub.status.busy": "2023-02-12T20:44:32.833328Z",
     "iopub.status.idle": "2023-02-12T20:44:33.387679Z",
     "shell.execute_reply": "2023-02-12T20:44:33.386741Z"
    },
    "papermill": {
     "duration": 0.607835,
     "end_time": "2023-02-12T20:44:33.390075",
     "exception": false,
     "start_time": "2023-02-12T20:44:32.782240",
     "status": "completed"
    },
    "tags": []
   },
   "outputs": [
    {
     "data": {
      "image/png": "[encoded data removed]",
      "text/plain": [
       "<Figure size 720x864 with 1 Axes>"
      ]
     },
     "metadata": {
      "needs_background": "light"
     },
     "output_type": "display_data"
    }
   ],
   "source": [
    "importance = model.get_booster().get_score(importance_type = \"gain\")\n",
    "importance = {k: v for k, v in sorted(importance.items(), key = lambda item: item[1])}\n",
    "\n",
    "fig, ax = plt.subplots(figsize = (10, 12))\n",
    "xgb.plot_importance(model, importance_type = \"gain\", ax = ax);"
   ]
  },
  {
   "cell_type": "markdown",
   "id": "283747d0",
   "metadata": {
    "papermill": {
     "duration": 0.050694,
     "end_time": "2023-02-12T20:44:33.491774",
     "exception": false,
     "start_time": "2023-02-12T20:44:33.441080",
     "status": "completed"
    },
    "tags": []
   },
   "source": [
    "<a id='prediction'></a>\n",
    "### Prediction\n",
    "[Volver al índice](#index)<br>\n",
    "\n",
    "En este apartado vamos a utilizar el modelo entrenado para hacer una predicción y posteriormente enviar el submit a Kaggle."
   ]
  },
  {
   "cell_type": "code",
   "execution_count": 103,
   "id": "0148975c",
   "metadata": {
    "execution": {
     "iopub.execute_input": "2023-02-12T20:44:33.595257Z",
     "iopub.status.busy": "2023-02-12T20:44:33.594374Z",
     "iopub.status.idle": "2023-02-12T20:44:33.688464Z",
     "shell.execute_reply": "2023-02-12T20:44:33.687342Z"
    },
    "papermill": {
     "duration": 0.148554,
     "end_time": "2023-02-12T20:44:33.691147",
     "exception": false,
     "start_time": "2023-02-12T20:44:33.542593",
     "status": "completed"
    },
    "tags": []
   },
   "outputs": [],
   "source": [
    "last_trained_model = pickle.load(open(\"{}_{}.dat\".format(model_name, t), \"rb\"))"
   ]
  },
  {
   "cell_type": "code",
   "execution_count": 104,
   "id": "b84d771b",
   "metadata": {
    "execution": {
     "iopub.execute_input": "2023-02-12T20:44:33.797620Z",
     "iopub.status.busy": "2023-02-12T20:44:33.796307Z",
     "iopub.status.idle": "2023-02-12T20:44:33.805994Z",
     "shell.execute_reply": "2023-02-12T20:44:33.804881Z"
    },
    "papermill": {
     "duration": 0.064854,
     "end_time": "2023-02-12T20:44:33.808570",
     "exception": false,
     "start_time": "2023-02-12T20:44:33.743716",
     "status": "completed"
    },
    "tags": []
   },
   "outputs": [
    {
     "data": {
      "text/plain": [
       "CITY_ID                                                              0\n",
       "SHOP_ID                                                              0\n",
       "ITEM_CATEGORY_ID                                                     0\n",
       "ITEM_ID                                                              0\n",
       "DATE_ITEM_ID_TOTAL_TRANSACTIONS_MEAN_LAG1                            0\n",
       "DATE_SHOP_ID_ITEM_ID_MONTHLY_SALES_MEAN_LAG5                         0\n",
       "DATE_CITY_ID_ITEM_CATEGORY_ID_MONTHLY_SALES_MEAN_LAG3                0\n",
       "DATE_ITEM_ID_UNIQUE_DAYS_WITH_SALES_MEAN_LAG0                        0\n",
       "DATE_SHOP_ID_ITEM_ID_TOTAL_TRANSACTIONS_MEAN_LAG6                  299\n",
       "DATE_SHOP_ID_ITEM_CATEGORY_ID_TOTAL_TRANSACTIONS_MEAN_LAG1           0\n",
       "DATE_ITEM_CATEGORY_ID_MONTHLY_REVENUE_MEAN_LAG1                      0\n",
       "DATE_ITEM_ID_ITEM_CATEGORY_ID_MONTHLY_MEAN_PRICE_MEAN_LAG3           0\n",
       "DATE_CITY_ID_ITEM_CATEGORY_ID_ITEM_ID_MONTHLY_REVENUE_MEAN_LAG5      0\n",
       "dtype: int64"
      ]
     },
     "execution_count": 104,
     "metadata": {},
     "output_type": "execute_result"
    }
   ],
   "source": [
    "X_valida.isnull().sum() ######## Está bien que haya NaN? \n",
    "#X_valida.fillna(0, inplace=True)"
   ]
  },
  {
   "cell_type": "code",
   "execution_count": 105,
   "id": "e46d3c21",
   "metadata": {
    "execution": {
     "iopub.execute_input": "2023-02-12T20:44:33.913240Z",
     "iopub.status.busy": "2023-02-12T20:44:33.912360Z",
     "iopub.status.idle": "2023-02-12T20:44:33.916282Z",
     "shell.execute_reply": "2023-02-12T20:44:33.915581Z"
    },
    "papermill": {
     "duration": 0.058938,
     "end_time": "2023-02-12T20:44:33.918566",
     "exception": false,
     "start_time": "2023-02-12T20:44:33.859628",
     "status": "completed"
    },
    "tags": []
   },
   "outputs": [],
   "source": [
    "#### Alternativa que probé a droppear los NaN sin buenos resultados ###\n",
    "\n",
    "#from sklearn.impute import SimpleImputer\n",
    "#imputer = SimpleImputer(missing_values=np.nan, strategy='mean')\n",
    "#imputer = imputer.fit(X_valida)\n",
    "#X_valida = imputer.transform(X_valida)"
   ]
  },
  {
   "cell_type": "code",
   "execution_count": 106,
   "id": "51ffecd5",
   "metadata": {
    "execution": {
     "iopub.execute_input": "2023-02-12T20:44:34.022852Z",
     "iopub.status.busy": "2023-02-12T20:44:34.021697Z",
     "iopub.status.idle": "2023-02-12T20:44:34.046699Z",
     "shell.execute_reply": "2023-02-12T20:44:34.045506Z"
    },
    "papermill": {
     "duration": 0.079593,
     "end_time": "2023-02-12T20:44:34.049291",
     "exception": false,
     "start_time": "2023-02-12T20:44:33.969698",
     "status": "completed"
    },
    "tags": []
   },
   "outputs": [
    {
     "data": {
      "text/html": [
       "<div>\n",
       "<style scoped>\n",
       "    .dataframe tbody tr th:only-of-type {\n",
       "        vertical-align: middle;\n",
       "    }\n",
       "\n",
       "    .dataframe tbody tr th {\n",
       "        vertical-align: top;\n",
       "    }\n",
       "\n",
       "    .dataframe thead th {\n",
       "        text-align: right;\n",
       "    }\n",
       "</style>\n",
       "<table border=\"1\" class=\"dataframe\">\n",
       "  <thead>\n",
       "    <tr style=\"text-align: right;\">\n",
       "      <th></th>\n",
       "      <th>CITY_ID</th>\n",
       "      <th>SHOP_ID</th>\n",
       "      <th>ITEM_CATEGORY_ID</th>\n",
       "      <th>ITEM_ID</th>\n",
       "      <th>DATE_ITEM_ID_TOTAL_TRANSACTIONS_MEAN_LAG1</th>\n",
       "      <th>DATE_SHOP_ID_ITEM_ID_MONTHLY_SALES_MEAN_LAG5</th>\n",
       "      <th>DATE_CITY_ID_ITEM_CATEGORY_ID_MONTHLY_SALES_MEAN_LAG3</th>\n",
       "      <th>DATE_ITEM_ID_UNIQUE_DAYS_WITH_SALES_MEAN_LAG0</th>\n",
       "      <th>DATE_SHOP_ID_ITEM_ID_TOTAL_TRANSACTIONS_MEAN_LAG6</th>\n",
       "      <th>DATE_SHOP_ID_ITEM_CATEGORY_ID_TOTAL_TRANSACTIONS_MEAN_LAG1</th>\n",
       "      <th>DATE_ITEM_CATEGORY_ID_MONTHLY_REVENUE_MEAN_LAG1</th>\n",
       "      <th>DATE_ITEM_ID_ITEM_CATEGORY_ID_MONTHLY_MEAN_PRICE_MEAN_LAG3</th>\n",
       "      <th>DATE_CITY_ID_ITEM_CATEGORY_ID_ITEM_ID_MONTHLY_REVENUE_MEAN_LAG5</th>\n",
       "    </tr>\n",
       "    <tr>\n",
       "      <th>UNIQUE_ID</th>\n",
       "      <th></th>\n",
       "      <th></th>\n",
       "      <th></th>\n",
       "      <th></th>\n",
       "      <th></th>\n",
       "      <th></th>\n",
       "      <th></th>\n",
       "      <th></th>\n",
       "      <th></th>\n",
       "      <th></th>\n",
       "      <th></th>\n",
       "      <th></th>\n",
       "      <th></th>\n",
       "    </tr>\n",
       "  </thead>\n",
       "  <tbody>\n",
       "    <tr>\n",
       "      <th>11-20949</th>\n",
       "      <td>25.0</td>\n",
       "      <td>11</td>\n",
       "      <td>71</td>\n",
       "      <td>20949</td>\n",
       "      <td>22.078947</td>\n",
       "      <td>51.0</td>\n",
       "      <td>13.00</td>\n",
       "      <td>20.894737</td>\n",
       "      <td>NaN</td>\n",
       "      <td>12.000000</td>\n",
       "      <td>463.195263</td>\n",
       "      <td>4.970525</td>\n",
       "      <td>201.0</td>\n",
       "    </tr>\n",
       "    <tr>\n",
       "      <th>11-4181</th>\n",
       "      <td>25.0</td>\n",
       "      <td>11</td>\n",
       "      <td>75</td>\n",
       "      <td>4181</td>\n",
       "      <td>8.416667</td>\n",
       "      <td>5.0</td>\n",
       "      <td>3.00</td>\n",
       "      <td>8.250000</td>\n",
       "      <td>NaN</td>\n",
       "      <td>7.000000</td>\n",
       "      <td>11604.576667</td>\n",
       "      <td>1147.209091</td>\n",
       "      <td>4330.0</td>\n",
       "    </tr>\n",
       "    <tr>\n",
       "      <th>12-11365</th>\n",
       "      <td>16.0</td>\n",
       "      <td>12</td>\n",
       "      <td>9</td>\n",
       "      <td>11365</td>\n",
       "      <td>7.000000</td>\n",
       "      <td>38.0</td>\n",
       "      <td>96.25</td>\n",
       "      <td>6.000000</td>\n",
       "      <td>NaN</td>\n",
       "      <td>14.500000</td>\n",
       "      <td>27940.750000</td>\n",
       "      <td>1035.541667</td>\n",
       "      <td>29590.0</td>\n",
       "    </tr>\n",
       "    <tr>\n",
       "      <th>12-11369</th>\n",
       "      <td>16.0</td>\n",
       "      <td>12</td>\n",
       "      <td>9</td>\n",
       "      <td>11369</td>\n",
       "      <td>10.000000</td>\n",
       "      <td>184.0</td>\n",
       "      <td>96.25</td>\n",
       "      <td>15.000000</td>\n",
       "      <td>NaN</td>\n",
       "      <td>14.500000</td>\n",
       "      <td>27940.750000</td>\n",
       "      <td>1307.281250</td>\n",
       "      <td>64870.0</td>\n",
       "    </tr>\n",
       "    <tr>\n",
       "      <th>12-11370</th>\n",
       "      <td>16.0</td>\n",
       "      <td>12</td>\n",
       "      <td>9</td>\n",
       "      <td>11370</td>\n",
       "      <td>20.000000</td>\n",
       "      <td>341.0</td>\n",
       "      <td>96.25</td>\n",
       "      <td>22.000000</td>\n",
       "      <td>NaN</td>\n",
       "      <td>14.500000</td>\n",
       "      <td>27940.750000</td>\n",
       "      <td>549.699457</td>\n",
       "      <td>86200.0</td>\n",
       "    </tr>\n",
       "    <tr>\n",
       "      <th>...</th>\n",
       "      <td>...</td>\n",
       "      <td>...</td>\n",
       "      <td>...</td>\n",
       "      <td>...</td>\n",
       "      <td>...</td>\n",
       "      <td>...</td>\n",
       "      <td>...</td>\n",
       "      <td>...</td>\n",
       "      <td>...</td>\n",
       "      <td>...</td>\n",
       "      <td>...</td>\n",
       "      <td>...</td>\n",
       "      <td>...</td>\n",
       "    </tr>\n",
       "    <tr>\n",
       "      <th>6-5823</th>\n",
       "      <td>22.0</td>\n",
       "      <td>6</td>\n",
       "      <td>35</td>\n",
       "      <td>5823</td>\n",
       "      <td>6.800000</td>\n",
       "      <td>3.0</td>\n",
       "      <td>5.00</td>\n",
       "      <td>7.200000</td>\n",
       "      <td>NaN</td>\n",
       "      <td>5.333333</td>\n",
       "      <td>13809.703125</td>\n",
       "      <td>2799.000000</td>\n",
       "      <td>8397.0</td>\n",
       "    </tr>\n",
       "    <tr>\n",
       "      <th>6-7856</th>\n",
       "      <td>22.0</td>\n",
       "      <td>6</td>\n",
       "      <td>28</td>\n",
       "      <td>7856</td>\n",
       "      <td>3.666667</td>\n",
       "      <td>6.0</td>\n",
       "      <td>7.00</td>\n",
       "      <td>2.250000</td>\n",
       "      <td>NaN</td>\n",
       "      <td>5.000000</td>\n",
       "      <td>5352.218750</td>\n",
       "      <td>1058.944444</td>\n",
       "      <td>4738.0</td>\n",
       "    </tr>\n",
       "    <tr>\n",
       "      <th>7-17717</th>\n",
       "      <td>22.0</td>\n",
       "      <td>7</td>\n",
       "      <td>79</td>\n",
       "      <td>17717</td>\n",
       "      <td>10.640000</td>\n",
       "      <td>32.0</td>\n",
       "      <td>27.50</td>\n",
       "      <td>10.880000</td>\n",
       "      <td>NaN</td>\n",
       "      <td>10.000000</td>\n",
       "      <td>18520.320000</td>\n",
       "      <td>1082.061138</td>\n",
       "      <td>39351.0</td>\n",
       "    </tr>\n",
       "    <tr>\n",
       "      <th>7-20949</th>\n",
       "      <td>22.0</td>\n",
       "      <td>7</td>\n",
       "      <td>71</td>\n",
       "      <td>20949</td>\n",
       "      <td>22.078947</td>\n",
       "      <td>54.0</td>\n",
       "      <td>38.00</td>\n",
       "      <td>20.894737</td>\n",
       "      <td>NaN</td>\n",
       "      <td>27.000000</td>\n",
       "      <td>463.195263</td>\n",
       "      <td>4.970525</td>\n",
       "      <td>270.0</td>\n",
       "    </tr>\n",
       "    <tr>\n",
       "      <th>7-5822</th>\n",
       "      <td>22.0</td>\n",
       "      <td>7</td>\n",
       "      <td>35</td>\n",
       "      <td>5822</td>\n",
       "      <td>7.000000</td>\n",
       "      <td>10.0</td>\n",
       "      <td>5.00</td>\n",
       "      <td>5.952381</td>\n",
       "      <td>NaN</td>\n",
       "      <td>5.000000</td>\n",
       "      <td>13809.703125</td>\n",
       "      <td>1147.820748</td>\n",
       "      <td>13213.5</td>\n",
       "    </tr>\n",
       "  </tbody>\n",
       "</table>\n",
       "<p>299 rows × 13 columns</p>\n",
       "</div>"
      ],
      "text/plain": [
       "           CITY_ID  SHOP_ID  ITEM_CATEGORY_ID  ITEM_ID  \\\n",
       "UNIQUE_ID                                                \n",
       "11-20949      25.0       11                71    20949   \n",
       "11-4181       25.0       11                75     4181   \n",
       "12-11365      16.0       12                 9    11365   \n",
       "12-11369      16.0       12                 9    11369   \n",
       "12-11370      16.0       12                 9    11370   \n",
       "...            ...      ...               ...      ...   \n",
       "6-5823        22.0        6                35     5823   \n",
       "6-7856        22.0        6                28     7856   \n",
       "7-17717       22.0        7                79    17717   \n",
       "7-20949       22.0        7                71    20949   \n",
       "7-5822        22.0        7                35     5822   \n",
       "\n",
       "           DATE_ITEM_ID_TOTAL_TRANSACTIONS_MEAN_LAG1  \\\n",
       "UNIQUE_ID                                              \n",
       "11-20949                                   22.078947   \n",
       "11-4181                                     8.416667   \n",
       "12-11365                                    7.000000   \n",
       "12-11369                                   10.000000   \n",
       "12-11370                                   20.000000   \n",
       "...                                              ...   \n",
       "6-5823                                      6.800000   \n",
       "6-7856                                      3.666667   \n",
       "7-17717                                    10.640000   \n",
       "7-20949                                    22.078947   \n",
       "7-5822                                      7.000000   \n",
       "\n",
       "           DATE_SHOP_ID_ITEM_ID_MONTHLY_SALES_MEAN_LAG5  \\\n",
       "UNIQUE_ID                                                 \n",
       "11-20949                                           51.0   \n",
       "11-4181                                             5.0   \n",
       "12-11365                                           38.0   \n",
       "12-11369                                          184.0   \n",
       "12-11370                                          341.0   \n",
       "...                                                 ...   \n",
       "6-5823                                              3.0   \n",
       "6-7856                                              6.0   \n",
       "7-17717                                            32.0   \n",
       "7-20949                                            54.0   \n",
       "7-5822                                             10.0   \n",
       "\n",
       "           DATE_CITY_ID_ITEM_CATEGORY_ID_MONTHLY_SALES_MEAN_LAG3  \\\n",
       "UNIQUE_ID                                                          \n",
       "11-20949                                               13.00       \n",
       "11-4181                                                 3.00       \n",
       "12-11365                                               96.25       \n",
       "12-11369                                               96.25       \n",
       "12-11370                                               96.25       \n",
       "...                                                      ...       \n",
       "6-5823                                                  5.00       \n",
       "6-7856                                                  7.00       \n",
       "7-17717                                                27.50       \n",
       "7-20949                                                38.00       \n",
       "7-5822                                                  5.00       \n",
       "\n",
       "           DATE_ITEM_ID_UNIQUE_DAYS_WITH_SALES_MEAN_LAG0  \\\n",
       "UNIQUE_ID                                                  \n",
       "11-20949                                       20.894737   \n",
       "11-4181                                         8.250000   \n",
       "12-11365                                        6.000000   \n",
       "12-11369                                       15.000000   \n",
       "12-11370                                       22.000000   \n",
       "...                                                  ...   \n",
       "6-5823                                          7.200000   \n",
       "6-7856                                          2.250000   \n",
       "7-17717                                        10.880000   \n",
       "7-20949                                        20.894737   \n",
       "7-5822                                          5.952381   \n",
       "\n",
       "           DATE_SHOP_ID_ITEM_ID_TOTAL_TRANSACTIONS_MEAN_LAG6  \\\n",
       "UNIQUE_ID                                                      \n",
       "11-20949                                                 NaN   \n",
       "11-4181                                                  NaN   \n",
       "12-11365                                                 NaN   \n",
       "12-11369                                                 NaN   \n",
       "12-11370                                                 NaN   \n",
       "...                                                      ...   \n",
       "6-5823                                                   NaN   \n",
       "6-7856                                                   NaN   \n",
       "7-17717                                                  NaN   \n",
       "7-20949                                                  NaN   \n",
       "7-5822                                                   NaN   \n",
       "\n",
       "           DATE_SHOP_ID_ITEM_CATEGORY_ID_TOTAL_TRANSACTIONS_MEAN_LAG1  \\\n",
       "UNIQUE_ID                                                               \n",
       "11-20949                                           12.000000            \n",
       "11-4181                                             7.000000            \n",
       "12-11365                                           14.500000            \n",
       "12-11369                                           14.500000            \n",
       "12-11370                                           14.500000            \n",
       "...                                                      ...            \n",
       "6-5823                                              5.333333            \n",
       "6-7856                                              5.000000            \n",
       "7-17717                                            10.000000            \n",
       "7-20949                                            27.000000            \n",
       "7-5822                                              5.000000            \n",
       "\n",
       "           DATE_ITEM_CATEGORY_ID_MONTHLY_REVENUE_MEAN_LAG1  \\\n",
       "UNIQUE_ID                                                    \n",
       "11-20949                                        463.195263   \n",
       "11-4181                                       11604.576667   \n",
       "12-11365                                      27940.750000   \n",
       "12-11369                                      27940.750000   \n",
       "12-11370                                      27940.750000   \n",
       "...                                                    ...   \n",
       "6-5823                                        13809.703125   \n",
       "6-7856                                         5352.218750   \n",
       "7-17717                                       18520.320000   \n",
       "7-20949                                         463.195263   \n",
       "7-5822                                        13809.703125   \n",
       "\n",
       "           DATE_ITEM_ID_ITEM_CATEGORY_ID_MONTHLY_MEAN_PRICE_MEAN_LAG3  \\\n",
       "UNIQUE_ID                                                               \n",
       "11-20949                                            4.970525            \n",
       "11-4181                                          1147.209091            \n",
       "12-11365                                         1035.541667            \n",
       "12-11369                                         1307.281250            \n",
       "12-11370                                          549.699457            \n",
       "...                                                      ...            \n",
       "6-5823                                           2799.000000            \n",
       "6-7856                                           1058.944444            \n",
       "7-17717                                          1082.061138            \n",
       "7-20949                                             4.970525            \n",
       "7-5822                                           1147.820748            \n",
       "\n",
       "           DATE_CITY_ID_ITEM_CATEGORY_ID_ITEM_ID_MONTHLY_REVENUE_MEAN_LAG5  \n",
       "UNIQUE_ID                                                                   \n",
       "11-20949                                               201.0                \n",
       "11-4181                                               4330.0                \n",
       "12-11365                                             29590.0                \n",
       "12-11369                                             64870.0                \n",
       "12-11370                                             86200.0                \n",
       "...                                                      ...                \n",
       "6-5823                                                8397.0                \n",
       "6-7856                                                4738.0                \n",
       "7-17717                                              39351.0                \n",
       "7-20949                                                270.0                \n",
       "7-5822                                               13213.5                \n",
       "\n",
       "[299 rows x 13 columns]"
      ]
     },
     "execution_count": 106,
     "metadata": {},
     "output_type": "execute_result"
    }
   ],
   "source": [
    "X_valida"
   ]
  },
  {
   "cell_type": "code",
   "execution_count": 107,
   "id": "a1e8e172",
   "metadata": {
    "execution": {
     "iopub.execute_input": "2023-02-12T20:44:34.153197Z",
     "iopub.status.busy": "2023-02-12T20:44:34.152765Z",
     "iopub.status.idle": "2023-02-12T20:44:34.189617Z",
     "shell.execute_reply": "2023-02-12T20:44:34.188435Z"
    },
    "papermill": {
     "duration": 0.09273,
     "end_time": "2023-02-12T20:44:34.193010",
     "exception": false,
     "start_time": "2023-02-12T20:44:34.100280",
     "status": "completed"
    },
    "tags": []
   },
   "outputs": [
    {
     "name": "stdout",
     "output_type": "stream",
     "text": [
      "RMSE válida: 3.9005710835585408\n"
     ]
    }
   ],
   "source": [
    "Y_valida_pred = model.predict(X_valida)\n",
    "\n",
    "rmse_valida = np.sqrt(mean_squared_error(Y_valida, Y_valida_pred))\n",
    "print(\"RMSE válida: \" + str(rmse_valida))"
   ]
  },
  {
   "cell_type": "code",
   "execution_count": 108,
   "id": "9090a5c8",
   "metadata": {
    "execution": {
     "iopub.execute_input": "2023-02-12T20:44:34.302170Z",
     "iopub.status.busy": "2023-02-12T20:44:34.301780Z",
     "iopub.status.idle": "2023-02-12T20:44:34.327864Z",
     "shell.execute_reply": "2023-02-12T20:44:34.326681Z"
    },
    "papermill": {
     "duration": 0.082783,
     "end_time": "2023-02-12T20:44:34.330368",
     "exception": false,
     "start_time": "2023-02-12T20:44:34.247585",
     "status": "completed"
    },
    "tags": []
   },
   "outputs": [
    {
     "data": {
      "text/html": [
       "<div>\n",
       "<style scoped>\n",
       "    .dataframe tbody tr th:only-of-type {\n",
       "        vertical-align: middle;\n",
       "    }\n",
       "\n",
       "    .dataframe tbody tr th {\n",
       "        vertical-align: top;\n",
       "    }\n",
       "\n",
       "    .dataframe thead th {\n",
       "        text-align: right;\n",
       "    }\n",
       "</style>\n",
       "<table border=\"1\" class=\"dataframe\">\n",
       "  <thead>\n",
       "    <tr style=\"text-align: right;\">\n",
       "      <th></th>\n",
       "      <th>CITY_ID</th>\n",
       "      <th>SHOP_ID</th>\n",
       "      <th>ITEM_CATEGORY_ID</th>\n",
       "      <th>ITEM_ID</th>\n",
       "      <th>DATE_ITEM_ID_TOTAL_TRANSACTIONS_MEAN_LAG1</th>\n",
       "      <th>DATE_SHOP_ID_ITEM_ID_MONTHLY_SALES_MEAN_LAG5</th>\n",
       "      <th>DATE_CITY_ID_ITEM_CATEGORY_ID_MONTHLY_SALES_MEAN_LAG3</th>\n",
       "      <th>DATE_ITEM_ID_UNIQUE_DAYS_WITH_SALES_MEAN_LAG0</th>\n",
       "      <th>DATE_SHOP_ID_ITEM_ID_TOTAL_TRANSACTIONS_MEAN_LAG6</th>\n",
       "      <th>DATE_SHOP_ID_ITEM_CATEGORY_ID_TOTAL_TRANSACTIONS_MEAN_LAG1</th>\n",
       "      <th>DATE_ITEM_CATEGORY_ID_MONTHLY_REVENUE_MEAN_LAG1</th>\n",
       "      <th>DATE_ITEM_ID_ITEM_CATEGORY_ID_MONTHLY_MEAN_PRICE_MEAN_LAG3</th>\n",
       "      <th>DATE_CITY_ID_ITEM_CATEGORY_ID_ITEM_ID_MONTHLY_REVENUE_MEAN_LAG5</th>\n",
       "    </tr>\n",
       "    <tr>\n",
       "      <th>UNIQUE_ID</th>\n",
       "      <th></th>\n",
       "      <th></th>\n",
       "      <th></th>\n",
       "      <th></th>\n",
       "      <th></th>\n",
       "      <th></th>\n",
       "      <th></th>\n",
       "      <th></th>\n",
       "      <th></th>\n",
       "      <th></th>\n",
       "      <th></th>\n",
       "      <th></th>\n",
       "      <th></th>\n",
       "    </tr>\n",
       "  </thead>\n",
       "  <tbody>\n",
       "    <tr>\n",
       "      <th>11-20949</th>\n",
       "      <td>25.0</td>\n",
       "      <td>11</td>\n",
       "      <td>71</td>\n",
       "      <td>20949</td>\n",
       "      <td>20.894737</td>\n",
       "      <td>40.0</td>\n",
       "      <td>35.00</td>\n",
       "      <td>0.0</td>\n",
       "      <td>NaN</td>\n",
       "      <td>12.000000</td>\n",
       "      <td>438.699737</td>\n",
       "      <td>4.971241</td>\n",
       "      <td>160.0</td>\n",
       "    </tr>\n",
       "    <tr>\n",
       "      <th>11-4181</th>\n",
       "      <td>25.0</td>\n",
       "      <td>11</td>\n",
       "      <td>75</td>\n",
       "      <td>4181</td>\n",
       "      <td>8.250000</td>\n",
       "      <td>3.0</td>\n",
       "      <td>5.00</td>\n",
       "      <td>0.0</td>\n",
       "      <td>NaN</td>\n",
       "      <td>8.000000</td>\n",
       "      <td>13488.104286</td>\n",
       "      <td>1156.861222</td>\n",
       "      <td>2598.0</td>\n",
       "    </tr>\n",
       "    <tr>\n",
       "      <th>12-11365</th>\n",
       "      <td>16.0</td>\n",
       "      <td>12</td>\n",
       "      <td>9</td>\n",
       "      <td>11365</td>\n",
       "      <td>6.000000</td>\n",
       "      <td>61.0</td>\n",
       "      <td>94.25</td>\n",
       "      <td>0.0</td>\n",
       "      <td>NaN</td>\n",
       "      <td>16.250000</td>\n",
       "      <td>60542.500000</td>\n",
       "      <td>1139.166667</td>\n",
       "      <td>33595.0</td>\n",
       "    </tr>\n",
       "    <tr>\n",
       "      <th>12-11369</th>\n",
       "      <td>16.0</td>\n",
       "      <td>12</td>\n",
       "      <td>9</td>\n",
       "      <td>11369</td>\n",
       "      <td>15.000000</td>\n",
       "      <td>344.0</td>\n",
       "      <td>94.25</td>\n",
       "      <td>0.0</td>\n",
       "      <td>NaN</td>\n",
       "      <td>16.250000</td>\n",
       "      <td>60542.500000</td>\n",
       "      <td>810.762540</td>\n",
       "      <td>131449.0</td>\n",
       "    </tr>\n",
       "    <tr>\n",
       "      <th>12-11370</th>\n",
       "      <td>16.0</td>\n",
       "      <td>12</td>\n",
       "      <td>9</td>\n",
       "      <td>11370</td>\n",
       "      <td>22.000000</td>\n",
       "      <td>578.0</td>\n",
       "      <td>94.25</td>\n",
       "      <td>0.0</td>\n",
       "      <td>NaN</td>\n",
       "      <td>16.250000</td>\n",
       "      <td>60542.500000</td>\n",
       "      <td>410.440443</td>\n",
       "      <td>108820.0</td>\n",
       "    </tr>\n",
       "    <tr>\n",
       "      <th>...</th>\n",
       "      <td>...</td>\n",
       "      <td>...</td>\n",
       "      <td>...</td>\n",
       "      <td>...</td>\n",
       "      <td>...</td>\n",
       "      <td>...</td>\n",
       "      <td>...</td>\n",
       "      <td>...</td>\n",
       "      <td>...</td>\n",
       "      <td>...</td>\n",
       "      <td>...</td>\n",
       "      <td>...</td>\n",
       "      <td>...</td>\n",
       "    </tr>\n",
       "    <tr>\n",
       "      <th>6-5823</th>\n",
       "      <td>22.0</td>\n",
       "      <td>6</td>\n",
       "      <td>35</td>\n",
       "      <td>5823</td>\n",
       "      <td>7.200000</td>\n",
       "      <td>5.0</td>\n",
       "      <td>4.25</td>\n",
       "      <td>0.0</td>\n",
       "      <td>NaN</td>\n",
       "      <td>6.666667</td>\n",
       "      <td>14794.093750</td>\n",
       "      <td>2799.000000</td>\n",
       "      <td>13995.0</td>\n",
       "    </tr>\n",
       "    <tr>\n",
       "      <th>6-7856</th>\n",
       "      <td>22.0</td>\n",
       "      <td>6</td>\n",
       "      <td>28</td>\n",
       "      <td>7856</td>\n",
       "      <td>2.250000</td>\n",
       "      <td>3.0</td>\n",
       "      <td>1.00</td>\n",
       "      <td>0.0</td>\n",
       "      <td>NaN</td>\n",
       "      <td>3.000000</td>\n",
       "      <td>3447.031250</td>\n",
       "      <td>1199.000000</td>\n",
       "      <td>2397.0</td>\n",
       "    </tr>\n",
       "    <tr>\n",
       "      <th>7-17717</th>\n",
       "      <td>22.0</td>\n",
       "      <td>7</td>\n",
       "      <td>79</td>\n",
       "      <td>17717</td>\n",
       "      <td>10.880000</td>\n",
       "      <td>27.0</td>\n",
       "      <td>22.50</td>\n",
       "      <td>0.0</td>\n",
       "      <td>NaN</td>\n",
       "      <td>12.000000</td>\n",
       "      <td>20549.640000</td>\n",
       "      <td>1075.491798</td>\n",
       "      <td>29219.0</td>\n",
       "    </tr>\n",
       "    <tr>\n",
       "      <th>7-20949</th>\n",
       "      <td>22.0</td>\n",
       "      <td>7</td>\n",
       "      <td>71</td>\n",
       "      <td>20949</td>\n",
       "      <td>20.894737</td>\n",
       "      <td>64.0</td>\n",
       "      <td>60.00</td>\n",
       "      <td>0.0</td>\n",
       "      <td>NaN</td>\n",
       "      <td>26.000000</td>\n",
       "      <td>438.699737</td>\n",
       "      <td>4.971241</td>\n",
       "      <td>185.0</td>\n",
       "    </tr>\n",
       "    <tr>\n",
       "      <th>7-5822</th>\n",
       "      <td>22.0</td>\n",
       "      <td>7</td>\n",
       "      <td>35</td>\n",
       "      <td>5822</td>\n",
       "      <td>5.952381</td>\n",
       "      <td>7.0</td>\n",
       "      <td>4.25</td>\n",
       "      <td>0.0</td>\n",
       "      <td>NaN</td>\n",
       "      <td>5.000000</td>\n",
       "      <td>14794.093750</td>\n",
       "      <td>1149.000000</td>\n",
       "      <td>8617.5</td>\n",
       "    </tr>\n",
       "  </tbody>\n",
       "</table>\n",
       "<p>299 rows × 13 columns</p>\n",
       "</div>"
      ],
      "text/plain": [
       "           CITY_ID  SHOP_ID  ITEM_CATEGORY_ID  ITEM_ID  \\\n",
       "UNIQUE_ID                                                \n",
       "11-20949      25.0       11                71    20949   \n",
       "11-4181       25.0       11                75     4181   \n",
       "12-11365      16.0       12                 9    11365   \n",
       "12-11369      16.0       12                 9    11369   \n",
       "12-11370      16.0       12                 9    11370   \n",
       "...            ...      ...               ...      ...   \n",
       "6-5823        22.0        6                35     5823   \n",
       "6-7856        22.0        6                28     7856   \n",
       "7-17717       22.0        7                79    17717   \n",
       "7-20949       22.0        7                71    20949   \n",
       "7-5822        22.0        7                35     5822   \n",
       "\n",
       "           DATE_ITEM_ID_TOTAL_TRANSACTIONS_MEAN_LAG1  \\\n",
       "UNIQUE_ID                                              \n",
       "11-20949                                   20.894737   \n",
       "11-4181                                     8.250000   \n",
       "12-11365                                    6.000000   \n",
       "12-11369                                   15.000000   \n",
       "12-11370                                   22.000000   \n",
       "...                                              ...   \n",
       "6-5823                                      7.200000   \n",
       "6-7856                                      2.250000   \n",
       "7-17717                                    10.880000   \n",
       "7-20949                                    20.894737   \n",
       "7-5822                                      5.952381   \n",
       "\n",
       "           DATE_SHOP_ID_ITEM_ID_MONTHLY_SALES_MEAN_LAG5  \\\n",
       "UNIQUE_ID                                                 \n",
       "11-20949                                           40.0   \n",
       "11-4181                                             3.0   \n",
       "12-11365                                           61.0   \n",
       "12-11369                                          344.0   \n",
       "12-11370                                          578.0   \n",
       "...                                                 ...   \n",
       "6-5823                                              5.0   \n",
       "6-7856                                              3.0   \n",
       "7-17717                                            27.0   \n",
       "7-20949                                            64.0   \n",
       "7-5822                                              7.0   \n",
       "\n",
       "           DATE_CITY_ID_ITEM_CATEGORY_ID_MONTHLY_SALES_MEAN_LAG3  \\\n",
       "UNIQUE_ID                                                          \n",
       "11-20949                                               35.00       \n",
       "11-4181                                                 5.00       \n",
       "12-11365                                               94.25       \n",
       "12-11369                                               94.25       \n",
       "12-11370                                               94.25       \n",
       "...                                                      ...       \n",
       "6-5823                                                  4.25       \n",
       "6-7856                                                  1.00       \n",
       "7-17717                                                22.50       \n",
       "7-20949                                                60.00       \n",
       "7-5822                                                  4.25       \n",
       "\n",
       "           DATE_ITEM_ID_UNIQUE_DAYS_WITH_SALES_MEAN_LAG0  \\\n",
       "UNIQUE_ID                                                  \n",
       "11-20949                                             0.0   \n",
       "11-4181                                              0.0   \n",
       "12-11365                                             0.0   \n",
       "12-11369                                             0.0   \n",
       "12-11370                                             0.0   \n",
       "...                                                  ...   \n",
       "6-5823                                               0.0   \n",
       "6-7856                                               0.0   \n",
       "7-17717                                              0.0   \n",
       "7-20949                                              0.0   \n",
       "7-5822                                               0.0   \n",
       "\n",
       "           DATE_SHOP_ID_ITEM_ID_TOTAL_TRANSACTIONS_MEAN_LAG6  \\\n",
       "UNIQUE_ID                                                      \n",
       "11-20949                                                 NaN   \n",
       "11-4181                                                  NaN   \n",
       "12-11365                                                 NaN   \n",
       "12-11369                                                 NaN   \n",
       "12-11370                                                 NaN   \n",
       "...                                                      ...   \n",
       "6-5823                                                   NaN   \n",
       "6-7856                                                   NaN   \n",
       "7-17717                                                  NaN   \n",
       "7-20949                                                  NaN   \n",
       "7-5822                                                   NaN   \n",
       "\n",
       "           DATE_SHOP_ID_ITEM_CATEGORY_ID_TOTAL_TRANSACTIONS_MEAN_LAG1  \\\n",
       "UNIQUE_ID                                                               \n",
       "11-20949                                           12.000000            \n",
       "11-4181                                             8.000000            \n",
       "12-11365                                           16.250000            \n",
       "12-11369                                           16.250000            \n",
       "12-11370                                           16.250000            \n",
       "...                                                      ...            \n",
       "6-5823                                              6.666667            \n",
       "6-7856                                              3.000000            \n",
       "7-17717                                            12.000000            \n",
       "7-20949                                            26.000000            \n",
       "7-5822                                              5.000000            \n",
       "\n",
       "           DATE_ITEM_CATEGORY_ID_MONTHLY_REVENUE_MEAN_LAG1  \\\n",
       "UNIQUE_ID                                                    \n",
       "11-20949                                        438.699737   \n",
       "11-4181                                       13488.104286   \n",
       "12-11365                                      60542.500000   \n",
       "12-11369                                      60542.500000   \n",
       "12-11370                                      60542.500000   \n",
       "...                                                    ...   \n",
       "6-5823                                        14794.093750   \n",
       "6-7856                                         3447.031250   \n",
       "7-17717                                       20549.640000   \n",
       "7-20949                                         438.699737   \n",
       "7-5822                                        14794.093750   \n",
       "\n",
       "           DATE_ITEM_ID_ITEM_CATEGORY_ID_MONTHLY_MEAN_PRICE_MEAN_LAG3  \\\n",
       "UNIQUE_ID                                                               \n",
       "11-20949                                            4.971241            \n",
       "11-4181                                          1156.861222            \n",
       "12-11365                                         1139.166667            \n",
       "12-11369                                          810.762540            \n",
       "12-11370                                          410.440443            \n",
       "...                                                      ...            \n",
       "6-5823                                           2799.000000            \n",
       "6-7856                                           1199.000000            \n",
       "7-17717                                          1075.491798            \n",
       "7-20949                                             4.971241            \n",
       "7-5822                                           1149.000000            \n",
       "\n",
       "           DATE_CITY_ID_ITEM_CATEGORY_ID_ITEM_ID_MONTHLY_REVENUE_MEAN_LAG5  \n",
       "UNIQUE_ID                                                                   \n",
       "11-20949                                               160.0                \n",
       "11-4181                                               2598.0                \n",
       "12-11365                                             33595.0                \n",
       "12-11369                                            131449.0                \n",
       "12-11370                                            108820.0                \n",
       "...                                                      ...                \n",
       "6-5823                                               13995.0                \n",
       "6-7856                                                2397.0                \n",
       "7-17717                                              29219.0                \n",
       "7-20949                                                185.0                \n",
       "7-5822                                                8617.5                \n",
       "\n",
       "[299 rows x 13 columns]"
      ]
     },
     "execution_count": 108,
     "metadata": {},
     "output_type": "execute_result"
    }
   ],
   "source": [
    "X_test"
   ]
  },
  {
   "cell_type": "code",
   "execution_count": 109,
   "id": "464872c1",
   "metadata": {
    "execution": {
     "iopub.execute_input": "2023-02-12T20:44:34.436792Z",
     "iopub.status.busy": "2023-02-12T20:44:34.436358Z",
     "iopub.status.idle": "2023-02-12T20:44:34.484437Z",
     "shell.execute_reply": "2023-02-12T20:44:34.483380Z"
    },
    "papermill": {
     "duration": 0.104486,
     "end_time": "2023-02-12T20:44:34.487281",
     "exception": false,
     "start_time": "2023-02-12T20:44:34.382795",
     "status": "completed"
    },
    "tags": []
   },
   "outputs": [],
   "source": [
    "if \"SALES_PREDICTED\" in X_test.columns:\n",
    "    X_test.drop(\"SALES_PREDICTED\", axis = 1, inplace = True)\n",
    "    \n",
    "Y_test_predict = model.predict(X_test)\n",
    "X_test[\"SALES_PREDICTED\"] = np.clip(Y_test_predict, 0, 30)"
   ]
  },
  {
   "cell_type": "code",
   "execution_count": 110,
   "id": "10ff2de9",
   "metadata": {
    "execution": {
     "iopub.execute_input": "2023-02-12T20:44:34.597367Z",
     "iopub.status.busy": "2023-02-12T20:44:34.596963Z",
     "iopub.status.idle": "2023-02-12T20:44:34.607039Z",
     "shell.execute_reply": "2023-02-12T20:44:34.605836Z"
    },
    "papermill": {
     "duration": 0.065743,
     "end_time": "2023-02-12T20:44:34.609537",
     "exception": false,
     "start_time": "2023-02-12T20:44:34.543794",
     "status": "completed"
    },
    "tags": []
   },
   "outputs": [
    {
     "data": {
      "text/plain": [
       "array([ 2.38882494e+00, -6.27353609e-01,  1.25818243e+01,  1.17544346e+01,\n",
       "        8.99591255e+00,  8.99326229e+00,  9.79254484e-01, -1.31081417e-01,\n",
       "        8.07411671e+00, -6.25454843e-01,  4.21614461e-02,  6.00908327e+00,\n",
       "        2.65141279e-01,  2.42761850e-01,  2.91112334e-01,  2.61066221e-02,\n",
       "        4.15178061e+00, -8.32623422e-01,  1.14582837e+00,  6.30479908e+00,\n",
       "       -1.80662394e+00, -1.26055241e+00, -1.22002065e+00,  6.26174569e-01,\n",
       "        3.34445190e+00, -8.56598735e-01, -4.07942086e-01, -9.53822970e-01,\n",
       "        2.76225358e-01,  4.60085154e+00, -6.29075170e-01, -4.66717780e-01,\n",
       "       -1.67272234e+00, -5.00166006e-02,  3.39445019e+00,  8.45615959e+00,\n",
       "       -2.12936997e+00,  6.18625939e-01,  2.10922933e+00,  8.49197865e+00,\n",
       "       -1.59964934e-01, -7.90188789e-01,  1.39369905e-01, -3.69936913e-01,\n",
       "        1.07226646e+00,  1.97344911e+00,  1.05412103e-01,  4.98793036e-01,\n",
       "        1.98723269e+00,  6.07163286e+00,  4.85821486e-01,  5.08264661e-01,\n",
       "        4.50099438e-01,  9.12988707e-02,  2.86102623e-01,  1.88852362e-02,\n",
       "        1.36727188e-02, -2.59202838e-01, -4.84311022e-05,  3.70414823e-01,\n",
       "        6.16881371e-01,  6.43258691e-01,  8.82268608e-01,  9.02471662e-01,\n",
       "        5.10523736e-01,  1.31236649e+00,  1.31523919e+00,  3.84535289e+00,\n",
       "        5.18616796e-01,  8.60197449e+00,  5.37750840e-01,  6.92964554e-01,\n",
       "        7.81536043e-01,  5.29445648e-01,  5.24731636e-01,  4.85692322e-01,\n",
       "       -6.94071036e-03, -1.84965551e-01, -7.31540769e-02, -2.60830313e-01,\n",
       "       -2.62003765e-03,  2.08184198e-01,  3.73220831e-01,  1.40692443e-01,\n",
       "        8.40690851e-01,  4.41647619e-01, -2.75442898e-01, -1.96915492e-01,\n",
       "        2.79946351e+00,  6.76842499e+00,  2.13001752e+00,  3.49035531e-01,\n",
       "        4.24112320e-01,  9.79639709e-01,  1.39496839e+00,  6.90087020e-01,\n",
       "        4.16806269e+00,  6.69221953e-02,  8.56658840e+00, -3.70098799e-01,\n",
       "        1.03274119e+00,  8.22035551e-01,  7.18727171e-01,  6.67740941e-01,\n",
       "        9.11560535e-01,  4.77233768e-01, -2.72740394e-01, -1.13380289e+00,\n",
       "        1.52052835e-01,  5.94310403e-01,  1.16852796e+00,  1.80148274e-01,\n",
       "        5.10425389e-01,  1.50977373e-01, -6.75651789e-01,  1.38487130e-01,\n",
       "        9.58034813e-01,  7.99913406e-01,  1.06729722e+00,  1.04582191e+00,\n",
       "        1.83652592e+00,  7.05311179e-01,  4.13102329e-01,  1.51596040e-01,\n",
       "        1.43399850e-01,  4.77926850e-01,  3.30400735e-01,  8.05436254e-01,\n",
       "        3.45060736e-01,  1.13028347e+00,  1.21281874e+00,  8.36349487e-01,\n",
       "        1.29830098e+00,  1.56271651e-01,  5.66189349e-01,  9.85124588e+00,\n",
       "        9.33505714e-01,  8.79541397e+00,  2.16699958e-01,  1.64566278e-01,\n",
       "        3.18970263e-01,  4.53383505e-01,  7.56420553e-01,  8.53706777e-01,\n",
       "        1.39378476e+00,  1.12173402e+00,  1.14223552e+00, -8.92941803e-02,\n",
       "        5.93968332e-01,  5.90473950e-01,  2.27971449e-01,  6.36377633e-01,\n",
       "       -1.45771414e-01, -1.86652645e-01, -1.40360326e-01,  5.56327462e-01,\n",
       "        9.02748033e-02,  5.33922315e-01,  5.55122077e-01,  5.77317119e-01,\n",
       "       -4.14909236e-02,  2.40074682e+00,  5.16382694e+00,  1.00839877e+00,\n",
       "        8.48594964e-01,  6.55644834e-01,  5.79131663e-01,  1.15100026e+00,\n",
       "        9.55815375e-01,  4.98582631e-01,  7.89573312e-01,  7.14929342e-01,\n",
       "        3.52210641e+00,  2.00804639e+00,  2.85231328e+00,  8.18164062e+00,\n",
       "        6.46256495e+00, -1.95201412e-02,  2.13727212e+00,  3.70260549e+00,\n",
       "       -4.44457412e-01,  8.26044083e+00,  9.09974873e-01,  8.19641590e+00,\n",
       "       -1.38216817e+00,  2.34840050e-01, -2.02622747e+00,  7.99238634e+00,\n",
       "        8.52793789e+00, -3.61919636e-04, -1.57583430e-01,  3.90752465e-01,\n",
       "        1.03035057e+00, -1.23258390e-01, -1.20728269e-01,  4.83831167e-01,\n",
       "       -1.69614446e+00,  2.62808204e+00,  2.66084337e+00,  6.17454648e-01,\n",
       "        9.37508196e-02,  8.67157817e-01,  6.13112879e+00,  3.75458479e-01,\n",
       "       -1.05539167e+00,  1.72280610e-01, -8.42586398e-01, -4.68134105e-01,\n",
       "        1.65105987e+00,  8.30029774e+00,  3.60026717e-01,  3.27919871e-01,\n",
       "        9.00149867e-02, -6.46283150e-01,  3.18559742e+00,  5.42295408e+00,\n",
       "       -4.63429481e-01,  2.08879352e+00,  7.37054157e+00, -3.86342883e-01,\n",
       "        5.40852737e+00, -6.39433086e-01, -1.42781091e+00, -1.17464018e+00,\n",
       "       -2.60641158e-01,  5.20451260e+00, -1.23939860e+00,  3.51392031e-01,\n",
       "        7.86252642e+00,  1.08946666e-01,  2.36957476e-01, -8.21368918e-02,\n",
       "       -1.08322449e-01,  8.07532597e+00,  6.26849937e+00,  7.95798063e+00,\n",
       "        1.03787601e+00,  9.61456120e-01,  9.03269112e-01,  1.82105929e-01,\n",
       "       -2.18918040e-01, -7.84817785e-02,  7.90572500e+00,  2.40579858e-01,\n",
       "        6.24381113e+00,  8.39659119e+00,  5.89044511e-01, -1.91810980e-01,\n",
       "        1.10548139e+00,  8.35946465e+00,  1.17924726e+00,  1.16437685e+00,\n",
       "        3.85584980e-01,  1.09223366e+00,  3.50373477e-01,  8.64362431e+00,\n",
       "        9.13141310e-01,  6.55009687e-01,  7.54102588e-01,  4.04865652e-01,\n",
       "        1.08848333e+00,  6.16732419e-01,  3.02292317e-01,  5.20135462e-01,\n",
       "        3.73479664e-01,  4.50230002e-01,  8.82896781e-01, -1.44308001e-01,\n",
       "       -2.94174790e-01,  7.33278155e-01,  1.01223804e-01,  7.94190586e-01,\n",
       "        8.10461104e-01,  2.49092519e-01,  3.97921763e-02,  4.97104120e+00,\n",
       "        1.30525911e+00,  1.09968984e+00,  3.89780961e-02,  8.64254594e-01,\n",
       "        9.70795751e-01,  1.65417576e+00,  2.41114646e-01,  2.82464117e-01,\n",
       "        3.23600471e-01,  2.13298893e+00,  7.55015671e-01, -8.48256707e-01,\n",
       "       -1.88320446e+00,  4.49890471e+00,  6.24377871e+00, -8.21647942e-01,\n",
       "       -1.03519046e+00, -2.72714317e-01, -7.25955248e-01,  3.72586727e-01,\n",
       "        4.21129131e+00,  9.07569408e+00, -2.90897816e-01], dtype=float32)"
      ]
     },
     "execution_count": 110,
     "metadata": {},
     "output_type": "execute_result"
    }
   ],
   "source": [
    "Y_test_predict"
   ]
  },
  {
   "cell_type": "code",
   "execution_count": 111,
   "id": "eeb8f282",
   "metadata": {
    "execution": {
     "iopub.execute_input": "2023-02-12T20:44:34.717264Z",
     "iopub.status.busy": "2023-02-12T20:44:34.715627Z",
     "iopub.status.idle": "2023-02-12T20:44:34.722368Z",
     "shell.execute_reply": "2023-02-12T20:44:34.721310Z"
    },
    "papermill": {
     "duration": 0.063465,
     "end_time": "2023-02-12T20:44:34.725026",
     "exception": false,
     "start_time": "2023-02-12T20:44:34.661561",
     "status": "completed"
    },
    "tags": []
   },
   "outputs": [],
   "source": [
    "X_test.reset_index(inplace = True)"
   ]
  },
  {
   "cell_type": "code",
   "execution_count": 112,
   "id": "8cd43b9f",
   "metadata": {
    "execution": {
     "iopub.execute_input": "2023-02-12T20:44:34.832794Z",
     "iopub.status.busy": "2023-02-12T20:44:34.832312Z",
     "iopub.status.idle": "2023-02-12T20:44:34.842372Z",
     "shell.execute_reply": "2023-02-12T20:44:34.841556Z"
    },
    "papermill": {
     "duration": 0.06687,
     "end_time": "2023-02-12T20:44:34.844758",
     "exception": false,
     "start_time": "2023-02-12T20:44:34.777888",
     "status": "completed"
    },
    "tags": []
   },
   "outputs": [],
   "source": [
    "(\n",
    "    X_test[[\"UNIQUE_ID\", \"SALES_PREDICTED\"]]\n",
    "    .rename(columns = {\"UNIQUE_ID\":\"unique_id\", \"SALES_PREDICTED\":\"sales\"})\n",
    "    .to_csv(\"submission.csv\", index = False)\n",
    ")"
   ]
  },
  {
   "cell_type": "markdown",
   "id": "dd1f7d27",
   "metadata": {
    "papermill": {
     "duration": 0.052305,
     "end_time": "2023-02-12T20:44:34.949939",
     "exception": false,
     "start_time": "2023-02-12T20:44:34.897634",
     "status": "completed"
    },
    "tags": []
   },
   "source": [
    "<a id='conclusion'></a>\n",
    "### Conclusión\n",
    "[Volver al índice](#index)<br>\n",
    "\n",
    "En este notebook hemos explorado la importancia en Machine Learning de utilizar un modelo benchmark cuando nos enfrentamos por primera vez a un nuevo dataset.\n",
    "\n",
    "Establecer el benchmark nos ayuda a entender cual es el punto de partida.\n",
    "\n",
    "Al entrenar un modelo, tenemos ya un notebook funcional que nos permite entrar en la siguiente loop:\n",
    "\n",
    "1. Hacer un poco más de EDA.\n",
    "2. Construir nuevas variables.\n",
    "3. Probar estas variables en el modelo.\n",
    "4. Guardar el score para ver la mejora o no (Kaggle Submit).\n",
    "5. Volver al punto 1.\n",
    "\n",
    "A continuación dejamos algunas ideas que los alumnos pueden implementar para mejorar el benchmark:\n",
    "\n",
    "1. Probad otras combinaciones de variables.\n",
    "2. Darle más profundidad a los lags/shifts.\n",
    "3. Implementar medias móviles (ojo variables autoexplicativas).\n",
    "4. Utilizar otras columnas en vez de MONTHLY_SALES para construir las variables.\n",
    "5. Añadir variables externas (relación rublo/dólar, festivos locales etc).\n",
    "6. Probar otros algoritmos.\n",
    "7. Tunnear los hiperparametros del modelo.\n",
    "\n",
    "### Happy Kaggling :)"
   ]
  },
  {
   "cell_type": "markdown",
   "id": "d0536215",
   "metadata": {
    "papermill": {
     "duration": 0.052127,
     "end_time": "2023-02-12T20:44:35.055779",
     "exception": false,
     "start_time": "2023-02-12T20:44:35.003652",
     "status": "completed"
    },
    "tags": []
   },
   "source": [
    "<a id='referencias'></a>\n",
    "### Referencias y lecturas recomendables\n",
    "[Volver al índice](#index)<br>\n",
    "\n",
    "A continuación dejamos algunos links útiles para profundizar en algunos de los conceptos que hemos visto en el notebook:"
   ]
  },
  {
   "cell_type": "markdown",
   "id": "403795f9",
   "metadata": {
    "execution": {
     "iopub.execute_input": "2022-12-25T18:07:20.669652Z",
     "iopub.status.busy": "2022-12-25T18:07:20.66926Z",
     "iopub.status.idle": "2022-12-25T18:07:20.678128Z",
     "shell.execute_reply": "2022-12-25T18:07:20.675814Z",
     "shell.execute_reply.started": "2022-12-25T18:07:20.669622Z"
    },
    "papermill": {
     "duration": 0.051585,
     "end_time": "2023-02-12T20:44:35.160137",
     "exception": false,
     "start_time": "2023-02-12T20:44:35.108552",
     "status": "completed"
    },
    "tags": []
   },
   "source": [
    "[The importance of Benchmarking](https://blog.bigml.com/2020/03/20/machine-learning-benchmarking-youre-doing-it-wrong/)\n",
    "\n",
    "[Tree Based Models and Extrapolation (MUY RECOMENDABLE)](https://shanminlin.medium.com/how-to-help-tree-based-models-extrapolate-7954287b1219)\n",
    "\n",
    "[XGBoost](https://xgboost.readthedocs.io/en/stable/)"
   ]
  }
 ],
 "metadata": {
  "kernelspec": {
   "display_name": "Python 3",
   "language": "python",
   "name": "python3"
  },
  "language_info": {
   "codemirror_mode": {
    "name": "ipython",
    "version": 3
   },
   "file_extension": ".py",
   "mimetype": "text/x-python",
   "name": "python",
   "nbconvert_exporter": "python",
   "pygments_lexer": "ipython3",
   "version": "3.7.12"
  },
  "papermill": {
   "default_parameters": {},
   "duration": 60.140264,
   "end_time": "2023-02-12T20:44:36.036278",
   "environment_variables": {},
   "exception": null,
   "input_path": "__notebook__.ipynb",
   "output_path": "__notebook__.ipynb",
   "parameters": {},
   "start_time": "2023-02-12T20:43:35.896014",
   "version": "2.3.4"
  }
 },
 "nbformat": 4,
 "nbformat_minor": 5
}
