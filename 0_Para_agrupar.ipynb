{
  "nbformat": 4,
  "nbformat_minor": 0,
  "metadata": {
    "colab": {
      "provenance": [],
      "include_colab_link": true
    },
    "kernelspec": {
      "name": "python3",
      "display_name": "Python 3"
    },
    "language_info": {
      "name": "python"
    }
  },
  "cells": [
    {
      "cell_type": "markdown",
      "metadata": {
        "id": "view-in-github",
        "colab_type": "text"
      },
      "source": [
        "<a href=\"https://colab.research.google.com/github/damianleandro/My-first-works-for-the-Master-/blob/main/0_Para_agrupar.ipynb\" target=\"_parent\"><img src=\"https://colab.research.google.com/assets/colab-badge.svg\" alt=\"Open In Colab\"/></a>"
      ]
    },
    {
      "cell_type": "code",
      "execution_count": null,
      "metadata": {
        "id": "BTJAhtJUbuuM",
        "colab": {
          "base_uri": "https://localhost:8080/"
        },
        "outputId": "6c3ec44e-a3f4-411a-8d5e-75d2b8cda7ed"
      },
      "outputs": [
        {
          "output_type": "stream",
          "name": "stdout",
          "text": [
            "Mounted at /content/drive\n"
          ]
        }
      ],
      "source": [
        "from google.colab import drive\n",
        "drive.mount('/content/drive')\n",
        "\n",
        "#--------------------------------------------------------\n",
        "#--------------------------------------------------------\n",
        "#--------------------------------------------------------\n",
        "# imports time series\n",
        "import pandas as pd\n",
        "import numpy as np\n",
        "\n",
        "# plots\n",
        "import matplotlib.pyplot as plt\n",
        "%matplotlib inline\n",
        "\n",
        "# para calculas métricas del modelo\n",
        "from sklearn.metrics import mean_squared_error\n",
        "\n",
        "# misc\n",
        "import os\n",
        "import glob\n",
        "import time\n",
        "import itertools\n",
        "import warnings\n",
        "warnings.filterwarnings(\"ignore\")\n",
        "\n",
        "# apartado ts\n",
        "import statsmodels.api as sm\n",
        "from statsmodels.tsa.stattools import adfuller\n",
        "from statsmodels.tsa.stattools import acf, pacf\n",
        "from statsmodels.graphics.tsaplots import plot_acf, plot_pacf\n",
        "from statsmodels.tsa.seasonal import seasonal_decompose\n",
        "from statsmodels.tsa.holtwinters import SimpleExpSmoothing, ExponentialSmoothing, Holt\n",
        "\n",
        "from prophet import Prophet"
      ]
    },
    {
      "cell_type": "code",
      "source": [
        "path1 = '/content/drive/MyDrive/Colab Notebooks/DataSetComercial/'\n",
        "path2 = '/content/drive/MyDrive/Colab Notebooks/DataSetDomestico/'\n",
        "path3 = '/content/drive/MyDrive/Colab Notebooks/DataSetIndustrial/'\n",
        "\n",
        "file_extension = '*.csv'\n",
        "\n",
        "files_path1 = glob.glob(path1 + file_extension)\n",
        "files_path2 = glob.glob(path2 + file_extension)\n",
        "files_path3 = glob.glob(path3 + file_extension)\n",
        "\n",
        "files_path1 = [file.split(\"/\")[-1] for file in files_path1]\n",
        "files_path2 = [file.split(\"/\")[-1] for file in files_path2]\n",
        "files_path3 = [file.split(\"/\")[-1] for file in files_path3]\n",
        "\n",
        "same_files = sorted(list(set(files_path1) & set(files_path2) & set(files_path3)))\n",
        "\n",
        "if same_files:\n",
        "    print(\"The following files are present in all folders (in alphabetical order):\")\n",
        "    for file in same_files:\n",
        "        print(file)\n",
        "else:\n",
        "    print(\"No common files found in all folders.\")"
      ],
      "metadata": {
        "colab": {
          "base_uri": "https://localhost:8080/"
        },
        "id": "ETCK_N6dfGa3",
        "outputId": "daf94d77-9963-478f-d3a1-1135cdfc4a4b"
      },
      "execution_count": null,
      "outputs": [
        {
          "output_type": "stream",
          "name": "stdout",
          "text": [
            "The following files are present in all folders (in alphabetical order):\n",
            "BADALONA.csv\n",
            "BARCELONA.csv\n",
            "BEGUES.csv\n",
            "CASTELLDEFELS.csv\n",
            "CERDANYOLA.csv\n",
            "CORNELLA.csv\n",
            "EL PAPIOL.csv\n",
            "ESPLUGUES.csv\n",
            "GAVA.csv\n",
            "MONTCADA I REIXAC.csv\n",
            "MONTGAT.csv\n",
            "PALLEJA.csv\n",
            "SANT ADRIA.csv\n",
            "SANT BOI.csv\n",
            "SANT CLIMENT LLOB..csv\n",
            "SANT FELIU LL..csv\n",
            "SANT JOAN DESPI.csv\n",
            "SANT JUST DESVERN.csv\n",
            "STA.COLOMA CERVELLO.csv\n",
            "STA.COLOMA GRAMENET.csv\n",
            "TORRELLES LLOBREGAT.csv\n",
            "VILADECANS.csv\n"
          ]
        }
      ]
    },
    {
      "cell_type": "code",
      "source": [
        "file_name = 'BARCELONA.csv'\n",
        "\n",
        "df1 = pd.read_csv(path1 + file_name)\n",
        "df2 = pd.read_csv(path2 + file_name)\n",
        "df3 = pd.read_csv(path3 + file_name)"
      ],
      "metadata": {
        "id": "d9pdthaqbGA4"
      },
      "execution_count": null,
      "outputs": []
    },
    {
      "cell_type": "code",
      "source": [
        "final_df = pd.DataFrame()\n",
        "\n",
        "for i, path in enumerate([path1, path2, path3]):\n",
        "    df = pd.read_csv(path + file_name)\n",
        "    df['FECHA'] = pd.to_datetime(df['FECHA'])\n",
        "    final_df = pd.concat([final_df, df], ignore_index=True)\n",
        "\n",
        "# check if the \"Unnamed: 0\" column exists and drop it\n",
        "if 'Unnamed: 0' in final_df.columns:\n",
        "    final_df.drop(columns=['Unnamed: 0'], inplace=True)\n",
        "\n",
        "folder_path = '/content/drive/MyDrive/Colab Notebooks/Agrupados'\n",
        "new_file_name = os.path.join(folder_path, file_name.split(\".\")[0] + \".csv\")\n",
        "final_df.to_csv(new_file_name, index=False)\n"
      ],
      "metadata": {
        "id": "A6QvhJxqqP3D"
      },
      "execution_count": null,
      "outputs": []
    },
    {
      "cell_type": "code",
      "source": [
        "print(\"CHEQUEO\\n\")\n",
        "original = len(df1)+len(df2)+len(df3)\n",
        "print(\"Original: \"+str(original))\n",
        "ldc = len(final_df)\n",
        "print(\"Luego del concat: \"+ str(ldc))\n",
        "print(\"Diferencia: \" + str(original-ldc)) "
      ],
      "metadata": {
        "id": "5h9rZfBLnoAP",
        "colab": {
          "base_uri": "https://localhost:8080/"
        },
        "outputId": "1606cfb1-05e4-48fd-fbf0-1816f4694a9c"
      },
      "execution_count": null,
      "outputs": [
        {
          "output_type": "stream",
          "name": "stdout",
          "text": [
            "CHEQUEO\n",
            "\n",
            "Original: 20380504\n",
            "Luego del concat: 20380504\n",
            "Diferencia: 0\n"
          ]
        }
      ]
    },
    {
      "cell_type": "code",
      "source": [
        "final_df.info()"
      ],
      "metadata": {
        "id": "DEVUzpFSnWJM",
        "colab": {
          "base_uri": "https://localhost:8080/"
        },
        "outputId": "5e441c5c-acd2-432c-fe0a-dcaee2207e98"
      },
      "execution_count": null,
      "outputs": [
        {
          "output_type": "stream",
          "name": "stdout",
          "text": [
            "<class 'pandas.core.frame.DataFrame'>\n",
            "RangeIndex: 20380504 entries, 0 to 20380503\n",
            "Data columns (total 5 columns):\n",
            " #   Column       Dtype         \n",
            "---  ------       -----         \n",
            " 0   FECHA        datetime64[ns]\n",
            " 1   USO          object        \n",
            " 2   CONSUMO      int64         \n",
            " 3   ID_CONTADOR  int64         \n",
            " 4   LOCALIDAD    object        \n",
            "dtypes: datetime64[ns](1), int64(2), object(2)\n",
            "memory usage: 777.5+ MB\n"
          ]
        }
      ]
    },
    {
      "cell_type": "code",
      "source": [
        "final_df[\"USO\"].value_counts()"
      ],
      "metadata": {
        "colab": {
          "base_uri": "https://localhost:8080/"
        },
        "id": "YzAgq3I5Ek2n",
        "outputId": "0d1eb0ea-ca8f-4e57-da5d-5a6b7b958490"
      },
      "execution_count": null,
      "outputs": [
        {
          "output_type": "execute_result",
          "data": {
            "text/plain": [
              "DOMÈSTIC      10126886\n",
              "COMERCIAL      8646723\n",
              "INDUSTRIAL     1606895\n",
              "Name: USO, dtype: int64"
            ]
          },
          "metadata": {},
          "execution_count": 10
        }
      ]
    },
    {
      "cell_type": "code",
      "source": [
        "final_df.plot(figsize=(20,10), x=\"FECHA\", y=\"CONSUMO\", label=\"CONSUMO\", title=\"CONSUMO \"+file_name).legend(loc=\"upper right\")"
      ],
      "metadata": {
        "id": "VnSJl6l-cbfu",
        "colab": {
          "base_uri": "https://localhost:8080/",
          "height": 604
        },
        "outputId": "79846c3b-667e-4f98-f146-b4220ed424aa"
      },
      "execution_count": null,
      "outputs": [
        {
          "output_type": "execute_result",
          "data": {
            "text/plain": [
              "<matplotlib.legend.Legend at 0x7f67c3f67a60>"
            ]
          },
          "metadata": {},
          "execution_count": 11
        },
        {
          "output_type": "display_data",
          "data": {
            "text/plain": [
              "<Figure size 1440x720 with 1 Axes>"
            ],
            "image/png": "[encoded data removed]"
          },
          "metadata": {
            "needs_background": "light"
          }
        }
      ]
    },
    {
      "cell_type": "code",
      "source": [
        "final_df.to_csv('/content/drive/MyDrive/Colab Notebooks/Agrupados/BARCELONA.CSV')"
      ],
      "metadata": {
        "id": "KQewnL91Gw_n"
      },
      "execution_count": null,
      "outputs": []
    },
    {
      "cell_type": "code",
      "source": [
        "#Para chequear si estamos frente a una serie temporal pero no lo hice funcionar\n",
        "\n",
        "#for nombre_serie in final_df[\"LOCALIDAD\"].unique():\n",
        "    \n",
        "#    serie = final_df[final_df[\"LOCALIDAD\"] == nombre_serie][\"FECHA\"]\n",
        "    \n",
        "#    print(\"------------------------------------------------------------------\")\n",
        "    \n",
        "#    print(\"Estamos trabajando con la serie {}\\n\".format(nombre_serie))\n",
        "#    resultado_analisis = adfuller(serie)\n",
        "    \n",
        "#    valor_estadistico_adf = round(resultado_analisis[0], 3)\n",
        "#    p_valor = round(resultado_analisis[1], 3)\n",
        "    \n",
        "#    print(\"Valor estadistico de ADF de las tablas precalculadas: {}\".format(-2.89))\n",
        "#    print(\"Valor estadistico de ADF: {}\\n\".format(valor_estadistico_adf))\n",
        "    \n",
        "#   print(\"Nivel de significación para tomar la serie como estacionaria {}\".format(0.05))\n",
        "#    print(\"p-valor: {}\\n\".format(p_valor))\n",
        "    "
      ],
      "metadata": {
        "id": "WSNK3H2aiBtN"
      },
      "execution_count": null,
      "outputs": []
    },
    {
      "cell_type": "markdown",
      "source": [
        "Una vez agrupados los diferentes datasets, podemos llamarlos para trabajar con ellos cambiando el nombre en \"file_name_uni\". \n",
        "\n",
        "*Aunque considero que esto podría ser el principio de un notebook nuevo.* "
      ],
      "metadata": {
        "id": "n6m4Hqpe9NRn"
      }
    },
    {
      "cell_type": "code",
      "source": [
        "path = '/content/drive/MyDrive/Colab Notebooks/Agrupados/'\n",
        "file_name_uni =\"CERDANYOLA.csv\"\n",
        "files = glob.glob(path + file_name_uni)\n",
        "\n",
        "for f in files:\n",
        "    # get filename\n",
        "    stock = os.path.basename(f)\n",
        "    # read in csv\n",
        "    temp_df = pd.read_csv(f)"
      ],
      "metadata": {
        "id": "DZgLZeeK511-"
      },
      "execution_count": null,
      "outputs": []
    },
    {
      "cell_type": "code",
      "source": [
        "temp_df.head(5)"
      ],
      "metadata": {
        "id": "E6If86mS69XL"
      },
      "execution_count": null,
      "outputs": []
    },
    {
      "cell_type": "code",
      "source": [
        "path = '/content/drive/MyDrive/Colab Notebooks/Agrupados/'\n",
        "file_extension = '*.csv'\n",
        "\n",
        "\n",
        "files_path = glob.glob(path + file_extension)\n",
        "files_path = [file.split(\"/\")[-1] for file in files_path]\n",
        "\n",
        "for file in files_path:\n",
        "    df = pd.read_csv(path + file)\n",
        "    plt.plot(df['FECHA'], df['CONSUMO'])\n",
        "    plt.xlabel('Column X')\n",
        "    plt.ylabel('Column Y')\n",
        "    plt.title(file + ' Plot of Column X vs Column Y')\n",
        "    plt.show()"
      ],
      "metadata": {
        "id": "4KzJFw3tXyMH"
      },
      "execution_count": null,
      "outputs": []
    }
  ]
}